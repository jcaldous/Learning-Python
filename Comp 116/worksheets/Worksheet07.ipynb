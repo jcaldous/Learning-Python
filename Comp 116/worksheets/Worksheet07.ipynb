{
 "cells": [
  {
   "cell_type": "markdown",
   "metadata": {},
   "source": [
    "# Worksheet07\n",
    "\n",
    "This is for your joy, amusement, and edification. Don't think of it as an assignment. Think of it as a chance to exercise your skills. \n",
    "\n",
    "You may collaborate with friends, refer to notes, search the web, or use any other resources as you work on the problems below.\n",
    "\n",
    "Relevant notes are from October 11th"
   ]
  },
  {
   "cell_type": "markdown",
   "metadata": {},
   "source": [
    "Run the following cell to set everything up."
   ]
  },
  {
   "cell_type": "code",
   "execution_count": 1,
   "metadata": {
    "collapsed": true
   },
   "outputs": [],
   "source": [
    "import numpy as np"
   ]
  },
  {
   "cell_type": "markdown",
   "metadata": {},
   "source": [
    "#### For loops"
   ]
  },
  {
   "cell_type": "markdown",
   "metadata": {},
   "source": [
    "1) Print \"Hello\" 5 times using a for loop"
   ]
  },
  {
   "cell_type": "code",
   "execution_count": 2,
   "metadata": {},
   "outputs": [
    {
     "data": {
      "text/plain": [
       "'HelloHelloHelloHelloHello'"
      ]
     },
     "execution_count": 2,
     "metadata": {},
     "output_type": "execute_result"
    }
   ],
   "source": [
    "# write your code here\n",
    "def FiveTimes(x,N):\n",
    "    r=0\n",
    "    for i in range(N):\n",
    "        r= x*N\n",
    "    return r\n",
    "FiveTimes(\"Hello\",5)\n",
    "# starts with for i in range(some number N):\n",
    "# whatever you put in the body of the for loop will be executed N times\n",
    "# what do you want to put in the body of the for loop\n",
    "\n"
   ]
  },
  {
   "cell_type": "markdown",
   "metadata": {},
   "source": [
    "2) Execute the following code 10 times using a for loop: \"total = 2*total + 1\". I'll print the total at the end for you."
   ]
  },
  {
   "cell_type": "code",
   "execution_count": 3,
   "metadata": {},
   "outputs": [
    {
     "name": "stdout",
     "output_type": "stream",
     "text": [
      "2047\n"
     ]
    }
   ],
   "source": [
    "# setup\n",
    "total = 1\n",
    "for i in range (10):\n",
    "    total=2*total+1\n",
    "        \n",
    "\n",
    "# write your code here \n",
    "\n",
    "\n",
    "# printing total\n",
    "print(total)"
   ]
  },
  {
   "cell_type": "markdown",
   "metadata": {},
   "source": [
    "I got 2047"
   ]
  },
  {
   "cell_type": "markdown",
   "metadata": {},
   "source": [
    "3) Print the values of 1-3 using a for loop. That is, write a for loop that does the same thing as:\n",
    "\n",
    "print(1) \n",
    "\n",
    "print(2) \n",
    "\n",
    "print(3)\n",
    "\n",
    "* Hint: If you have a variable that iterates over the values of 1,2, and 3, you can just print that variable"
   ]
  },
  {
   "cell_type": "code",
   "execution_count": 4,
   "metadata": {},
   "outputs": [
    {
     "data": {
      "text/plain": [
       "'1 2 3'"
      ]
     },
     "execution_count": 4,
     "metadata": {},
     "output_type": "execute_result"
    }
   ],
   "source": [
    "# write your code here\n",
    "def printing(x):\n",
    "    return x\n",
    "printing('1 2 3')\n"
   ]
  },
  {
   "cell_type": "markdown",
   "metadata": {},
   "source": [
    "4) Add the value of the index to the x and y values of the cooridinates in coords. For example, coords[1] is (2,3) and we want to turn that into (2+1,3+1) = (3,4) since the value of the index is 1. I'll print coords for you."
   ]
  },
  {
   "cell_type": "code",
   "execution_count": 5,
   "metadata": {},
   "outputs": [
    {
     "data": {
      "text/plain": [
       "array([3, 4])"
      ]
     },
     "execution_count": 5,
     "metadata": {},
     "output_type": "execute_result"
    }
   ],
   "source": [
    "coords = np.array([(1,2),(2,3),(3,4)])\n",
    "coords[1]+int(np.diff(coords[1]))"
   ]
  },
  {
   "cell_type": "code",
   "execution_count": 6,
   "metadata": {},
   "outputs": [
    {
     "name": "stdout",
     "output_type": "stream",
     "text": [
      "[array([1, 2]), array([3, 4]), array([5, 6])]\n"
     ]
    }
   ],
   "source": [
    "# Setting up coords \n",
    "coords = np.array([(1,2),(2,3),(3,4)])\n",
    "r=[]\n",
    "for i in range(len(coords)):\n",
    "    r.append(coords[i]+i)\n",
    "\n",
    "# write your code here\n",
    "print(r)\n",
    "# printing coords\n"
   ]
  },
  {
   "cell_type": "markdown",
   "metadata": {},
   "source": [
    "I got \n",
    "\n",
    "[[1 2]\n",
    "\n",
    "[3 4]\n",
    " \n",
    "[5 6]]"
   ]
  },
  {
   "cell_type": "markdown",
   "metadata": {},
   "source": [
    "#### Nested for loops"
   ]
  },
  {
   "cell_type": "markdown",
   "metadata": {},
   "source": [
    "5) Read this code and think about what will be printed. Run it and see if it matches your expectation."
   ]
  },
  {
   "cell_type": "code",
   "execution_count": 7,
   "metadata": {},
   "outputs": [
    {
     "name": "stdout",
     "output_type": "stream",
     "text": [
      "i = 0\n",
      "j = 0\n",
      "j = 1\n",
      "j = 2\n",
      "j = 3\n",
      "j = 4\n",
      "\n",
      "\n",
      "i = 1\n",
      "j = 0\n",
      "j = 1\n",
      "j = 2\n",
      "j = 3\n",
      "j = 4\n",
      "\n",
      "\n",
      "i = 2\n",
      "j = 0\n",
      "j = 1\n",
      "j = 2\n",
      "j = 3\n",
      "j = 4\n",
      "\n",
      "\n"
     ]
    }
   ],
   "source": [
    "for i in range(3):\n",
    "    print('i = %d' %(i)) # print the value of i\n",
    "    for j in range(5):\n",
    "        print('j = %d' %(j)) # print the value of j\n",
    "    print('\\n') # leave a blank line before the next execution of i-loop"
   ]
  },
  {
   "cell_type": "markdown",
   "metadata": {},
   "source": [
    "6) Run this code (you don't have to understant the print statements, just look at how i and j are behaving)"
   ]
  },
  {
   "cell_type": "code",
   "execution_count": 8,
   "metadata": {},
   "outputs": [
    {
     "name": "stdout",
     "output_type": "stream",
     "text": [
      "This is execution 1 of this print statememt\n",
      "i is 0 and j is 0\n",
      "(0, 0)\n",
      "\n",
      "\n",
      "This is execution 2 of this print statememt\n",
      "i is 0 and j is 1\n",
      "(0, 1)\n",
      "\n",
      "\n",
      "This is execution 3 of this print statememt\n",
      "i is 0 and j is 2\n",
      "(0, 2)\n",
      "\n",
      "\n",
      "This is execution 4 of this print statememt\n",
      "i is 1 and j is 0\n",
      "(1, 0)\n",
      "\n",
      "\n",
      "This is execution 5 of this print statememt\n",
      "i is 1 and j is 1\n",
      "(1, 1)\n",
      "\n",
      "\n",
      "This is execution 6 of this print statememt\n",
      "i is 1 and j is 2\n",
      "(1, 2)\n",
      "\n",
      "\n"
     ]
    }
   ],
   "source": [
    "N = 2\n",
    "M = 3\n",
    "\n",
    "for i in range(N): \n",
    "    #All of the following code is in the body of the for loop iterating over the values of range(N) so it runs N times\n",
    "    \n",
    "    for j in range(M):\n",
    "        \n",
    "        #All of the following code is in the body of the for loop iterating over the values of range(M)\n",
    "        #Thus, it runs M times\n",
    "        #However, since its in the body of the outer for loop which runs N times\n",
    "        #The following code runs N*M times (do you see why?)\n",
    "        \n",
    "        print(\"This is execution %d of this print statememt\" %(i*M + j + 1)) #Don't worry about how this line works\n",
    "        print(\"i is %d and j is %d\" %(i,j)) #Just printing what the values of i and j are\n",
    "        \n",
    "        \n",
    "        #Just pay attention to this line\n",
    "        print(str((i,j)))\n",
    "        print('\\n')"
   ]
  },
  {
   "cell_type": "markdown",
   "metadata": {},
   "source": [
    "Think about why j increases first. Notice how this code gives you every permutation between the values (0,1) and (0,1,2). That is, (0,0) (0,1) (0,2) (1,0) (1,1) (1,2). Feel free to change the values of N and M to see you that changes the output."
   ]
  },
  {
   "cell_type": "markdown",
   "metadata": {},
   "source": [
    "7) Recall the `coords` in Question 4. After your modification, it consists of three pairs of distinct numbers: [1 2], [3 4] and [5 6]."
   ]
  },
  {
   "cell_type": "code",
   "execution_count": 9,
   "metadata": {},
   "outputs": [
    {
     "name": "stdout",
     "output_type": "stream",
     "text": [
      "[array([1, 2]), array([3, 4]), array([5, 6])]\n"
     ]
    }
   ],
   "source": [
    "print(r)"
   ]
  },
  {
   "cell_type": "markdown",
   "metadata": {},
   "source": [
    "Now among the three pairs, we want to choose two of them. Use nested loop to print every possible result in such selection.\n",
    "\n",
    "You anwer should look like:\n",
    "\n",
    "Output 1: [1 2] [1 2]\n",
    "\n",
    "Output 2: [1 2] [3 4]\n",
    "\n",
    "Output 3: [1 2] [5 6]\n",
    "\n",
    "\n",
    "\n",
    "\n",
    "Output 4: [3 4] [1 2]\n",
    "\n",
    "Output 5: [3 4] [3 4]\n",
    "\n",
    "Output 6: [3 4] [5 6]\n",
    "\n",
    "\n",
    "\n",
    "\n",
    "Output 7: [5 6] [1 2]\n",
    "\n",
    "Output 8: [5 6] [3 4]\n",
    "\n",
    "Output 9: [5 6] [5 6]"
   ]
  },
  {
   "cell_type": "code",
   "execution_count": 10,
   "metadata": {},
   "outputs": [
    {
     "data": {
      "text/plain": [
       "array([1, 2])"
      ]
     },
     "execution_count": 10,
     "metadata": {},
     "output_type": "execute_result"
    }
   ],
   "source": [
    "coords[0]"
   ]
  },
  {
   "cell_type": "code",
   "execution_count": 11,
   "metadata": {},
   "outputs": [
    {
     "name": "stdout",
     "output_type": "stream",
     "text": [
      "[1 2] [1 2]\n",
      "[1 2] [3 4]\n",
      "[1 2] [5 6]\n",
      "[3 4] [1 2]\n",
      "[3 4] [3 4]\n",
      "[3 4] [5 6]\n",
      "[5 6] [1 2]\n",
      "[5 6] [3 4]\n",
      "[5 6] [5 6]\n"
     ]
    }
   ],
   "source": [
    "# write your code here\n",
    "for i in range(len(r)):\n",
    "    for j in range(len(r)):\n",
    "        print(r[i], r[j])"
   ]
  },
  {
   "cell_type": "markdown",
   "metadata": {},
   "source": [
    "When you run the cell below you should get a **Submit this notebook** button. Click that button, login, and your notebook should be recorded."
   ]
  },
  {
   "cell_type": "code",
   "execution_count": 12,
   "metadata": {},
   "outputs": [
    {
     "data": {
      "text/html": [
       "\n",
       "<p>Click the button below to submit your notebook. Watch for a confirmation message\n",
       "that your notebook was successfully uploaded. You may submit as often as you wish,\n",
       "only the last submission will count.</p>\n",
       "<button id=\"submitButton116\">Submit this notebook</button>\n",
       "<p id=\"submitResponse116\"></p>\n",
       "<script>\n",
       "var site = 'https://wwwx.cs.unc.edu/Courses/comp116-f17/';\n",
       "$('#submitButton116').on('click', function() {\n",
       "    var site = 'https://wwwx.cs.unc.edu/Courses/comp116-f17/',\n",
       "        $sresp = $('#submitResponse116'),\n",
       "        button = $('#submitButton116');\n",
       "    button.prop('disabled', true);\n",
       "    // wait until save is complete before pushing the notebook\n",
       "    $([IPython.events]).one('notebook_saved.Notebook', function() {\n",
       "        // get the token by logging in\n",
       "        $sresp.html('logging in');\n",
       "        $.ajax({\n",
       "            url: site + 'io/token/token.cgi',\n",
       "            dataType: 'jsonp'\n",
       "        }).done(function(data) {\n",
       "            var notebook = IPython.notebook.notebook_name,\n",
       "                uuid = data.token,\n",
       "                command = \"comp116.pushNotebook('\" + notebook + \"', '\" + uuid + \"')\",\n",
       "                kernel = IPython.notebook.kernel,\n",
       "                handler = function (out) {\n",
       "                    $('#comp116-stop-message').show();\n",
       "                    if (out.content.status == \"ok\") {\n",
       "                        $sresp.html(\"Successfully submitted \" + notebook);\n",
       "                        $('#comp116-stop-message').hide();\n",
       "                    } else if(out.content.status == \"error\") {\n",
       "                        $sresp.html(out.content.ename + \": \" + out.content.evalue);\n",
       "                    } else { // if output is something we haven't thought of\n",
       "                        $sresp.html(\"[out type not implemented]\")\n",
       "                    }\n",
       "                    button.prop('disabled', false);\n",
       "                };\n",
       "            $sresp.html('Submitting');\n",
       "            kernel.execute(command, {shell: { reply: handler }});\n",
       "        }).fail(function() {\n",
       "            $sresp.html('Login failed');\n",
       "            button.prop('disabled', false);\n",
       "        });\n",
       "    });\n",
       "    // trigger the save\n",
       "    $sresp.html('Saving');\n",
       "    IPython.notebook.save_notebook();\n",
       "});"
      ],
      "text/plain": [
       "<IPython.core.display.HTML object>"
      ]
     },
     "execution_count": 12,
     "metadata": {},
     "output_type": "execute_result"
    }
   ],
   "source": [
    "# do not change the code below\n",
    "import comp116\n",
    "\n",
    "comp116.submit('ws7')"
   ]
  },
  {
   "cell_type": "code",
   "execution_count": null,
   "metadata": {
    "collapsed": true
   },
   "outputs": [],
   "source": []
  }
 ],
 "metadata": {
  "anaconda-cloud": {},
  "kernelspec": {
   "display_name": "Python 3",
   "language": "python",
   "name": "python3"
  },
  "language_info": {
   "codemirror_mode": {
    "name": "ipython",
    "version": 3
   },
   "file_extension": ".py",
   "mimetype": "text/x-python",
   "name": "python",
   "nbconvert_exporter": "python",
   "pygments_lexer": "ipython3",
   "version": "3.6.1"
  }
 },
 "nbformat": 4,
 "nbformat_minor": 2
}
