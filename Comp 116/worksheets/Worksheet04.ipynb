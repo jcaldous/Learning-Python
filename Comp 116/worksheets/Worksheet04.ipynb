{
 "cells": [
  {
   "cell_type": "markdown",
   "metadata": {},
   "source": [
    "# Worksheet04\n",
    "\n",
    "This is for your joy, amusement, and edification. Don't think of it as an assignment. Think of it as a chance to exercise your skills. \n",
    "\n",
    "You may collaborate with friends, refer to notes, search the web, or use any other resources as you work on the problems below.\n",
    "\n",
    "Relevant notes are from September 6th."
   ]
  },
  {
   "cell_type": "markdown",
   "metadata": {},
   "source": [
    "Run the following cell to set everything up."
   ]
  },
  {
   "cell_type": "code",
   "execution_count": 1,
   "metadata": {},
   "outputs": [
    {
     "name": "stdout",
     "output_type": "stream",
     "text": [
      "[[[ 27  14  19  32  28   0  19]\n",
      "  [  8   8  14  11  24  17  11]\n",
      "  [ 14  13  24   7  13   1 -15]\n",
      "  [ 16  18   2  32  -4  10   8]]\n",
      "\n",
      " [[ 25  24  11  13   1  -9   6]\n",
      "  [ 11  22  22   6   6   0  -4]\n",
      "  [ -7  29   4   5  -2  17  -6]\n",
      "  [  7   1  13   4  -1   9  14]]]\n"
     ]
    }
   ],
   "source": [
    "%matplotlib inline\n",
    "import numpy as np\n",
    "import pylab\n",
    "\n",
    "#This makes your data\n",
    "np.random.seed(0)\n",
    "A = np.array((np.random.randn(12, 4, 7)*10)+10,dtype = int)\n",
    "print(A[:2,:,:]) #Here is the data for the first two months"
   ]
  },
  {
   "cell_type": "markdown",
   "metadata": {},
   "source": [
    "`A` : a 12&Cross;4&Cross;7 array representing the revenue of a frozen banana stand (in dollars) everyday for a year\n",
    "* A[i,j,k] gives the revenue for the i th month, j th week, and k th day\n",
    "* The months start at January\n",
    "* The week starts on Sunday\n",
    "* A[i,j,0] gives the revenue for the Sunday of the ith month and jth week\n",
    "* A[2,3,4] gives the the revenue for the Thursday of the third week of February"
   ]
  },
  {
   "cell_type": "markdown",
   "metadata": {},
   "source": [
    "1) Find the minimum revenue in the dataset"
   ]
  },
  {
   "cell_type": "code",
   "execution_count": 2,
   "metadata": {},
   "outputs": [
    {
     "data": {
      "text/plain": [
       "-17"
      ]
     },
     "execution_count": 2,
     "metadata": {},
     "output_type": "execute_result"
    }
   ],
   "source": [
    "# write your code here\n",
    "np.min(A)"
   ]
  },
  {
   "cell_type": "markdown",
   "metadata": {},
   "source": [
    "I got -17"
   ]
  },
  {
   "cell_type": "markdown",
   "metadata": {},
   "source": [
    "2) Find the sum of all the revenue on Tuesdays."
   ]
  },
  {
   "cell_type": "code",
   "execution_count": 3,
   "metadata": {},
   "outputs": [
    {
     "data": {
      "text/plain": [
       "537"
      ]
     },
     "execution_count": 3,
     "metadata": {},
     "output_type": "execute_result"
    }
   ],
   "source": [
    "# write your code here\n",
    "(A[:,:,2])\n",
    "np.sum((A[:,:,2]))"
   ]
  },
  {
   "cell_type": "markdown",
   "metadata": {},
   "source": [
    "I got 537"
   ]
  },
  {
   "cell_type": "markdown",
   "metadata": {},
   "source": [
    "3) Find the maximum revenue for any given week"
   ]
  },
  {
   "cell_type": "code",
   "execution_count": 4,
   "metadata": {},
   "outputs": [
    {
     "data": {
      "text/plain": [
       "139"
      ]
     },
     "execution_count": 4,
     "metadata": {},
     "output_type": "execute_result"
    }
   ],
   "source": [
    "# write your code here\n",
    "# Step 1: find the total revenue for each week\n",
    "MAX=np.sum(A, axis=2)\n",
    "# Step 2: from the total revenue for each week, find the maximum\n",
    "np.max(MAX)"
   ]
  },
  {
   "cell_type": "markdown",
   "metadata": {},
   "source": [
    "I got 139"
   ]
  },
  {
   "cell_type": "markdown",
   "metadata": {},
   "source": [
    "4) Find the minimum revenue for any given month"
   ]
  },
  {
   "cell_type": "code",
   "execution_count": 5,
   "metadata": {},
   "outputs": [
    {
     "data": {
      "text/plain": [
       "181"
      ]
     },
     "execution_count": 5,
     "metadata": {},
     "output_type": "execute_result"
    }
   ],
   "source": [
    "# write your code here\n",
    "MAX=np.sum(A, axis=1)\n",
    "MAX2=np.sum(MAX, axis=1)\n",
    "MAX2\n",
    "np.min(MAX2)"
   ]
  },
  {
   "cell_type": "markdown",
   "metadata": {},
   "source": [
    "I got 181"
   ]
  },
  {
   "cell_type": "markdown",
   "metadata": {},
   "source": [
    "5) Plot the average revenue for each week for the last 4 months and create a legend labeling each line 1-4"
   ]
  },
  {
   "cell_type": "code",
   "execution_count": 6,
   "metadata": {},
   "outputs": [
    {
     "data": {
      "text/plain": [
       "<matplotlib.legend.Legend at 0x10f211240>"
      ]
     },
     "execution_count": 6,
     "metadata": {},
     "output_type": "execute_result"
    },
    {
     "data": {
      "image/png": "[encoded data removed]",
      "text/plain": [
       "<matplotlib.figure.Figure at 0x10f211358>"
      ]
     },
     "metadata": {},
     "output_type": "display_data"
    }
   ],
   "source": [
    "# write your code here\n",
    "# Step 1: compute the mean for each week\n",
    "LM=A[8:,:,:]\n",
    "Mean=np.mean(LM, axis=2)\n",
    "# Step 3: plot the data\n",
    "pylab.plot(Mean)\n",
    "# Step 4: create a legend\n",
    "pylab.legend(['1','2','3','4'])"
   ]
  },
  {
   "cell_type": "markdown",
   "metadata": {},
   "source": [
    "When you run the cell below you should get a **Submit this notebook** button. Click that button, login, and your notebook should be recorded."
   ]
  },
  {
   "cell_type": "code",
   "execution_count": 7,
   "metadata": {},
   "outputs": [
    {
     "data": {
      "text/html": [
       "\n",
       "<p>Click the button below to submit your notebook. Watch for a confirmation message\n",
       "that your notebook was successfully uploaded. You may submit as often as you wish,\n",
       "only the last submission will count.</p>\n",
       "<button id=\"submitButton116\">Submit this notebook</button>\n",
       "<p id=\"submitResponse116\"></p>\n",
       "<script>\n",
       "var site = 'https://wwwx.cs.unc.edu/Courses/comp116-f17/';\n",
       "$('#submitButton116').on('click', function() {\n",
       "    var site = 'https://wwwx.cs.unc.edu/Courses/comp116-f17/',\n",
       "        $sresp = $('#submitResponse116'),\n",
       "        button = $('#submitButton116');\n",
       "    button.prop('disabled', true);\n",
       "    // wait until save is complete before pushing the notebook\n",
       "    $([IPython.events]).one('notebook_saved.Notebook', function() {\n",
       "        // get the token by logging in\n",
       "        $sresp.html('logging in');\n",
       "        $.ajax({\n",
       "            url: site + 'io/token/token.cgi',\n",
       "            dataType: 'jsonp'\n",
       "        }).done(function(data) {\n",
       "            var notebook = IPython.notebook.notebook_name,\n",
       "                uuid = data.token,\n",
       "                command = \"comp116.pushNotebook('\" + notebook + \"', '\" + uuid + \"')\",\n",
       "                kernel = IPython.notebook.kernel,\n",
       "                handler = function (out) {\n",
       "                    $('#comp116-stop-message').show();\n",
       "                    if (out.content.status == \"ok\") {\n",
       "                        $sresp.html(\"Successfully submitted \" + notebook);\n",
       "                        $('#comp116-stop-message').hide();\n",
       "                    } else if(out.content.status == \"error\") {\n",
       "                        $sresp.html(out.content.ename + \": \" + out.content.evalue);\n",
       "                    } else { // if output is something we haven't thought of\n",
       "                        $sresp.html(\"[out type not implemented]\")\n",
       "                    }\n",
       "                    button.prop('disabled', false);\n",
       "                };\n",
       "            $sresp.html('Submitting');\n",
       "            kernel.execute(command, {shell: { reply: handler }});\n",
       "        }).fail(function() {\n",
       "            $sresp.html('Login failed');\n",
       "            button.prop('disabled', false);\n",
       "        });\n",
       "    });\n",
       "    // trigger the save\n",
       "    $sresp.html('Saving');\n",
       "    IPython.notebook.save_notebook();\n",
       "});"
      ],
      "text/plain": [
       "<IPython.core.display.HTML object>"
      ]
     },
     "execution_count": 7,
     "metadata": {},
     "output_type": "execute_result"
    }
   ],
   "source": [
    "# do not change the code below\n",
    "import comp116\n",
    "\n",
    "comp116.submit('ws4')"
   ]
  },
  {
   "cell_type": "code",
   "execution_count": null,
   "metadata": {
    "collapsed": true
   },
   "outputs": [],
   "source": []
  }
 ],
 "metadata": {
  "anaconda-cloud": {},
  "kernelspec": {
   "display_name": "Python 3",
   "language": "python",
   "name": "python3"
  },
  "language_info": {
   "codemirror_mode": {
    "name": "ipython",
    "version": 3
   },
   "file_extension": ".py",
   "mimetype": "text/x-python",
   "name": "python",
   "nbconvert_exporter": "python",
   "pygments_lexer": "ipython3",
   "version": "3.6.1"
  }
 },
 "nbformat": 4,
 "nbformat_minor": 2
}
