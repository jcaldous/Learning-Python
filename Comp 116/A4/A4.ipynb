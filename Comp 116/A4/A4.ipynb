{
 "cells": [
  {
   "cell_type": "markdown",
   "metadata": {},
   "source": [
    "# Assignment 4 Estimating Statistical Significance\n",
    "\n",
    "**Due 8 November by 11:59:59PM **\n",
    "\n",
    "This NASA post, <a href=\"http://www.nasa.gov/topics/earth/features/midweek_rainfall.html\">NASA Data Link Pollution to Rainy Summer Days in the Southeast</a>, claims that in the southeastern US it rains more Tuesday through Thursday than it does Saturday through Monday. The presence of a seven-day cycle in the weather is \"eerie\" evidence that human activity influences the weather.\n",
    "\n",
    "Your mission in this assignment is to see if you can validate their claim using data from the instruments at RDU airport. To quote from the article:\n",
    "\n",
    ">Rainfall measurements collected from ground-based gauges can vary from one gauge site to the next because of fickle weather patterns. So, to identify any kind of significant weekly rainfall trend, Bell and colleagues looked at the big picture from Earth's orbit.\n",
    "\n",
    "We are not really equipped to confirm or refute their claim but we're in the southeast, and have some data, let's see what we can do.\n",
    "\n",
    "I have collected 10 years of data into a single file, `krdu-2001-2010.csv`, in a format suitable for use with np.loadtxt(). These data have 4 columns; year, month, day, and rainfall in inches.\n",
    "\n",
    "First, you should read these posts by Allen Downey:\n",
    "\n",
    "1. <a href=\"http://allendowney.blogspot.com/2011/05/there-is-only-one-test.html\">There is only one test!</a>\n",
    "2. <a href=\"http://allendowney.blogspot.com/2011/06/more-hypotheses-less-trivia.html\">More hypotheses, less trivia.</a> Pay special attention to the paragraph <b>Permutation</b> under <b>Difference in means</b>. You shouldn't use his code; write your own.\n",
    "\n",
    "## Learning objectives\n",
    "\n",
    "The goal of this assignment is to give you more experience writing functions with loops and to expose you to an important use of computers in science.\n",
    "\n",
    "## What to do\n",
    "\n",
    "1. Read the data.\n",
    "2. Determine the days of the week from the dates. (You can't just slice the array)\n",
    "3. Write a function to get the average daily rainfall during midweek (Tuesday through Thursday) and weekend (Saturday through Monday).\n",
    "4. Report the average rainfall for midweek and weekend, and their difference (delta). I provide a check for this so you can be sure you're on the right track.\n",
    "5. Determine and report the p value (the likelihood that the effect is not real) by simulation. You'll need to first, compute the delta which in our case is the difference between the means for midweek and weekend. Then you'll run the function many times, each time permuting the day labels, and counting the number of times that the difference between the new means is greater than delta. Now divide that count by the number of trials you ran. That will be the p value. If count is 0, that means you didn't find even a single permutation that produced a greater difference in means; the effect is very likely real. On the other hand, if count is huge, then there were many permutations that produced greater differences, so the difference is likely just random.\n"
   ]
  },
  {
   "cell_type": "markdown",
   "metadata": {},
   "source": [
    "## Tips\n",
    "\n",
    "**1)** The <a href=\"https://docs.python.org/3.5/library/datetime.html#datetime.date.weekday\"><b>weekday</b></a> method of the <b>date</b> class from the <b>datetime</b> module will be useful for getting the day of the week from the date. **Note:** The `weekday()` method returns `0` for Monday.\n",
    "\n",
    "The date class knows nothing about numpy so you'll need to use a loop to process all the days. Also your data will be floats but the date function insists on ints; you'll need to use the int() function to convert them to int. \n",
    "\n",
    "You use it like this:\n"
   ]
  },
  {
   "cell_type": "code",
   "execution_count": 24,
   "metadata": {},
   "outputs": [
    {
     "name": "stdout",
     "output_type": "stream",
     "text": [
      "2000-01-01 5 5\n"
     ]
    }
   ],
   "source": [
    "from datetime import date\n",
    "\n",
    "# later in your code when you want to determine the day of the week\n",
    "# you create a date object from a year, month, and day.\n",
    "# I'll fake up a year, month, and day so we can see it work\n",
    "year = 2000\n",
    "month = 1\n",
    "day = 1\n",
    "do = date(year, month, day)\n",
    "# and use its weekday method\n",
    "day1 = do.weekday()\n",
    "\n",
    "# or do it all in one step\n",
    "day2 = date(year, month, day).weekday()\n",
    "\n",
    "print(do, day1, day2)"
   ]
  },
  {
   "cell_type": "markdown",
   "metadata": {},
   "source": [
    "**2)** The <a href=\"http://docs.scipy.org/doc/numpy/reference/generated/numpy.random.permutation.html\"> `np.random.permutation`</a> function will be useful for permuting the data. You use it like this:"
   ]
  },
  {
   "cell_type": "code",
   "execution_count": 25,
   "metadata": {},
   "outputs": [
    {
     "data": {
      "text/plain": [
       "array([7, 1, 5, 6, 4, 2, 3, 0, 9, 8])"
      ]
     },
     "execution_count": 25,
     "metadata": {},
     "output_type": "execute_result"
    }
   ],
   "source": [
    "# first I'll create some array I want to shuffle.\n",
    "import numpy as np\n",
    "A = np.arange(10)\n",
    "B = np.random.permutation(A)\n",
    "B"
   ]
  },
  {
   "cell_type": "markdown",
   "metadata": {},
   "source": [
    "**3)** You'll need to use a loop to run your simulation many times. I found that 1000 trials gives a faily stable result and doesn't require too long to run (good for debugging). Feel free to play with larger numbers but **I will time limit your submissions and assume they failed if they require more than 30 seconds to run on my computer**. "
   ]
  },
  {
   "cell_type": "markdown",
   "metadata": {},
   "source": [
    "**4)** I confirmed my intuition about how this should work by tweaking the data. For example, if I add 0.1 inches of rain to every Tuesday, the p value drops to zero (very significant) but if I replace the rainfall with random numbers it rises to near 0.5 (not significant at all)."
   ]
  },
  {
   "cell_type": "markdown",
   "metadata": {},
   "source": [
    "## Checks\n",
    "\n",
    "Since I'm not writing a lot of code for you, I can't give you the usual super structured checks.  I'm going to give you some very general ones to help keep you on track. You'll be responsible for making sure you put your various results into the correct variable names."
   ]
  },
  {
   "cell_type": "code",
   "execution_count": 26,
   "metadata": {
    "collapsed": true
   },
   "outputs": [],
   "source": [
    "# fill in your onyen (not PID) here\n",
    "Author = 'jcaldous'\n",
    "Collaborators = []"
   ]
  },
  {
   "cell_type": "code",
   "execution_count": 27,
   "metadata": {
    "collapsed": true
   },
   "outputs": [],
   "source": [
    "# usual boilerplate\n",
    "%matplotlib inline\n",
    "import numpy as np\n",
    "import pylab\n",
    "from datetime import date\n",
    "import comp116\n",
    "check, report = comp116.start('A4')"
   ]
  },
  {
   "cell_type": "markdown",
   "metadata": {},
   "source": [
    "## Read the data\n",
    "\n",
    "First you should read the data. The delimiter is comma."
   ]
  },
  {
   "cell_type": "code",
   "execution_count": 28,
   "metadata": {},
   "outputs": [
    {
     "data": {
      "text/plain": [
       "array([[  2.00100000e+03,   1.00000000e+00,   1.00000000e+00,\n",
       "          0.00000000e+00],\n",
       "       [  2.00100000e+03,   1.00000000e+00,   2.00000000e+00,\n",
       "          0.00000000e+00],\n",
       "       [  2.00100000e+03,   1.00000000e+00,   3.00000000e+00,\n",
       "          0.00000000e+00],\n",
       "       ..., \n",
       "       [  2.01000000e+03,   1.20000000e+01,   2.90000000e+01,\n",
       "          0.00000000e+00],\n",
       "       [  2.01000000e+03,   1.20000000e+01,   3.00000000e+01,\n",
       "          0.00000000e+00],\n",
       "       [  2.01000000e+03,   1.20000000e+01,   3.10000000e+01,\n",
       "          0.00000000e+00]])"
      ]
     },
     "execution_count": 28,
     "metadata": {},
     "output_type": "execute_result"
    }
   ],
   "source": [
    "np.loadtxt('krdu-2001-2010.csv', delimiter=',')"
   ]
  },
  {
   "cell_type": "code",
   "execution_count": 29,
   "metadata": {},
   "outputs": [
    {
     "name": "stdout",
     "output_type": "stream",
     "text": [
      "1: data appears correct\n"
     ]
    }
   ],
   "source": [
    "# leave your result in data\n",
    "data = np.loadtxt('krdu-2001-2010.csv', delimiter=',') # replace with your code\n",
    "\n",
    "check('1: data', data, points=10)"
   ]
  },
  {
   "cell_type": "code",
   "execution_count": 30,
   "metadata": {},
   "outputs": [
    {
     "data": {
      "text/plain": [
       "array([[  2.00100000e+03,   1.00000000e+00,   2.60000000e+01,\n",
       "          0.00000000e+00],\n",
       "       [  2.00100000e+03,   1.00000000e+00,   2.70000000e+01,\n",
       "          0.00000000e+00],\n",
       "       [  2.00100000e+03,   1.00000000e+00,   2.80000000e+01,\n",
       "          0.00000000e+00],\n",
       "       [  2.00100000e+03,   1.00000000e+00,   2.90000000e+01,\n",
       "          0.00000000e+00],\n",
       "       [  2.00100000e+03,   1.00000000e+00,   3.00000000e+01,\n",
       "          3.11000000e-01],\n",
       "       [  2.00100000e+03,   1.00000000e+00,   3.10000000e+01,\n",
       "          0.00000000e+00],\n",
       "       [  2.00100000e+03,   2.00000000e+00,   1.00000000e+00,\n",
       "          0.00000000e+00],\n",
       "       [  2.00100000e+03,   2.00000000e+00,   2.00000000e+00,\n",
       "          0.00000000e+00],\n",
       "       [  2.00100000e+03,   2.00000000e+00,   3.00000000e+00,\n",
       "          0.00000000e+00],\n",
       "       [  2.00100000e+03,   2.00000000e+00,   4.00000000e+00,\n",
       "          2.08700000e-01],\n",
       "       [  2.00100000e+03,   2.00000000e+00,   5.00000000e+00,\n",
       "          9.84300000e-02]])"
      ]
     },
     "execution_count": 30,
     "metadata": {},
     "output_type": "execute_result"
    }
   ],
   "source": [
    "data[25:36,:]"
   ]
  },
  {
   "cell_type": "markdown",
   "metadata": {},
   "source": [
    "## Compute the day of the week\n",
    "\n",
    "Then work out the day of the week for each date (0 is Monday)"
   ]
  },
  {
   "cell_type": "code",
   "execution_count": 31,
   "metadata": {},
   "outputs": [
    {
     "data": {
      "text/plain": [
       "array([0, 1, 2, ..., 2, 3, 4])"
      ]
     },
     "execution_count": 31,
     "metadata": {},
     "output_type": "execute_result"
    }
   ],
   "source": [
    "r=[]\n",
    "for i in range(len(data)):\n",
    "    year= data[i,0]\n",
    "    month= data[i,1]\n",
    "    day= data[i,2]\n",
    "    do = date(int(year), int(month), int(day))\n",
    "    r.append(do.weekday())\n",
    "np.array(r)"
   ]
  },
  {
   "cell_type": "code",
   "execution_count": 32,
   "metadata": {},
   "outputs": [
    {
     "name": "stdout",
     "output_type": "stream",
     "text": [
      "3652 [0 1 2 ..., 2 3 4]\n",
      "2: days of week appears correct\n"
     ]
    }
   ],
   "source": [
    "# leave your result in dayOfWeek\n",
    "r=[]\n",
    "for i in range(len(data)):\n",
    "    year= data[i,0]\n",
    "    month= data[i,1]\n",
    "    day= data[i,2]\n",
    "    do = date(int(year), int(month), int(day))\n",
    "    r.append(do.weekday())\n",
    "dayOfWeek = np.array(r)\n",
    "# put your code here\n",
    "\n",
    "print(len(dayOfWeek), dayOfWeek)\n",
    "\n",
    "check('2: days of week', dayOfWeek, points=20)"
   ]
  },
  {
   "cell_type": "markdown",
   "metadata": {},
   "source": [
    "## Compute rainfall amounts\n",
    "\n",
    "Write a function that takes two arguments, an array of day numbers and\n",
    "an array of rainfall amounts and returns the midweek and weekend rain as\n",
    "defined by the NASA researchers. Remember you can return multiple results\n",
    "by packing them into a tuple.\n",
    "\n",
    "I **strongly recommend** using numpy array functions to group your days\n",
    "into midweek and weekend; looping is likely to be too slow when you\n",
    "call your function thousands of times in the next part.\n"
   ]
  },
  {
   "cell_type": "code",
   "execution_count": 33,
   "metadata": {},
   "outputs": [
    {
     "data": {
      "text/plain": [
       "167.1517299999997"
      ]
     },
     "execution_count": 33,
     "metadata": {},
     "output_type": "execute_result"
    }
   ],
   "source": [
    "midweek=0\n",
    "n=7\n",
    "for i in range(len(data)):\n",
    "    if (dayOfWeek[i]==5)|(dayOfWeek[i]==6)|(dayOfWeek[i]==0):\n",
    "        midweek= (midweek + data[i,3])\n",
    "midweek"
   ]
  },
  {
   "cell_type": "code",
   "execution_count": 34,
   "metadata": {},
   "outputs": [
    {
     "data": {
      "text/plain": [
       "167.15172999999999"
      ]
     },
     "execution_count": 34,
     "metadata": {},
     "output_type": "execute_result"
    }
   ],
   "source": [
    "d= data[(dayOfWeek>=5)&(dayOfWeek<=6)|(dayOfWeek==0)]\n",
    "f= d[:,3]\n",
    "np.sum(f)"
   ]
  },
  {
   "cell_type": "code",
   "execution_count": 35,
   "metadata": {},
   "outputs": [
    {
     "data": {
      "text/plain": [
       "0.10679646860167925"
      ]
     },
     "execution_count": 35,
     "metadata": {},
     "output_type": "execute_result"
    }
   ],
   "source": [
    "sumofend=np.sum(data[(dayOfWeek==5)|(dayOfWeek==6)|(dayOfWeek==0)], axis=0)\n",
    "end=sumofend[3]/(len(data)/7)\n",
    "end/3"
   ]
  },
  {
   "cell_type": "code",
   "execution_count": 36,
   "metadata": {},
   "outputs": [
    {
     "name": "stdout",
     "output_type": "stream",
     "text": [
      "It rained 0.12604408046 inches mid week\n",
      "It rained 0.106874507673 inches weekend\n",
      "Difference was 0.0191695727871 inches\n",
      "3: mid wk rain appears correct\n",
      "4: wk end rain appears correct\n",
      "5: difference appears correct\n"
     ]
    }
   ],
   "source": [
    "# Put the code for your function here\n",
    "def rainfall(days, rain):\n",
    "    WEEKEND=rain[(days==5)|(days==6)|(days==0)]\n",
    "    SumWEEKEND= np.sum(WEEKEND, axis=0)\n",
    "    MIDWEEK= rain[(days>=1)&(days<=3)]\n",
    "    SumMIDWEEK=np.sum(MIDWEEK, axis=0)\n",
    "    midwk1 = SumMIDWEEK[3]/len(MIDWEEK)\n",
    "    wkend1 = SumWEEKEND[3]/len(WEEKEND)\n",
    "    delta1 = midwk1 - wkend1\n",
    "    return [midwk1,wkend1,delta1]\n",
    "Function=rainfall(dayOfWeek,data)\n",
    "midwk=Function[0]\n",
    "wkend=Function[1]\n",
    "delta=Function[2]\n",
    "print('It rained', midwk, 'inches mid week')\n",
    "print('It rained', wkend, 'inches weekend')\n",
    "print('Difference was', delta, 'inches')\n",
    "\n",
    "check('3: mid wk rain', midwk, points=15)\n",
    "check('4: wk end rain', wkend, points=15)\n",
    "check('5: difference', delta, points=15)\n"
   ]
  },
  {
   "cell_type": "code",
   "execution_count": 37,
   "metadata": {},
   "outputs": [
    {
     "data": {
      "text/plain": [
       "[0.12604408045976992, 0.10687450767263408, 0.019169572787135838]"
      ]
     },
     "execution_count": 37,
     "metadata": {},
     "output_type": "execute_result"
    }
   ],
   "source": [
    "rainfall(dayOfWeek, data)"
   ]
  },
  {
   "cell_type": "markdown",
   "metadata": {},
   "source": [
    "## Test the null hypothesis\n",
    "\n",
    "Finally test the null hypothesis that the day labeling is random\n",
    "by running your function many times with different permutations of the days\n",
    "and counting how many times the difference between the means is greater than the delta\n",
    "you computed above."
   ]
  },
  {
   "cell_type": "code",
   "execution_count": null,
   "metadata": {
    "collapsed": true
   },
   "outputs": [],
   "source": []
  },
  {
   "cell_type": "code",
   "execution_count": 38,
   "metadata": {},
   "outputs": [
    {
     "data": {
      "text/plain": [
       "array([[  2.00600000e+03,   3.00000000e+00,   1.10000000e+01,\n",
       "          1.18100000e-02],\n",
       "       [  2.00200000e+03,   7.00000000e+00,   2.70000000e+01,\n",
       "          1.18100000e-02],\n",
       "       [  2.00400000e+03,   9.00000000e+00,   3.00000000e+01,\n",
       "          0.00000000e+00],\n",
       "       ..., \n",
       "       [  2.00500000e+03,   7.00000000e+00,   1.20000000e+01,\n",
       "          0.00000000e+00],\n",
       "       [  2.00800000e+03,   2.00000000e+00,   2.10000000e+01,\n",
       "          1.18100000e-02],\n",
       "       [  2.00800000e+03,   6.00000000e+00,   2.50000000e+01,\n",
       "          0.00000000e+00]])"
      ]
     },
     "execution_count": 38,
     "metadata": {},
     "output_type": "execute_result"
    }
   ],
   "source": [
    "np.random.seed(0)\n",
    "m=np.random.permutation(data)\n",
    "m"
   ]
  },
  {
   "cell_type": "code",
   "execution_count": 39,
   "metadata": {},
   "outputs": [
    {
     "name": "stdout",
     "output_type": "stream",
     "text": [
      "p = 0.0607\n",
      "6: p value appears correct\n"
     ]
    }
   ],
   "source": [
    "N = 10000  # number of trials, you can experiment with this\n",
    "count = 0 # number of permutations that produced greater difference\n",
    "np.random.seed(0)\n",
    "for i in range(N):\n",
    "    m=np.random.permutation(dayOfWeek)\n",
    "    A=rainfall(m,data)\n",
    "    dp=A[2]\n",
    "    if dp>delta:\n",
    "        count=count+1\n",
    "p = count/N  # your code should compute the probability in this variable\n",
    "\n",
    "# let's fix the starting point for random numbers to try to reduce the\n",
    "# variability from run to run. Of course, in a real simulation you wouldn't\n",
    "# do this but it should make grading easier.\n",
    "\n",
    "\n",
    "# Write your code here\n",
    "\n",
    "print('p =', p)\n",
    "\n",
    "# Note: because of the randomness your answer may be quite different\n",
    "# from the \"expected\" value below and still be correct. I have set\n",
    "# the tolerance pretty wide.\n",
    "\n",
    "check('6: p value', p, points=25, precision=1)"
   ]
  },
  {
   "cell_type": "markdown",
   "metadata": {},
   "source": [
    "## Results\n",
    "\n",
    "100,000 reps gives me a p-value of 0.06 with about 55 seconds of computation. Not quite significant by the common standard of 0.05. As I said earlier, we don't have enough data to test the hypothesis; the NASA guys used the entire southeast. "
   ]
  },
  {
   "cell_type": "markdown",
   "metadata": {},
   "source": [
    "## Done!\n",
    "\n",
    "Now get your report and submit your assignment."
   ]
  },
  {
   "cell_type": "code",
   "execution_count": 40,
   "metadata": {},
   "outputs": [
    {
     "name": "stdout",
     "output_type": "stream",
     "text": [
      "1: data appears correct\n",
      "2: days of week appears correct\n",
      "3: mid wk rain appears correct\n",
      "4: wk end rain appears correct\n",
      "5: difference appears correct\n",
      "6: p value appears correct\n",
      "Report for jcaldous\n",
      "  Collaborators: []\n",
      "  6.0 of 6 possibly correct for up to 100.0 of 100 points\n"
     ]
    },
    {
     "data": {
      "text/html": [
       "\n",
       "<p>Click the button below to submit your notebook. Watch for a confirmation message\n",
       "that your notebook was successfully uploaded. You may submit as often as you wish,\n",
       "only the last submission will count.</p>\n",
       "<button id=\"submitButton116\">Submit this notebook</button>\n",
       "<p id=\"submitResponse116\"></p>\n",
       "<script>\n",
       "var site = 'https://wwwx.cs.unc.edu/Courses/comp116-f17/';\n",
       "$('#submitButton116').on('click', function() {\n",
       "    var site = 'https://wwwx.cs.unc.edu/Courses/comp116-f17/',\n",
       "        $sresp = $('#submitResponse116'),\n",
       "        button = $('#submitButton116');\n",
       "    button.prop('disabled', true);\n",
       "    // wait until save is complete before pushing the notebook\n",
       "    $([IPython.events]).one('notebook_saved.Notebook', function() {\n",
       "        // get the token by logging in\n",
       "        $sresp.html('logging in');\n",
       "        $.ajax({\n",
       "            url: site + 'io/token/token.cgi',\n",
       "            dataType: 'jsonp'\n",
       "        }).done(function(data) {\n",
       "            var notebook = IPython.notebook.notebook_name,\n",
       "                uuid = data.token,\n",
       "                command = \"comp116.pushNotebook('\" + notebook + \"', '\" + uuid + \"')\",\n",
       "                kernel = IPython.notebook.kernel,\n",
       "                handler = function (out) {\n",
       "                    $('#comp116-stop-message').show();\n",
       "                    if (out.content.status == \"ok\") {\n",
       "                        $sresp.html(\"Successfully submitted \" + notebook);\n",
       "                        $('#comp116-stop-message').hide();\n",
       "                    } else if(out.content.status == \"error\") {\n",
       "                        $sresp.html(out.content.ename + \": \" + out.content.evalue);\n",
       "                    } else { // if output is something we haven't thought of\n",
       "                        $sresp.html(\"[out type not implemented]\")\n",
       "                    }\n",
       "                    button.prop('disabled', false);\n",
       "                };\n",
       "            $sresp.html('Submitting');\n",
       "            kernel.execute(command, {shell: { reply: handler }});\n",
       "        }).fail(function() {\n",
       "            $sresp.html('Login failed');\n",
       "            button.prop('disabled', false);\n",
       "        });\n",
       "    });\n",
       "    // trigger the save\n",
       "    $sresp.html('Saving');\n",
       "    IPython.notebook.save_notebook();\n",
       "});"
      ],
      "text/plain": [
       "<IPython.core.display.HTML object>"
      ]
     },
     "execution_count": 40,
     "metadata": {},
     "output_type": "execute_result"
    }
   ],
   "source": [
    "report(Author, Collaborators)"
   ]
  },
  {
   "cell_type": "code",
   "execution_count": null,
   "metadata": {
    "collapsed": true
   },
   "outputs": [],
   "source": []
  },
  {
   "cell_type": "code",
   "execution_count": null,
   "metadata": {
    "collapsed": true
   },
   "outputs": [],
   "source": []
  }
 ],
 "metadata": {
  "kernelspec": {
   "display_name": "Python 3",
   "language": "python",
   "name": "python3"
  },
  "language_info": {
   "codemirror_mode": {
    "name": "ipython",
    "version": 3
   },
   "file_extension": ".py",
   "mimetype": "text/x-python",
   "name": "python",
   "nbconvert_exporter": "python",
   "pygments_lexer": "ipython3",
   "version": "3.6.1"
  }
 },
 "nbformat": 4,
 "nbformat_minor": 1
}
