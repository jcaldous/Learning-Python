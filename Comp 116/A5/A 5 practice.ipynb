{
 "cells": [
  {
   "cell_type": "code",
   "execution_count": 1,
   "metadata": {
    "collapsed": true
   },
   "outputs": [],
   "source": [
    "%matplotlib inline\n",
    "import numpy as np\n",
    "import pylab\n",
    "import comp116\n",
    "\n",
    "check, report = comp116.start('A5')\n",
    "\n",
    "# I'll load the data for you and make it unwriteable to protect you. \n",
    "# Don't change this!\n",
    "with np.load('311.npz') as data:\n",
    "    Times = data['Times']\n",
    "    Times.flags.writeable = False\n",
    "    Requests = data['Requests']\n",
    "    Requests.flags.writeable = False\n",
    "    Locations = data['Locations']\n",
    "    Locations.flags.writeable = False\n",
    "    Coordinates = data['Coordinates']\n",
    "    Coordinates.flags.writeable = False"
   ]
  },
  {
   "cell_type": "markdown",
   "metadata": {},
   "source": [
    "## 4. Which complaints happened every day?\n",
    "Your result should be an alphabetical list of complaints that occur every day in the data. In other words, if there is even a single day without a particular complaint, that complaint should not be in your list. Each complaint should only be in the list once"
   ]
  },
  {
   "cell_type": "code",
   "execution_count": 90,
   "metadata": {},
   "outputs": [
    {
     "data": {
      "text/plain": [
       "{'Animal Abuse',\n",
       " 'Blocked Driveway',\n",
       " 'Derelict Vehicle',\n",
       " 'Drinking',\n",
       " 'Illegal Parking',\n",
       " 'Noise - Commercial',\n",
       " 'Noise - Park',\n",
       " 'Noise - Street/Sidewalk',\n",
       " 'Noise - Vehicle',\n",
       " 'Traffic',\n",
       " 'Vending'}"
      ]
     },
     "execution_count": 90,
     "metadata": {},
     "output_type": "execute_result"
    }
   ],
   "source": [
    "#how to make this a loop\n",
    "Day1= set()\n",
    "for i in range(len(Requests)):\n",
    "    if Times[i,0]==0:\n",
    "        Day1.add(Requests[i,0])\n",
    "Day2= set()\n",
    "for i in range(len(Requests)):\n",
    "    if Times[i,0]==1:\n",
    "        Day2.add(Requests[i,0])\n",
    "Day3= set()\n",
    "for i in range(len(Requests)):\n",
    "    if Times[i,0]==2:\n",
    "        Day3.add(Requests[i,0])\n",
    "Day1&Day2&Day3"
   ]
  },
  {
   "cell_type": "code",
   "execution_count": 91,
   "metadata": {},
   "outputs": [
    {
     "data": {
      "text/plain": [
       "(array(['Animal Abuse', 'Blocked Driveway', 'Derelict Vehicle', 'Drinking',\n",
       "        'Graffiti', 'Illegal Parking', 'Noise - Commercial',\n",
       "        'Noise - House Of Worship', 'Noise - Park',\n",
       "        'Noise - Street/Sidewalk', 'Noise - Vehicle',\n",
       "        'Posting Advertisement', 'Traffic', 'Vending'], \n",
       "       dtype='<U30'),\n",
       " array([  2, 171,  36,   2,   1, 134,  81,   2,   6,  45,  26,   1,   5,   4]))"
      ]
     },
     "execution_count": 91,
     "metadata": {},
     "output_type": "execute_result"
    }
   ],
   "source": [
    "A=set(Times[:,0])\n",
    "f=np.zeros(7)\n",
    "for n in range(0,np.max(Times)+1):\n",
    "        requests=np.unique(Requests[Times[:,0]==n][:,0],return_counts=True)\n",
    "requests"
   ]
  },
  {
   "cell_type": "code",
   "execution_count": 4,
   "metadata": {},
   "outputs": [
    {
     "data": {
      "text/plain": [
       "array(['Animal Abuse', 'Blocked Driveway', 'Derelict Vehicle',\n",
       "       'Disorderly Youth', 'Drinking', 'Graffiti', 'Illegal Parking',\n",
       "       'Noise - Commercial', 'Noise - House Of Worship', 'Noise - Park',\n",
       "       'Noise - Street/Sidewalk', 'Noise - Vehicle',\n",
       "       'Posting Advertisement', 'Traffic', 'Vending'], \n",
       "      dtype='<U30')"
      ]
     },
     "execution_count": 4,
     "metadata": {},
     "output_type": "execute_result"
    }
   ],
   "source": [
    "Day1= set()\n",
    "for i in range(len(Requests)):\n",
    "    if Times[i,0]==0:\n",
    "        Day1.add(Requests[i,0])"
   ]
  },
  {
   "cell_type": "code",
   "execution_count": 11,
   "metadata": {},
   "outputs": [
    {
     "data": {
      "text/plain": [
       "{25: 'Blocked Driveway'}"
      ]
     },
     "execution_count": 11,
     "metadata": {},
     "output_type": "execute_result"
    }
   ],
   "source": [
    "day0=set()\n",
    "for i in range(0,len(Times)):\n",
    "    D={}\n",
    "    D[Times[i,0]]=Requests[i,0]\n",
    "D"
   ]
  },
  {
   "cell_type": "code",
   "execution_count": 33,
   "metadata": {},
   "outputs": [],
   "source": []
  },
  {
   "cell_type": "markdown",
   "metadata": {},
   "source": [
    "## 7. Where are they drinking in the Bronx?\n",
    "Plot points at the coordinates of the requests with borough 'Bronx' and complaint 'Drinking'.\n",
    "Do not augment the plot in any way. No titles, etc."
   ]
  },
  {
   "cell_type": "code",
   "execution_count": 55,
   "metadata": {},
   "outputs": [],
   "source": [
    "r=[]\n",
    "q=[]\n",
    "Borough = 'Bronx'\n",
    "Complaint = 'Drinking'\n",
    "Bronx=Locations[:,1]==Borough\n",
    "Drinking=Requests[:,0]== Complaint\n",
    "r.append(Coordinates[Bronx])\n",
    "q.append(Coordinates[Drinking])\n"
   ]
  },
  {
   "cell_type": "code",
   "execution_count": 72,
   "metadata": {},
   "outputs": [
    {
     "data": {
      "text/plain": [
       "[<matplotlib.lines.Line2D at 0x10db03668>]"
      ]
     },
     "execution_count": 72,
     "metadata": {},
     "output_type": "execute_result"
    },
    {
     "data": {
      "image/png": "[encoded data removed]",
      "text/plain": [
       "<matplotlib.figure.Figure at 0x10d750ba8>"
      ]
     },
     "metadata": {},
     "output_type": "display_data"
    }
   ],
   "source": [
    "def both(lists,array,Coordinate):\n",
    "    empty=[]\n",
    "    for i in range(len(array)):\n",
    "        if lists[i]== True & array[i]==True:\n",
    "            empty.append(Coordinate[i])\n",
    "    return empty\n",
    "bars=np.array(both(Bronx,Drinking,Coordinates))\n",
    "xcoord=bars[:,0]\n",
    "ycoord=bars[:,1]\n",
    "pylab.plot(xcoord,ycoord,'.')"
   ]
  },
  {
   "cell_type": "markdown",
   "metadata": {},
   "source": [
    "## 11. How far will an inspector have to travel?\n",
    "How far will an inspector have to travel to visit, in the order they occurred, all of the coordinates with complaint 'Derelict Vehicle' and city 'Astoria'? That is, compute the sum of the distances between consecutive coordinates of these requests. Your answer will have the same units as the coordinates."
   ]
  },
  {
   "cell_type": "code",
   "execution_count": 87,
   "metadata": {},
   "outputs": [
    {
     "data": {
      "text/plain": [
       "array([[ 1000555.,   216481.],\n",
       "       [ 1009419.,   217255.],\n",
       "       [ 1003050.,   218168.],\n",
       "       [ 1008149.,   215201.],\n",
       "       [ 1009939.,   219704.],\n",
       "       [ 1008407.,   215615.],\n",
       "       [ 1006546.,   223118.],\n",
       "       [ 1004532.,   220988.],\n",
       "       [ 1001338.,   215758.],\n",
       "       [ 1011019.,   218867.],\n",
       "       [ 1001218.,   218462.],\n",
       "       [ 1003904.,   221701.],\n",
       "       [ 1007977.,   218381.]])"
      ]
     },
     "execution_count": 87,
     "metadata": {},
     "output_type": "execute_result"
    }
   ],
   "source": [
    "## finding coordinants\n",
    "complaints=Requests[:,0]=='Derelict Vehicle'\n",
    "cities=Locations[:,0]=='Astoria'\n",
    "coords=np.array(both(complaints,cities,Coordinates))\n",
    "coords\n",
    "##??"
   ]
  },
  {
   "cell_type": "code",
   "execution_count": 89,
   "metadata": {},
   "outputs": [
    {
     "data": {
      "text/plain": [
       "[8864.0,\n",
       " 6369.0,\n",
       " 5099.0,\n",
       " 1790.0,\n",
       " 1532.0,\n",
       " 1861.0,\n",
       " 2014.0,\n",
       " 3194.0,\n",
       " 9681.0,\n",
       " 9801.0,\n",
       " 2686.0,\n",
       " 4073.0]"
      ]
     },
     "execution_count": 89,
     "metadata": {},
     "output_type": "execute_result"
    }
   ],
   "source": [
    "## finding distance\n",
    "r=[]\n",
    "for i in range(1,len(coords)):\n",
    "    x=(coords[i,0]-coords[i-1,0])**2\n",
    "    y=(coords[i,1]-coords[i,1])**2\n",
    "    r.append(np.sqrt(x+y))\n",
    "r"
   ]
  },
  {
   "cell_type": "code",
   "execution_count": null,
   "metadata": {
    "collapsed": true
   },
   "outputs": [],
   "source": []
  }
 ],
 "metadata": {
  "kernelspec": {
   "display_name": "Python 3",
   "language": "python",
   "name": "python3"
  },
  "language_info": {
   "codemirror_mode": {
    "name": "ipython",
    "version": 3
   },
   "file_extension": ".py",
   "mimetype": "text/x-python",
   "name": "python",
   "nbconvert_exporter": "python",
   "pygments_lexer": "ipython3",
   "version": "3.6.1"
  }
 },
 "nbformat": 4,
 "nbformat_minor": 2
}
