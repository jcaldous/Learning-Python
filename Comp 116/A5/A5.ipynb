{
 "cells": [
  {
   "cell_type": "markdown",
   "metadata": {},
   "source": [
    "# Assignment 5: 311 Database\n",
    "\n",
    "**Due:** 4 December by 11:59:59PM\n",
    "\n",
    "These data were scraped from the 311 Service Request data available from the [New York City Open Data site](https://nycopendata.socrata.com/Social-Services/311-Service-Requests-from-2010-to-Present/erm2-nwe9). The data are presented to you in four arrays each with **N** rows representing service requests over a period of about 4 weeks of full days.\n",
    " \n",
    "**Times:** N by 3 integer array of the _Day_ (counting from 0), _Hour_ (0 to 23), and _Day of the Week_ (Monday is 0) the request was created.\n",
    " \n",
    "**Requests:** N by 2 string array of the _Complaint_ and the _Descriptor_ for the request.\n",
    " \n",
    "**Locations:** N by 2 string array of the _City_ and _[Borough](https://en.wikipedia.org/wiki/Borough)_ for the request.\n",
    " \n",
    "**Coordinates:** N by 2 float array of the _X_ and _Y_ coordinates of the request in the [State Plane Coordinate system](https://en.wikipedia.org/wiki/State_Plane_Coordinate_System). You won't need to know anything about the coordinate system, just that they are two orthogonal coordinates in the plane. \n",
    " \n",
    "Think of the 4 arrays as representing one large table with the **N** rows and 9 columns. "
   ]
  },
  {
   "cell_type": "code",
   "execution_count": 1,
   "metadata": {
    "collapsed": true
   },
   "outputs": [],
   "source": [
    "Author = 'jcaldous' # not your pid, your onyen\n",
    "Collaborators = []"
   ]
  },
  {
   "cell_type": "markdown",
   "metadata": {},
   "source": [
    "## Set up\n",
    "\n",
    "I will set up the environment for you here. Do not modify any of this."
   ]
  },
  {
   "cell_type": "code",
   "execution_count": 1,
   "metadata": {
    "collapsed": true
   },
   "outputs": [],
   "source": [
    "%matplotlib inline\n",
    "import numpy as np\n",
    "import pylab\n",
    "import comp116\n",
    "\n",
    "check, report = comp116.start('A5')\n",
    "\n",
    "# I'll load the data for you and make it unwriteable to protect you. \n",
    "# Don't change this!\n",
    "with np.load('311.npz') as data:\n",
    "    Times = data['Times']\n",
    "    Times.flags.writeable = False\n",
    "    Requests = data['Requests']\n",
    "    Requests.flags.writeable = False\n",
    "    Locations = data['Locations']\n",
    "    Locations.flags.writeable = False\n",
    "    Coordinates = data['Coordinates']\n",
    "    Coordinates.flags.writeable = False"
   ]
  },
  {
   "cell_type": "markdown",
   "metadata": {
    "collapsed": true
   },
   "source": [
    "## 1. How many requests do we have?\n",
    "\n",
    "I'm looking for **N** as in the description above."
   ]
  },
  {
   "cell_type": "code",
   "execution_count": 2,
   "metadata": {},
   "outputs": [
    {
     "name": "stdout",
     "output_type": "stream",
     "text": [
      "Number of requests = 14204\n",
      "A1 appears correct\n"
     ]
    }
   ],
   "source": [
    "#Write your code here\n",
    "A1=len(Requests)\n",
    "\n",
    "print('Number of requests =', A1)\n",
    "\n",
    "check('A1', A1, points=4)"
   ]
  },
  {
   "cell_type": "markdown",
   "metadata": {},
   "source": [
    "\n",
    "## 2. What was the average number of requests per hour?"
   ]
  },
  {
   "cell_type": "code",
   "execution_count": 3,
   "metadata": {},
   "outputs": [
    {
     "name": "stdout",
     "output_type": "stream",
     "text": [
      "Requests/hour = 22.7628205128\n",
      "A2 appears correct\n"
     ]
    }
   ],
   "source": [
    "#Write your code here\n",
    "A2 = len(Requests)/(np.max(Times[:,0]+1)*24)\n",
    "\n",
    "print('Requests/hour =', A2)\n",
    "check('A2', A2, points=4)"
   ]
  },
  {
   "cell_type": "markdown",
   "metadata": {},
   "source": [
    "## 3. Which cities are in the data?\n",
    "\n",
    "I want an alphabetized list of the different values in the city column of the locations. Each city name should be in the list only once."
   ]
  },
  {
   "cell_type": "code",
   "execution_count": 4,
   "metadata": {
    "collapsed": true
   },
   "outputs": [],
   "source": [
    "r=Locations[:,0]\n",
    "w=np.unique(r)\n",
    "x=tuple(w)"
   ]
  },
  {
   "cell_type": "code",
   "execution_count": 5,
   "metadata": {},
   "outputs": [
    {
     "name": "stdout",
     "output_type": "stream",
     "text": [
      "Cities = ['Arverne', 'Astoria', 'Bayside', 'Bellerose', 'Bronx', 'Brooklyn', 'Cambria Heights', 'Central Park', 'College Point', 'Corona', 'East Elmhurst', 'Elmhurst', 'Far Rockaway', 'Floral Park', 'Flushing', 'Forest Hills', 'Fresh Meadows', 'Glen Oaks', 'Hollis', 'Howard Beach', 'Jackson Heights', 'Jamaica', 'Kew Gardens', 'Little Neck', 'Long Island City', 'Maspeth', 'Middle Village', 'New Hyde Park', 'New York', 'Oakland Gardens', 'Ozone Park', 'Queens', 'Queens Village', 'Rego Park', 'Richmond Hill', 'Ridgewood', 'Rockaway Park', 'Rosedale', 'Saint Albans', 'South Ozone Park', 'South Richmond Hill', 'Springfield Gardens', 'Staten Island', 'Sunnyside', 'Whitestone', 'Woodhaven', 'Woodside']\n",
      "A3 appears correct\n"
     ]
    }
   ],
   "source": [
    "#Write your code here\n",
    "r=Locations[:,0]\n",
    "b=(np.unique(r))\n",
    "\n",
    "A3 = b.tolist()\n",
    "\n",
    "print('Cities =', A3)\n",
    "check('A3', A3, points=4)"
   ]
  },
  {
   "cell_type": "markdown",
   "metadata": {},
   "source": [
    "## 4. Which complaints happened every day?\n",
    "\n",
    "Your result should be an alphabetical list of complaints that occur every day in the data. In other words, if there is even a single day without a particular complaint, that complaint should not be in your list. Each complaint should only be in the list once."
   ]
  },
  {
   "cell_type": "code",
   "execution_count": 6,
   "metadata": {},
   "outputs": [
    {
     "data": {
      "text/plain": [
       "{'Animal Abuse',\n",
       " 'Blocked Driveway',\n",
       " 'Derelict Vehicle',\n",
       " 'Drinking',\n",
       " 'Illegal Parking',\n",
       " 'Noise - Commercial',\n",
       " 'Noise - Park',\n",
       " 'Noise - Street/Sidewalk',\n",
       " 'Noise - Vehicle',\n",
       " 'Traffic',\n",
       " 'Vending'}"
      ]
     },
     "execution_count": 6,
     "metadata": {},
     "output_type": "execute_result"
    }
   ],
   "source": [
    "#how to make this a loop\n",
    "Day1= set()\n",
    "for i in range(len(Requests)):\n",
    "    if Times[i,0]==0:\n",
    "        Day1.add(Requests[i,0])\n",
    "Day2= set()\n",
    "for i in range(len(Requests)):\n",
    "    if Times[i,0]==1:\n",
    "        Day2.add(Requests[i,0])\n",
    "Day3= set()\n",
    "for i in range(len(Requests)):\n",
    "    if Times[i,0]==2:\n",
    "        Day3.add(Requests[i,0])\n",
    "Day1&Day2&Day3"
   ]
  },
  {
   "cell_type": "code",
   "execution_count": 9,
   "metadata": {},
   "outputs": [],
   "source": [
    "np.max(Times[:,0])\n",
    "L=[]\n",
    "for n in range(0,np.max(Times[:,0])+1):\n",
    "    Day=set()\n",
    "    for i in range(len(Times)):\n",
    "        if Times[i,0]==n:\n",
    "            Day.add(Requests[i,0])\n",
    "    L.append(Day)\n",
    "A=L[0]\n",
    "for n in range(0,len(L)-1):\n",
    "    A=A&L[n+1]\n",
    "mostcomplaints=list(sorted(A))"
   ]
  },
  {
   "cell_type": "code",
   "execution_count": 8,
   "metadata": {
    "collapsed": true
   },
   "outputs": [],
   "source": [
    "#sets that happen every day--use dice model with sets instead of intergers\n",
    "#complaints that happen in those days\n",
    "#and them"
   ]
  },
  {
   "cell_type": "code",
   "execution_count": 10,
   "metadata": {},
   "outputs": [
    {
     "name": "stdout",
     "output_type": "stream",
     "text": [
      "Complaints that happened every day ['Blocked Driveway', 'Derelict Vehicle', 'Illegal Parking', 'Noise - Commercial', 'Noise - Street/Sidewalk', 'Noise - Vehicle', 'Traffic', 'Vending']\n",
      "A4 appears correct\n"
     ]
    }
   ],
   "source": [
    "#Write your code here\n",
    "\n",
    "A4 = list(sorted(A)) #expecting a list of strings\n",
    "\n",
    "\n",
    "print('Complaints that happened every day', A4)\n",
    "check('A4', A4, points=8)"
   ]
  },
  {
   "cell_type": "markdown",
   "metadata": {},
   "source": [
    "## 5. Which time had the most requests?\n",
    "\n",
    "Your result should be a two-element array of the day and hour of the time that had the most requests."
   ]
  },
  {
   "cell_type": "code",
   "execution_count": 11,
   "metadata": {},
   "outputs": [
    {
     "data": {
      "text/plain": [
       "(13, 23)"
      ]
     },
     "execution_count": 11,
     "metadata": {},
     "output_type": "execute_result"
    }
   ],
   "source": [
    "def countlastconsecutivedigitdictionary(Time):\n",
    "    result={}\n",
    "    for i in range(len(Time)):\n",
    "        d1=Time[i,0]\n",
    "        d2=Time[i,1]\n",
    "        key=(d1,d2)\n",
    "        result[key]=result.get(key,0)+1\n",
    "    return result\n",
    "count=countlastconsecutivedigitdictionary(Times)\n",
    "\n",
    "max(count, key=count.get)\n",
    "\n",
    "## how to find max value in dictionary"
   ]
  },
  {
   "cell_type": "code",
   "execution_count": 12,
   "metadata": {},
   "outputs": [
    {
     "name": "stdout",
     "output_type": "stream",
     "text": [
      "Most requests [Day Hour] = [13 23]\n",
      "A5 appears correct\n"
     ]
    }
   ],
   "source": [
    "#Write your code here\n",
    "def mostcomplaints(Time):\n",
    "    result={}\n",
    "    for i in range(len(Time)):\n",
    "        d1=Time[i,0]\n",
    "        d2=Time[i,1]\n",
    "        key=(d1,d2)\n",
    "        result[key]=result.get(key,0)+1\n",
    "    return result\n",
    "count=countlastconsecutivedigitdictionary(Times)\n",
    "max(count, key=count.get)\n",
    "##how to make it an array\n",
    "A5 = np.array(max(count, key=count.get))\n",
    "\n",
    "print('Most requests [Day Hour] =', A5)\n",
    "check('A5', A5, points=8)"
   ]
  },
  {
   "cell_type": "markdown",
   "metadata": {},
   "source": [
    "## 6. Where are the parties?\n",
    "\n",
    "Which city has the most requests with descriptor 'Loud Music/Party'?"
   ]
  },
  {
   "cell_type": "code",
   "execution_count": 13,
   "metadata": {},
   "outputs": [
    {
     "data": {
      "text/plain": [
       "array([False,  True,  True, ..., False,  True, False], dtype=bool)"
      ]
     },
     "execution_count": 13,
     "metadata": {},
     "output_type": "execute_result"
    }
   ],
   "source": [
    "Descriptor = 'Loud Music/Party'\n",
    "Requests[:,1]=='Loud Music/Party'"
   ]
  },
  {
   "cell_type": "code",
   "execution_count": 14,
   "metadata": {},
   "outputs": [
    {
     "data": {
      "text/plain": [
       "'Astoria'"
      ]
     },
     "execution_count": 14,
     "metadata": {},
     "output_type": "execute_result"
    }
   ],
   "source": [
    "w=np.unique(Locations[Requests[:,1]==Descriptor][:,0], return_counts=True)\n",
    "np.argmax(w)\n",
    "Locations[np.argmax(w),0]"
   ]
  },
  {
   "cell_type": "code",
   "execution_count": 15,
   "metadata": {},
   "outputs": [
    {
     "name": "stdout",
     "output_type": "stream",
     "text": [
      "Party city = New York\n",
      "A6 appears correct\n"
     ]
    }
   ],
   "source": [
    "def parties(s):\n",
    "    r={}\n",
    "    for i in range(len(s)):\n",
    "        si=s[i]\n",
    "        if si not in r:\n",
    "            r[si]=0\n",
    "        r[si]=r[si] +1\n",
    "    return r\n",
    "w=parties(Locations[Requests[:,1]==Descriptor][:,0])\n",
    "A6 = max(w,key=w.get)\n",
    "\n",
    "\n",
    "print('Party city =', A6)\n",
    "check('A6', A6, points=8)"
   ]
  },
  {
   "cell_type": "markdown",
   "metadata": {},
   "source": [
    "## 7. Where are they drinking in the Bronx?\n",
    "\n",
    "Plot points at the coordinates of the requests with borough 'Bronx' and complaint 'Drinking'.\n",
    "\n",
    "Do **not** augment the plot in any way. No titles, etc. "
   ]
  },
  {
   "cell_type": "code",
   "execution_count": 16,
   "metadata": {
    "collapsed": true
   },
   "outputs": [],
   "source": [
    "Borough = 'Bronx'\n",
    "Complaint = 'Drinking'\n",
    "Bronx=Locations[:,1]==Borough\n",
    "Drinking=Requests[:,0]== Complaint"
   ]
  },
  {
   "cell_type": "code",
   "execution_count": 17,
   "metadata": {},
   "outputs": [
    {
     "name": "stdout",
     "output_type": "stream",
     "text": [
      "A7 appears correct\n"
     ]
    },
    {
     "data": {
      "image/png": "[encoded data removed]",
      "text/plain": [
       "<matplotlib.figure.Figure at 0x106282208>"
      ]
     },
     "metadata": {},
     "output_type": "display_data"
    }
   ],
   "source": [
    "Borough = 'Bronx'\n",
    "Complaint = 'Drinking'\n",
    "#Write your code here\n",
    "def both(lists,array,Coordinate):\n",
    "    empty=[]\n",
    "    for i in range(len(array)):\n",
    "        if lists[i]== True & array[i]==True:\n",
    "            empty.append(Coordinate[i])\n",
    "    return empty\n",
    "bars=np.array(both(Bronx,Drinking,Coordinates))\n",
    "xcoord=bars[:,0]\n",
    "ycoord=bars[:,1]\n",
    "pylab.plot(xcoord,ycoord,'.')\n",
    "#These lines format the graph to make it look nicer, no need to change them\n",
    "pylab.axes().set_aspect('equal', 'datalim')\n",
    "pylab.grid()\n",
    "\n",
    "check('A7', pylab.gcf(), points=8)"
   ]
  },
  {
   "cell_type": "markdown",
   "metadata": {},
   "source": [
    "## 8. Where is the most blocked driveway?\n",
    "\n",
    "I want the coordinate that has the most requests with complaint 'Blocked Driveway'? I'm expecting a two-element float array with the X/Y coordinate of the driveway with the most complaints."
   ]
  },
  {
   "cell_type": "code",
   "execution_count": 18,
   "metadata": {},
   "outputs": [
    {
     "data": {
      "text/plain": [
       "(array([  123229.,   124311.,   126042., ...,  1064732.,  1065593.,\n",
       "         1065892.]), array([1, 1, 1, ..., 1, 1, 1]))"
      ]
     },
     "execution_count": 18,
     "metadata": {},
     "output_type": "execute_result"
    }
   ],
   "source": [
    "Complaint = 'Blocked Driveway'\n",
    "\n",
    "Requests[:,0]==Complaint\n",
    "w=Coordinates[Requests[:,0]==Complaint]\n",
    "Complaint = 'Blocked Driveway'\n",
    "np.unique(Coordinates[Requests[:,0]==Complaint][:,:], return_counts=True)"
   ]
  },
  {
   "cell_type": "code",
   "execution_count": 19,
   "metadata": {},
   "outputs": [
    {
     "data": {
      "text/plain": [
       "array([ 1002442.,   218986.])"
      ]
     },
     "execution_count": 19,
     "metadata": {},
     "output_type": "execute_result"
    }
   ],
   "source": [
    "def driveways(Coordinate):\n",
    "    result={}\n",
    "    for i in range(len(Coordinate)):\n",
    "        d1=Coordinate[i,0]\n",
    "        d2=Coordinate[i,1]\n",
    "        key=(d1,d2)\n",
    "        result[key]=result.get(key,0)+1\n",
    "    return result\n",
    "count=driveways(w)\n",
    "f=max(count, key=count.get)\n",
    "np.array(f)"
   ]
  },
  {
   "cell_type": "code",
   "execution_count": 20,
   "metadata": {},
   "outputs": [
    {
     "name": "stdout",
     "output_type": "stream",
     "text": [
      "Most blocked coordinate = [ 1002442.   218986.]\n",
      "A8 appears correct\n"
     ]
    }
   ],
   "source": [
    "def driveways(Coordinate):\n",
    "    result={}\n",
    "    for i in range(len(Coordinate)):\n",
    "        d1=Coordinate[i,0]\n",
    "        d2=Coordinate[i,1]\n",
    "        key=(d1,d2)\n",
    "        result[key]=result.get(key,0)+1\n",
    "    return result\n",
    "count=driveways(w)\n",
    "mostblocked=max(count, key=count.get)\n",
    "# Write your code here\n",
    "A8 = np.array(mostblocked)\n",
    "\n",
    "print('Most blocked coordinate =', A8)\n",
    "check('A8', A8, points=8)"
   ]
  },
  {
   "cell_type": "markdown",
   "metadata": {},
   "source": [
    "## 9. How long can I sleep?\n",
    "\n",
    "What is the length the longest run of hours with no requests having the string 'Noise' anywhere in the complaint?"
   ]
  },
  {
   "cell_type": "code",
   "execution_count": 21,
   "metadata": {},
   "outputs": [
    {
     "data": {
      "text/plain": [
       "{(0, 0): 'Noise - Street/Sidewalk',\n",
       " (0, 1): 'Noise - Street/Sidewalk',\n",
       " (0, 2): 'Noise - Street/Sidewalk',\n",
       " (0, 3): 'Illegal Parking',\n",
       " (0, 4): 'Noise - Commercial',\n",
       " (0, 5): 'Noise - Vehicle',\n",
       " (0, 6): 'Derelict Vehicle',\n",
       " (0, 7): 'Blocked Driveway',\n",
       " (0, 8): 'Traffic',\n",
       " (0, 9): 'Derelict Vehicle',\n",
       " (0, 10): 'Illegal Parking',\n",
       " (0, 11): 'Blocked Driveway',\n",
       " (0, 12): 'Noise - Park',\n",
       " (0, 13): 'Traffic',\n",
       " (0, 14): 'Blocked Driveway',\n",
       " (0, 15): 'Illegal Parking',\n",
       " (0, 16): 'Noise - Street/Sidewalk',\n",
       " (0, 17): 'Noise - Street/Sidewalk',\n",
       " (0, 18): 'Noise - Street/Sidewalk',\n",
       " (0, 19): 'Noise - Street/Sidewalk',\n",
       " (0, 20): 'Illegal Parking',\n",
       " (0, 21): 'Noise - Commercial',\n",
       " (0, 22): 'Blocked Driveway',\n",
       " (0, 23): 'Noise - Street/Sidewalk',\n",
       " (1, 0): 'Noise - Commercial',\n",
       " (1, 1): 'Noise - Commercial',\n",
       " (1, 2): 'Noise - Commercial',\n",
       " (1, 3): 'Noise - Commercial',\n",
       " (1, 4): 'Noise - Street/Sidewalk',\n",
       " (1, 5): 'Derelict Vehicle',\n",
       " (1, 6): 'Noise - Street/Sidewalk',\n",
       " (1, 7): 'Blocked Driveway',\n",
       " (1, 8): 'Blocked Driveway',\n",
       " (1, 9): 'Blocked Driveway',\n",
       " (1, 10): 'Illegal Parking',\n",
       " (1, 11): 'Noise - Street/Sidewalk',\n",
       " (1, 12): 'Noise - Commercial',\n",
       " (1, 13): 'Noise - Commercial',\n",
       " (1, 14): 'Noise - Vehicle',\n",
       " (1, 15): 'Blocked Driveway',\n",
       " (1, 16): 'Derelict Vehicle',\n",
       " (1, 17): 'Derelict Vehicle',\n",
       " (1, 18): 'Noise - Commercial',\n",
       " (1, 19): 'Blocked Driveway',\n",
       " (1, 20): 'Illegal Parking',\n",
       " (1, 21): 'Noise - Street/Sidewalk',\n",
       " (1, 22): 'Noise - Commercial',\n",
       " (1, 23): 'Blocked Driveway',\n",
       " (2, 0): 'Blocked Driveway',\n",
       " (2, 1): 'Blocked Driveway',\n",
       " (2, 2): 'Noise - Commercial',\n",
       " (2, 3): 'Noise - Commercial',\n",
       " (2, 4): 'Blocked Driveway',\n",
       " (2, 5): 'Blocked Driveway',\n",
       " (2, 6): 'Blocked Driveway',\n",
       " (2, 7): 'Illegal Parking',\n",
       " (2, 8): 'Derelict Vehicle',\n",
       " (2, 9): 'Derelict Vehicle',\n",
       " (2, 10): 'Derelict Vehicle',\n",
       " (2, 11): 'Blocked Driveway',\n",
       " (2, 12): 'Blocked Driveway',\n",
       " (2, 13): 'Derelict Vehicle',\n",
       " (2, 14): 'Derelict Vehicle',\n",
       " (2, 15): 'Animal Abuse',\n",
       " (2, 16): 'Noise - Street/Sidewalk',\n",
       " (2, 17): 'Blocked Driveway',\n",
       " (2, 18): 'Illegal Parking',\n",
       " (2, 19): 'Illegal Parking',\n",
       " (2, 20): 'Illegal Parking',\n",
       " (2, 21): 'Derelict Vehicle',\n",
       " (2, 22): 'Noise - Vehicle',\n",
       " (2, 23): 'Blocked Driveway',\n",
       " (3, 0): 'Illegal Parking',\n",
       " (3, 1): 'Noise - Vehicle',\n",
       " (3, 2): 'Illegal Parking',\n",
       " (3, 3): 'Blocked Driveway',\n",
       " (3, 4): 'Blocked Driveway',\n",
       " (3, 5): 'Blocked Driveway',\n",
       " (3, 6): 'Illegal Parking',\n",
       " (3, 7): 'Derelict Vehicle',\n",
       " (3, 8): 'Illegal Parking',\n",
       " (3, 9): 'Derelict Vehicle',\n",
       " (3, 10): 'Blocked Driveway',\n",
       " (3, 11): 'Blocked Driveway',\n",
       " (3, 12): 'Illegal Parking',\n",
       " (3, 13): 'Noise - Street/Sidewalk',\n",
       " (3, 14): 'Illegal Parking',\n",
       " (3, 15): 'Blocked Driveway',\n",
       " (3, 16): 'Illegal Parking',\n",
       " (3, 17): 'Illegal Parking',\n",
       " (3, 18): 'Blocked Driveway',\n",
       " (3, 19): 'Blocked Driveway',\n",
       " (3, 20): 'Blocked Driveway',\n",
       " (3, 21): 'Illegal Parking',\n",
       " (3, 22): 'Blocked Driveway',\n",
       " (3, 23): 'Noise - Commercial',\n",
       " (4, 0): 'Noise - Street/Sidewalk',\n",
       " (4, 1): 'Blocked Driveway',\n",
       " (4, 2): 'Noise - Street/Sidewalk',\n",
       " (4, 3): 'Noise - Commercial',\n",
       " (4, 4): 'Blocked Driveway',\n",
       " (4, 5): 'Blocked Driveway',\n",
       " (4, 6): 'Blocked Driveway',\n",
       " (4, 7): 'Illegal Parking',\n",
       " (4, 8): 'Blocked Driveway',\n",
       " (4, 9): 'Illegal Parking',\n",
       " (4, 10): 'Noise - Commercial',\n",
       " (4, 11): 'Illegal Parking',\n",
       " (4, 12): 'Illegal Parking',\n",
       " (4, 13): 'Blocked Driveway',\n",
       " (4, 14): 'Animal Abuse',\n",
       " (4, 15): 'Noise - Vehicle',\n",
       " (4, 16): 'Illegal Parking',\n",
       " (4, 17): 'Illegal Parking',\n",
       " (4, 18): 'Noise - Street/Sidewalk',\n",
       " (4, 19): 'Illegal Parking',\n",
       " (4, 20): 'Noise - Commercial',\n",
       " (4, 21): 'Blocked Driveway',\n",
       " (4, 22): 'Noise - Commercial',\n",
       " (4, 23): 'Noise - Commercial',\n",
       " (5, 0): 'Noise - Commercial',\n",
       " (5, 1): 'Noise - Commercial',\n",
       " (5, 2): 'Noise - Street/Sidewalk',\n",
       " (5, 3): 'Noise - Vehicle',\n",
       " (5, 4): 'Illegal Parking',\n",
       " (5, 5): 'Noise - Vehicle',\n",
       " (5, 6): 'Blocked Driveway',\n",
       " (5, 7): 'Illegal Parking',\n",
       " (5, 8): 'Illegal Parking',\n",
       " (5, 9): 'Blocked Driveway',\n",
       " (5, 10): 'Derelict Vehicle',\n",
       " (5, 11): 'Illegal Parking',\n",
       " (5, 12): 'Derelict Vehicle',\n",
       " (5, 13): 'Noise - Street/Sidewalk',\n",
       " (5, 14): 'Illegal Parking',\n",
       " (5, 15): 'Noise - Commercial',\n",
       " (5, 16): 'Illegal Parking',\n",
       " (5, 17): 'Derelict Vehicle',\n",
       " (5, 18): 'Blocked Driveway',\n",
       " (5, 19): 'Noise - Street/Sidewalk',\n",
       " (5, 20): 'Illegal Parking',\n",
       " (5, 21): 'Noise - Commercial',\n",
       " (5, 22): 'Noise - Commercial',\n",
       " (5, 23): 'Noise - Commercial',\n",
       " (6, 0): 'Blocked Driveway',\n",
       " (6, 1): 'Noise - Street/Sidewalk',\n",
       " (6, 2): 'Noise - Street/Sidewalk',\n",
       " (6, 3): 'Noise - Street/Sidewalk',\n",
       " (6, 4): 'Blocked Driveway',\n",
       " (6, 5): 'Blocked Driveway',\n",
       " (6, 6): 'Illegal Parking',\n",
       " (6, 7): 'Blocked Driveway',\n",
       " (6, 8): 'Blocked Driveway',\n",
       " (6, 9): 'Illegal Parking',\n",
       " (6, 10): 'Blocked Driveway',\n",
       " (6, 11): 'Blocked Driveway',\n",
       " (6, 12): 'Noise - Commercial',\n",
       " (6, 13): 'Blocked Driveway',\n",
       " (6, 14): 'Illegal Parking',\n",
       " (6, 15): 'Blocked Driveway',\n",
       " (6, 16): 'Derelict Vehicle',\n",
       " (6, 17): 'Blocked Driveway',\n",
       " (6, 18): 'Traffic',\n",
       " (6, 19): 'Blocked Driveway',\n",
       " (6, 20): 'Blocked Driveway',\n",
       " (6, 22): 'Blocked Driveway',\n",
       " (6, 23): 'Noise - Street/Sidewalk',\n",
       " (7, 0): 'Noise - Commercial',\n",
       " (7, 1): 'Blocked Driveway',\n",
       " (7, 3): 'Noise - Commercial',\n",
       " (7, 6): 'Blocked Driveway',\n",
       " (7, 8): 'Blocked Driveway',\n",
       " (7, 9): 'Illegal Parking',\n",
       " (7, 10): 'Noise - Street/Sidewalk',\n",
       " (7, 11): 'Noise - Commercial',\n",
       " (7, 12): 'Blocked Driveway',\n",
       " (7, 13): 'Blocked Driveway',\n",
       " (7, 14): 'Vending',\n",
       " (7, 15): 'Noise - Commercial',\n",
       " (7, 16): 'Noise - Street/Sidewalk',\n",
       " (7, 17): 'Blocked Driveway',\n",
       " (7, 18): 'Illegal Parking',\n",
       " (7, 19): 'Noise - Vehicle',\n",
       " (7, 20): 'Blocked Driveway',\n",
       " (7, 21): 'Noise - Commercial',\n",
       " (7, 22): 'Noise - Street/Sidewalk',\n",
       " (7, 23): 'Noise - Commercial',\n",
       " (8, 0): 'Noise - Commercial',\n",
       " (8, 1): 'Noise - Street/Sidewalk',\n",
       " (8, 2): 'Noise - Commercial',\n",
       " (8, 3): 'Noise - Commercial',\n",
       " (8, 4): 'Noise - Street/Sidewalk',\n",
       " (8, 5): 'Blocked Driveway',\n",
       " (8, 6): 'Blocked Driveway',\n",
       " (8, 7): 'Blocked Driveway',\n",
       " (8, 8): 'Illegal Parking',\n",
       " (8, 9): 'Blocked Driveway',\n",
       " (8, 10): 'Traffic',\n",
       " (8, 11): 'Noise - Commercial',\n",
       " (8, 12): 'Blocked Driveway',\n",
       " (8, 13): 'Blocked Driveway',\n",
       " (8, 14): 'Illegal Parking',\n",
       " (8, 15): 'Noise - Vehicle',\n",
       " (8, 16): 'Blocked Driveway',\n",
       " (8, 17): 'Noise - Commercial',\n",
       " (8, 18): 'Noise - Commercial',\n",
       " (8, 19): 'Blocked Driveway',\n",
       " (8, 20): 'Noise - Street/Sidewalk',\n",
       " (8, 21): 'Illegal Parking',\n",
       " (8, 22): 'Illegal Parking',\n",
       " (8, 23): 'Noise - Vehicle',\n",
       " (9, 0): 'Noise - Commercial',\n",
       " (9, 1): 'Noise - Commercial',\n",
       " (9, 2): 'Noise - Vehicle',\n",
       " (9, 3): 'Blocked Driveway',\n",
       " (9, 4): 'Blocked Driveway',\n",
       " (9, 5): 'Blocked Driveway',\n",
       " (9, 6): 'Blocked Driveway',\n",
       " (9, 7): 'Illegal Parking',\n",
       " (9, 8): 'Blocked Driveway',\n",
       " (9, 9): 'Blocked Driveway',\n",
       " (9, 10): 'Vending',\n",
       " (9, 11): 'Derelict Vehicle',\n",
       " (9, 12): 'Illegal Parking',\n",
       " (9, 13): 'Blocked Driveway',\n",
       " (9, 14): 'Blocked Driveway',\n",
       " (9, 15): 'Illegal Parking',\n",
       " (9, 16): 'Noise - Commercial',\n",
       " (9, 17): 'Noise - Vehicle',\n",
       " (9, 18): 'Illegal Parking',\n",
       " (9, 19): 'Blocked Driveway',\n",
       " (9, 20): 'Noise - Street/Sidewalk',\n",
       " (9, 21): 'Illegal Parking',\n",
       " (9, 22): 'Illegal Parking',\n",
       " (9, 23): 'Noise - Commercial',\n",
       " (10, 0): 'Noise - Commercial',\n",
       " (10, 1): 'Noise - Commercial',\n",
       " (10, 2): 'Noise - Commercial',\n",
       " (10, 3): 'Noise - Commercial',\n",
       " (10, 4): 'Noise - Commercial',\n",
       " (10, 5): 'Illegal Parking',\n",
       " (10, 6): 'Vending',\n",
       " (10, 7): 'Noise - Vehicle',\n",
       " (10, 8): 'Noise - Commercial',\n",
       " (10, 9): 'Blocked Driveway',\n",
       " (10, 10): 'Blocked Driveway',\n",
       " (10, 11): 'Illegal Parking',\n",
       " (10, 12): 'Blocked Driveway',\n",
       " (10, 13): 'Noise - Street/Sidewalk',\n",
       " (10, 14): 'Noise - Vehicle',\n",
       " (10, 15): 'Blocked Driveway',\n",
       " (10, 16): 'Blocked Driveway',\n",
       " (10, 17): 'Illegal Parking',\n",
       " (10, 18): 'Illegal Parking',\n",
       " (10, 19): 'Noise - Commercial',\n",
       " (10, 20): 'Blocked Driveway',\n",
       " (10, 21): 'Noise - Street/Sidewalk',\n",
       " (10, 22): 'Noise - Street/Sidewalk',\n",
       " (10, 23): 'Noise - Vehicle',\n",
       " (11, 0): 'Noise - Vehicle',\n",
       " (11, 1): 'Noise - Street/Sidewalk',\n",
       " (11, 2): 'Illegal Parking',\n",
       " (11, 3): 'Noise - Street/Sidewalk',\n",
       " (11, 4): 'Animal Abuse',\n",
       " (11, 5): 'Blocked Driveway',\n",
       " (11, 6): 'Illegal Parking',\n",
       " (11, 7): 'Blocked Driveway',\n",
       " (11, 8): 'Blocked Driveway',\n",
       " (11, 9): 'Illegal Parking',\n",
       " (11, 10): 'Illegal Parking',\n",
       " (11, 11): 'Illegal Parking',\n",
       " (11, 12): 'Illegal Parking',\n",
       " (11, 13): 'Illegal Parking',\n",
       " (11, 14): 'Blocked Driveway',\n",
       " (11, 15): 'Blocked Driveway',\n",
       " (11, 16): 'Illegal Parking',\n",
       " (11, 17): 'Animal Abuse',\n",
       " (11, 18): 'Illegal Parking',\n",
       " (11, 19): 'Noise - Park',\n",
       " (11, 20): 'Blocked Driveway',\n",
       " (11, 21): 'Blocked Driveway',\n",
       " (11, 22): 'Noise - Commercial',\n",
       " (11, 23): 'Noise - Commercial',\n",
       " (12, 0): 'Noise - Street/Sidewalk',\n",
       " (12, 1): 'Blocked Driveway',\n",
       " (12, 2): 'Noise - Street/Sidewalk',\n",
       " (12, 3): 'Noise - Commercial',\n",
       " (12, 4): 'Illegal Parking',\n",
       " (12, 5): 'Noise - Vehicle',\n",
       " (12, 6): 'Blocked Driveway',\n",
       " (12, 7): 'Blocked Driveway',\n",
       " (12, 8): 'Blocked Driveway',\n",
       " (12, 9): 'Illegal Parking',\n",
       " (12, 10): 'Derelict Vehicle',\n",
       " (12, 11): 'Illegal Parking',\n",
       " (12, 12): 'Noise - Street/Sidewalk',\n",
       " (12, 13): 'Vending',\n",
       " (12, 14): 'Illegal Parking',\n",
       " (12, 15): 'Vending',\n",
       " (12, 16): 'Derelict Vehicle',\n",
       " (12, 17): 'Noise - Park',\n",
       " (12, 18): 'Blocked Driveway',\n",
       " (12, 19): 'Animal Abuse',\n",
       " (12, 20): 'Noise - Street/Sidewalk',\n",
       " (12, 21): 'Blocked Driveway',\n",
       " (12, 22): 'Noise - Commercial',\n",
       " (12, 23): 'Noise - Commercial',\n",
       " (13, 0): 'Noise - Street/Sidewalk',\n",
       " (13, 1): 'Noise - Commercial',\n",
       " (13, 2): 'Noise - Commercial',\n",
       " (13, 3): 'Illegal Parking',\n",
       " (13, 4): 'Noise - Vehicle',\n",
       " (13, 5): 'Blocked Driveway',\n",
       " (13, 6): 'Blocked Driveway',\n",
       " (13, 7): 'Blocked Driveway',\n",
       " (13, 8): 'Illegal Parking',\n",
       " (13, 9): 'Illegal Parking',\n",
       " (13, 10): 'Blocked Driveway',\n",
       " (13, 11): 'Illegal Parking',\n",
       " (13, 12): 'Derelict Vehicle',\n",
       " (13, 13): 'Derelict Vehicle',\n",
       " (13, 14): 'Animal Abuse',\n",
       " (13, 15): 'Disorderly Youth',\n",
       " (13, 16): 'Illegal Parking',\n",
       " (13, 17): 'Blocked Driveway',\n",
       " (13, 18): 'Blocked Driveway',\n",
       " (13, 19): 'Noise - Street/Sidewalk',\n",
       " (13, 20): 'Noise - Vehicle',\n",
       " (13, 21): 'Noise - Commercial',\n",
       " (13, 22): 'Noise - Vehicle',\n",
       " (13, 23): 'Noise - Commercial',\n",
       " (14, 0): 'Noise - Commercial',\n",
       " (14, 1): 'Noise - Commercial',\n",
       " (14, 2): 'Noise - Commercial',\n",
       " (14, 3): 'Noise - Street/Sidewalk',\n",
       " (14, 4): 'Noise - Commercial',\n",
       " (14, 5): 'Blocked Driveway',\n",
       " (14, 6): 'Noise - Street/Sidewalk',\n",
       " (14, 7): 'Illegal Parking',\n",
       " (14, 8): 'Illegal Parking',\n",
       " (14, 9): 'Illegal Parking',\n",
       " (14, 10): 'Noise - Vehicle',\n",
       " (14, 11): 'Noise - Street/Sidewalk',\n",
       " (14, 12): 'Blocked Driveway',\n",
       " (14, 13): 'Blocked Driveway',\n",
       " (14, 14): 'Illegal Parking',\n",
       " (14, 15): 'Noise - Street/Sidewalk',\n",
       " (14, 16): 'Blocked Driveway',\n",
       " (14, 17): 'Blocked Driveway',\n",
       " (14, 18): 'Blocked Driveway',\n",
       " (14, 19): 'Noise - Commercial',\n",
       " (14, 20): 'Noise - Street/Sidewalk',\n",
       " (14, 21): 'Illegal Parking',\n",
       " (14, 22): 'Blocked Driveway',\n",
       " (14, 23): 'Noise - Street/Sidewalk',\n",
       " (15, 0): 'Noise - Commercial',\n",
       " (15, 1): 'Noise - Street/Sidewalk',\n",
       " (15, 2): 'Noise - Commercial',\n",
       " (15, 3): 'Traffic',\n",
       " (15, 4): 'Noise - Vehicle',\n",
       " (15, 5): 'Illegal Parking',\n",
       " (15, 6): 'Blocked Driveway',\n",
       " (15, 7): 'Blocked Driveway',\n",
       " (15, 8): 'Blocked Driveway',\n",
       " (15, 9): 'Derelict Vehicle',\n",
       " (15, 10): 'Blocked Driveway',\n",
       " (15, 11): 'Noise - Vehicle',\n",
       " (15, 12): 'Derelict Vehicle',\n",
       " (15, 13): 'Noise - Commercial',\n",
       " (15, 14): 'Noise - Street/Sidewalk',\n",
       " (15, 15): 'Illegal Parking',\n",
       " (15, 16): 'Illegal Parking',\n",
       " (15, 17): 'Noise - Commercial',\n",
       " (15, 18): 'Noise - Commercial',\n",
       " (15, 19): 'Blocked Driveway',\n",
       " (15, 20): 'Animal Abuse',\n",
       " (15, 21): 'Illegal Parking',\n",
       " (15, 22): 'Blocked Driveway',\n",
       " (15, 23): 'Noise - Street/Sidewalk',\n",
       " (16, 0): 'Noise - Street/Sidewalk',\n",
       " (16, 1): 'Blocked Driveway',\n",
       " (16, 2): 'Noise - Vehicle',\n",
       " (16, 3): 'Noise - Commercial',\n",
       " (16, 4): 'Illegal Parking',\n",
       " (16, 5): 'Illegal Parking',\n",
       " (16, 6): 'Blocked Driveway',\n",
       " (16, 7): 'Blocked Driveway',\n",
       " (16, 8): 'Illegal Parking',\n",
       " (16, 9): 'Blocked Driveway',\n",
       " (16, 10): 'Illegal Parking',\n",
       " (16, 11): 'Illegal Parking',\n",
       " (16, 12): 'Drinking',\n",
       " (16, 13): 'Blocked Driveway',\n",
       " (16, 14): 'Blocked Driveway',\n",
       " (16, 15): 'Derelict Vehicle',\n",
       " (16, 16): 'Noise - Vehicle',\n",
       " (16, 17): 'Illegal Parking',\n",
       " (16, 18): 'Blocked Driveway',\n",
       " (16, 19): 'Illegal Parking',\n",
       " (16, 20): 'Illegal Parking',\n",
       " (16, 21): 'Blocked Driveway',\n",
       " (16, 22): 'Blocked Driveway',\n",
       " (16, 23): 'Noise - Vehicle',\n",
       " (17, 0): 'Blocked Driveway',\n",
       " (17, 1): 'Noise - Commercial',\n",
       " (17, 2): 'Blocked Driveway',\n",
       " (17, 3): 'Blocked Driveway',\n",
       " (17, 4): 'Noise - Street/Sidewalk',\n",
       " (17, 5): 'Noise - Street/Sidewalk',\n",
       " (17, 6): 'Blocked Driveway',\n",
       " (17, 7): 'Illegal Parking',\n",
       " (17, 8): 'Illegal Parking',\n",
       " (17, 9): 'Noise - Vehicle',\n",
       " (17, 10): 'Noise - Street/Sidewalk',\n",
       " (17, 11): 'Noise - Vehicle',\n",
       " (17, 12): 'Derelict Vehicle',\n",
       " (17, 13): 'Noise - Street/Sidewalk',\n",
       " (17, 14): 'Illegal Parking',\n",
       " (17, 15): 'Noise - Commercial',\n",
       " (17, 16): 'Noise - Commercial',\n",
       " (17, 17): 'Illegal Parking',\n",
       " (17, 18): 'Illegal Parking',\n",
       " (17, 19): 'Blocked Driveway',\n",
       " (17, 20): 'Illegal Parking',\n",
       " (17, 21): 'Noise - Commercial',\n",
       " (17, 22): 'Noise - Street/Sidewalk',\n",
       " (17, 23): 'Noise - Commercial',\n",
       " (18, 0): 'Illegal Parking',\n",
       " (18, 1): 'Noise - Commercial',\n",
       " (18, 2): 'Noise - Commercial',\n",
       " (18, 3): 'Noise - Commercial',\n",
       " (18, 4): 'Noise - Street/Sidewalk',\n",
       " (18, 5): 'Illegal Parking',\n",
       " (18, 6): 'Illegal Parking',\n",
       " (18, 7): 'Blocked Driveway',\n",
       " (18, 8): 'Illegal Parking',\n",
       " (18, 9): 'Illegal Parking',\n",
       " (18, 10): 'Blocked Driveway',\n",
       " (18, 11): 'Illegal Parking',\n",
       " (18, 12): 'Illegal Parking',\n",
       " (18, 13): 'Illegal Parking',\n",
       " (18, 14): 'Blocked Driveway',\n",
       " (18, 15): 'Derelict Vehicle',\n",
       " (18, 16): 'Noise - Vehicle',\n",
       " (18, 17): 'Derelict Vehicle',\n",
       " (18, 18): 'Noise - Commercial',\n",
       " (18, 19): 'Illegal Parking',\n",
       " (18, 20): 'Noise - Street/Sidewalk',\n",
       " (18, 21): 'Noise - Commercial',\n",
       " (18, 22): 'Illegal Parking',\n",
       " (18, 23): 'Noise - Commercial',\n",
       " (19, 0): 'Noise - Vehicle',\n",
       " (19, 1): 'Noise - Commercial',\n",
       " (19, 2): 'Illegal Parking',\n",
       " (19, 3): 'Noise - Commercial',\n",
       " (19, 4): 'Vending',\n",
       " (19, 5): 'Noise - Commercial',\n",
       " (19, 6): 'Illegal Parking',\n",
       " (19, 7): 'Derelict Vehicle',\n",
       " (19, 8): 'Illegal Parking',\n",
       " (19, 9): 'Noise - Vehicle',\n",
       " (19, 10): 'Illegal Parking',\n",
       " (19, 11): 'Derelict Vehicle',\n",
       " (19, 12): 'Blocked Driveway',\n",
       " (19, 13): 'Illegal Parking',\n",
       " (19, 14): 'Blocked Driveway',\n",
       " (19, 15): 'Blocked Driveway',\n",
       " (19, 16): 'Blocked Driveway',\n",
       " (19, 17): 'Blocked Driveway',\n",
       " (19, 18): 'Derelict Vehicle',\n",
       " (19, 19): 'Blocked Driveway',\n",
       " (19, 20): 'Noise - Commercial',\n",
       " (19, 21): 'Illegal Parking',\n",
       " (19, 22): 'Noise - Street/Sidewalk',\n",
       " (19, 23): 'Noise - Street/Sidewalk',\n",
       " (20, 0): 'Illegal Parking',\n",
       " (20, 1): 'Noise - Commercial',\n",
       " (20, 2): 'Blocked Driveway',\n",
       " (20, 3): 'Vending',\n",
       " (20, 4): 'Blocked Driveway',\n",
       " (20, 5): 'Blocked Driveway',\n",
       " (20, 6): 'Blocked Driveway',\n",
       " (20, 7): 'Blocked Driveway',\n",
       " (20, 8): 'Illegal Parking',\n",
       " (20, 9): 'Illegal Parking',\n",
       " (20, 10): 'Illegal Parking',\n",
       " (20, 11): 'Blocked Driveway',\n",
       " (20, 12): 'Blocked Driveway',\n",
       " (20, 13): 'Illegal Parking',\n",
       " (20, 14): 'Blocked Driveway',\n",
       " (20, 15): 'Derelict Vehicle',\n",
       " (20, 16): 'Blocked Driveway',\n",
       " (20, 17): 'Noise - Commercial',\n",
       " (20, 18): 'Noise - Street/Sidewalk',\n",
       " (20, 19): 'Illegal Parking',\n",
       " (20, 20): 'Blocked Driveway',\n",
       " (20, 21): 'Blocked Driveway',\n",
       " (20, 22): 'Blocked Driveway',\n",
       " (20, 23): 'Noise - Commercial',\n",
       " (21, 0): 'Blocked Driveway',\n",
       " (21, 1): 'Noise - Street/Sidewalk',\n",
       " (21, 2): 'Noise - Commercial',\n",
       " (21, 3): 'Illegal Parking',\n",
       " (21, 4): 'Blocked Driveway',\n",
       " (21, 5): 'Blocked Driveway',\n",
       " (21, 6): 'Blocked Driveway',\n",
       " (21, 7): 'Blocked Driveway',\n",
       " (21, 8): 'Blocked Driveway',\n",
       " (21, 9): 'Illegal Parking',\n",
       " (21, 10): 'Noise - Commercial',\n",
       " (21, 11): 'Noise - House Of Worship',\n",
       " (21, 12): 'Blocked Driveway',\n",
       " (21, 13): 'Noise - Street/Sidewalk',\n",
       " (21, 14): 'Noise - Street/Sidewalk',\n",
       " (21, 15): 'Illegal Parking',\n",
       " (21, 16): 'Blocked Driveway',\n",
       " (21, 17): 'Blocked Driveway',\n",
       " (21, 18): 'Noise - Vehicle',\n",
       " (21, 19): 'Noise - Street/Sidewalk',\n",
       " (21, 20): 'Illegal Parking',\n",
       " (21, 21): 'Noise - Commercial',\n",
       " (21, 22): 'Blocked Driveway',\n",
       " (21, 23): 'Noise - Commercial',\n",
       " (22, 0): 'Noise - Commercial',\n",
       " (22, 1): 'Illegal Parking',\n",
       " (22, 2): 'Noise - Commercial',\n",
       " (22, 3): 'Noise - Street/Sidewalk',\n",
       " (22, 4): 'Noise - Vehicle',\n",
       " (22, 5): 'Blocked Driveway',\n",
       " (22, 6): 'Blocked Driveway',\n",
       " (22, 7): 'Illegal Parking',\n",
       " (22, 8): 'Noise - Commercial',\n",
       " (22, 9): 'Blocked Driveway',\n",
       " (22, 10): 'Blocked Driveway',\n",
       " (22, 11): 'Noise - Street/Sidewalk',\n",
       " (22, 12): 'Blocked Driveway',\n",
       " (22, 13): 'Noise - Vehicle',\n",
       " (22, 14): 'Noise - Vehicle',\n",
       " (22, 15): 'Noise - Commercial',\n",
       " (22, 16): 'Illegal Parking',\n",
       " (22, 17): 'Blocked Driveway',\n",
       " (22, 18): 'Noise - Commercial',\n",
       " (22, 19): 'Blocked Driveway',\n",
       " (22, 20): 'Illegal Parking',\n",
       " (22, 21): 'Illegal Parking',\n",
       " (22, 22): 'Blocked Driveway',\n",
       " (22, 23): 'Noise - Commercial',\n",
       " (23, 0): 'Noise - Commercial',\n",
       " (23, 1): 'Noise - Commercial',\n",
       " (23, 2): 'Noise - Street/Sidewalk',\n",
       " (23, 3): 'Noise - Commercial',\n",
       " (23, 4): 'Blocked Driveway',\n",
       " (23, 5): 'Blocked Driveway',\n",
       " (23, 6): 'Blocked Driveway',\n",
       " (23, 7): 'Blocked Driveway',\n",
       " (23, 8): 'Blocked Driveway',\n",
       " (23, 9): 'Illegal Parking',\n",
       " (23, 10): 'Noise - Commercial',\n",
       " (23, 11): 'Blocked Driveway',\n",
       " (23, 12): 'Blocked Driveway',\n",
       " (23, 13): 'Derelict Vehicle',\n",
       " (23, 14): 'Derelict Vehicle',\n",
       " (23, 15): 'Illegal Parking',\n",
       " (23, 16): 'Noise - Vehicle',\n",
       " (23, 17): 'Blocked Driveway',\n",
       " (23, 18): 'Illegal Parking',\n",
       " (23, 19): 'Illegal Parking',\n",
       " (23, 20): 'Illegal Parking',\n",
       " (23, 21): 'Noise - House Of Worship',\n",
       " (23, 22): 'Noise - Park',\n",
       " (23, 23): 'Illegal Parking',\n",
       " (24, 0): 'Noise - Commercial',\n",
       " (24, 1): 'Noise - Commercial',\n",
       " (24, 2): 'Noise - Commercial',\n",
       " (24, 3): 'Blocked Driveway',\n",
       " (24, 4): 'Vending',\n",
       " (24, 5): 'Noise - Vehicle',\n",
       " (24, 6): 'Blocked Driveway',\n",
       " (24, 7): 'Traffic',\n",
       " (24, 8): 'Derelict Vehicle',\n",
       " (24, 9): 'Blocked Driveway',\n",
       " (24, 10): 'Blocked Driveway',\n",
       " (24, 11): 'Derelict Vehicle',\n",
       " (24, 12): 'Blocked Driveway',\n",
       " (24, 13): 'Blocked Driveway',\n",
       " (24, 14): 'Blocked Driveway',\n",
       " (24, 15): 'Derelict Vehicle',\n",
       " (24, 16): 'Derelict Vehicle',\n",
       " (24, 17): 'Illegal Parking',\n",
       " (24, 18): 'Illegal Parking',\n",
       " (24, 19): 'Noise - Commercial',\n",
       " (24, 20): 'Illegal Parking',\n",
       " (24, 21): 'Noise - Commercial',\n",
       " (24, 22): 'Noise - Street/Sidewalk',\n",
       " (24, 23): 'Illegal Parking',\n",
       " (25, 0): 'Blocked Driveway',\n",
       " (25, 1): 'Noise - Commercial',\n",
       " (25, 2): 'Noise - Vehicle',\n",
       " (25, 3): 'Noise - Vehicle',\n",
       " (25, 4): 'Blocked Driveway',\n",
       " (25, 5): 'Blocked Driveway',\n",
       " (25, 6): 'Blocked Driveway',\n",
       " (25, 7): 'Illegal Parking',\n",
       " (25, 8): 'Noise - Vehicle',\n",
       " (25, 9): 'Blocked Driveway',\n",
       " (25, 10): 'Blocked Driveway',\n",
       " (25, 11): 'Illegal Parking',\n",
       " (25, 12): 'Noise - Commercial',\n",
       " (25, 13): 'Blocked Driveway',\n",
       " (25, 14): 'Illegal Parking',\n",
       " (25, 15): 'Illegal Parking',\n",
       " (25, 16): 'Illegal Parking',\n",
       " (25, 17): 'Blocked Driveway',\n",
       " (25, 18): 'Noise - Street/Sidewalk',\n",
       " (25, 19): 'Blocked Driveway',\n",
       " (25, 20): 'Blocked Driveway',\n",
       " (25, 21): 'Blocked Driveway',\n",
       " (25, 22): 'Noise - Street/Sidewalk',\n",
       " (25, 23): 'Blocked Driveway'}"
      ]
     },
     "execution_count": 21,
     "metadata": {},
     "output_type": "execute_result"
    }
   ],
   "source": [
    "def timesandrequest(Time,Request):\n",
    "    result={}\n",
    "    for i in range(len(Time)):\n",
    "        d1=Time[i,0]\n",
    "        d2=Time[i,1]\n",
    "        key=(d1,d2)\n",
    "        result[key]=Request[i,0]\n",
    "    return result\n",
    "count=timesandrequest(Times,Requests)\n",
    "count"
   ]
  },
  {
   "cell_type": "code",
   "execution_count": 22,
   "metadata": {},
   "outputs": [
    {
     "data": {
      "text/plain": [
       "array([  0,   0,   0, ..., 623, 623, 623])"
      ]
     },
     "execution_count": 22,
     "metadata": {},
     "output_type": "execute_result"
    }
   ],
   "source": [
    "Word = 'Noise'\n",
    "consecutivehours=Times[:,0]*24+Times[:,1]\n",
    "consecutivehours"
   ]
  },
  {
   "cell_type": "code",
   "execution_count": 23,
   "metadata": {},
   "outputs": [
    {
     "data": {
      "text/plain": [
       "array([ True,  True,  True, False,  True,  True,  True,  True, False,  True], dtype=bool)"
      ]
     },
     "execution_count": 23,
     "metadata": {},
     "output_type": "execute_result"
    }
   ],
   "source": [
    "r=[]\n",
    "for i in range(len(Requests)):\n",
    "    r.append(Word in Requests[i,0])\n",
    "Nonoise=np.array(r)\n",
    "Nonoise[10:20]"
   ]
  },
  {
   "cell_type": "code",
   "execution_count": 24,
   "metadata": {},
   "outputs": [
    {
     "data": {
      "text/plain": [
       "5198"
      ]
     },
     "execution_count": 24,
     "metadata": {},
     "output_type": "execute_result"
    }
   ],
   "source": [
    "A=consecutivehours[Nonoise]\n",
    "len(A)"
   ]
  },
  {
   "cell_type": "code",
   "execution_count": 25,
   "metadata": {},
   "outputs": [
    {
     "data": {
      "text/plain": [
       "array([33, 45, 23,  8, 10,  4,  2,  3,  3,  9,  3, 12,  9, 18, 14, 22, 19,\n",
       "       15, 13, 14, 17, 17, 43, 55, 59, 53, 22, 21,  9,  6,  1,  0,  1,  6,\n",
       "        4,  8,  9, 15, 22, 11,  5,  7, 12,  7, 11, 12, 15, 18, 14, 17,  9,\n",
       "        3,  4,  0,  3,  4,  3,  4,  2,  3,  1,  3,  0,  3,  4,  3,  5,  9,\n",
       "        7, 10, 14, 17, 13,  8,  5,  1,  0,  1,  0,  3,  3,  6,  5,  1,  5,\n",
       "        3,  3,  2,  3,  5,  5,  6,  5, 16, 17, 16, 17, 16,  6,  2,  2,  1,\n",
       "        3,  1,  5,  2,  6,  5,  2,  1,  3,  7,  4,  5,  4,  6,  7, 10, 14,\n",
       "       14, 13, 19,  6,  1,  5,  3,  2,  0,  4,  2,  0,  1,  0,  3,  1,  3,\n",
       "        2,  5,  8,  6,  3, 16, 25, 29, 24, 24,  7,  3,  3,  1,  3,  0,  1,\n",
       "        2,  1,  3,  4,  3,  1,  2,  0,  0,  3,  0,  0,  0,  0,  5,  1,  2,\n",
       "        0,  1,  0,  0,  0,  0,  0,  0,  1,  2,  0,  0,  0,  3,  5,  6,  5,\n",
       "       10, 12, 17, 28, 38, 44, 40, 26, 11, 14,  7,  6,  3,  1,  3,  4,  5,\n",
       "        4,  9,  9,  8, 10, 17, 18, 16, 10,  9, 28, 20, 21, 10,  9,  8,  4,\n",
       "        0,  3,  1,  3,  4,  5,  6,  5,  4,  3,  6,  3,  6,  3, 11, 11,  9,\n",
       "       20, 26, 17,  8,  5,  3,  1,  2,  3, 11, 10,  6,  3,  3,  4,  4,  4,\n",
       "        3,  3,  3,  4,  7,  6, 13, 21, 18, 17, 10,  4,  2,  2,  0,  1,  1,\n",
       "        2,  6,  6,  6,  2,  5,  2,  4,  4,  3,  1, 10, 22, 11, 16, 33, 30,\n",
       "       15,  9,  3,  3,  5,  3,  2,  7,  1,  3,  0,  9,  1,  3,  7,  9,  4,\n",
       "        6, 13,  8, 15, 20, 31, 22, 14, 14,  7,  3,  1,  3,  0,  2,  2,  2,\n",
       "        4,  3,  6,  9,  1,  9, 10,  6, 13, 16, 21, 48, 58, 50, 42, 28, 16,\n",
       "       17,  5, 11,  5,  2,  7,  3,  8,  9, 11,  7, 10,  9, 11, 14, 11,  7,\n",
       "       19, 40, 37, 49, 40, 27, 16, 15,  4,  3,  2,  5,  1,  2,  3,  2, 13,\n",
       "       13,  9,  8, 12, 10,  7, 16, 16, 25, 18, 18, 17,  5,  1,  2,  1,  1,\n",
       "        1,  2,  0,  5,  4,  2,  1,  5,  7,  3,  2,  9,  7,  8,  6, 21, 21,\n",
       "       14,  7,  5,  1,  2,  2,  0,  0,  2,  3,  3,  7,  4,  5,  2,  4,  8,\n",
       "        2,  5,  4,  5, 11, 10, 15, 24,  6,  6,  4,  3,  2,  4,  4,  3,  2,\n",
       "        3,  1,  4,  2,  2,  4,  3,  4,  5, 10,  4, 16, 21, 18, 16, 11,  4,\n",
       "        2,  4,  4,  1,  1,  3,  3,  0,  2,  7,  1,  2,  3,  3,  3,  4,  6,\n",
       "        6,  7, 12, 17,  8, 16,  8,  2,  3,  1,  1,  2,  1,  2,  4,  3,  3,\n",
       "        3,  4,  3,  8,  4,  2,  4, 14,  8, 25, 24, 42, 27, 21, 11,  5,  4,\n",
       "        0,  1,  1,  5,  6,  8,  0,  8,  8,  6, 14,  9, 11, 10, 11, 16, 31,\n",
       "       54, 43, 35, 31, 17,  7,  8,  2,  2,  5,  1,  0,  2,  2,  8,  4,  5,\n",
       "        9,  3,  6, 10, 11,  9, 18, 24, 10, 14,  4,  5,  6,  0,  0,  2,  3,\n",
       "        0,  2,  0,  4,  2,  6,  4,  5,  2,  4,  7,  5, 10,  9, 22, 10,  2,\n",
       "        2,  3,  3,  4,  1,  0,  2,  4,  1,  0,  2,  3,  1,  2,  5,  3,  1,\n",
       "        5,  3,  7, 13, 13,  4, 11,  5,  5,  4,  1,  3,  2,  4,  3,  2,  2,\n",
       "        6,  1,  1, 11,  5,  3, 10,  9,  7, 12, 25, 24])"
      ]
     },
     "execution_count": 25,
     "metadata": {},
     "output_type": "execute_result"
    }
   ],
   "source": [
    "#np.bincount\n",
    "Bincount=np.bincount(consecutivehours[Nonoise])\n",
    "Bincount"
   ]
  },
  {
   "cell_type": "code",
   "execution_count": 26,
   "metadata": {},
   "outputs": [
    {
     "name": "stdout",
     "output_type": "stream",
     "text": [
      "Longest run of quiet hours = 6\n",
      "A9 appears correct\n"
     ]
    }
   ],
   "source": [
    "Word = 'Noise' # anywhere in the Complaint\n",
    "def MaxRunLength(P):\n",
    "    result = 0\n",
    "    N = 0\n",
    "    for k in range(len(P)):\n",
    "        if P[k]==0:\n",
    "            N = N+1\n",
    "        else:\n",
    "            N = 0\n",
    "        if N > result:\n",
    "            result = N\n",
    "    return result\n",
    "silent=MaxRunLength(Bincount)\n",
    "# Write your code here\n",
    "A9 = silent\n",
    "\n",
    "print('Longest run of quiet hours =', A9)\n",
    "check('A9', A9, points=12)"
   ]
  },
  {
   "cell_type": "markdown",
   "metadata": {
    "collapsed": true
   },
   "source": [
    "## 10. What was the average number of parties for each day of the week?\n",
    "\n",
    "I want an array with 7 entries giving the average number of requests with descriptor 'Loud Music/Party' for each day of the week (Monday through Sunday). \n",
    "\n",
    "Note that the number of days **may not** be a multiple of 7 which means the divisor for each day of the week may be different. For example, there may be 4 Saturdays but only 3 Thursdays. You can't simply add up the number of requests for each day of the week. You'll need to compute the divisor for each day of the week because the dataset I use for grading may be different."
   ]
  },
  {
   "cell_type": "code",
   "execution_count": 27,
   "metadata": {},
   "outputs": [
    {
     "data": {
      "text/plain": [
       "3001"
      ]
     },
     "execution_count": 27,
     "metadata": {},
     "output_type": "execute_result"
    }
   ],
   "source": [
    "d=Requests=='Loud Music/Party'\n",
    "np.count_nonzero([d])\n",
    "##not nested two different"
   ]
  },
  {
   "cell_type": "code",
   "execution_count": 28,
   "metadata": {},
   "outputs": [
    {
     "data": {
      "text/plain": [
       "array([ 5, 12, 19])"
      ]
     },
     "execution_count": 28,
     "metadata": {},
     "output_type": "execute_result"
    }
   ],
   "source": [
    "np.unique(Times[Times[:,2]==3][:,0])"
   ]
  },
  {
   "cell_type": "code",
   "execution_count": 29,
   "metadata": {},
   "outputs": [
    {
     "data": {
      "text/plain": [
       "([280, 234, 325, 252, 270, 810, 830],\n",
       " [4, 4, 4, 3, 3, 4, 4],\n",
       " [70.0, 58.5, 81.25, 84.0, 90.0, 202.5, 207.5])"
      ]
     },
     "execution_count": 29,
     "metadata": {},
     "output_type": "execute_result"
    }
   ],
   "source": [
    "requestperday=[]\n",
    "for n in range(0,7):\n",
    "    d=Requests[Times[:,2]==n]=='Loud Music/Party'\n",
    "    requestperday.append(np.count_nonzero(d))\n",
    "requestperday\n",
    "dayofweek=[]\n",
    "for n in range(0,7):\n",
    "    e=np.unique(Times[Times[:,2]==n][:,0])\n",
    "    dayofweek.append(len(e))\n",
    "dayofweek\n",
    "party=[]\n",
    "for n in range(0,7):\n",
    "    party.append(requestperday[n]/dayofweek[n])\n",
    "requestperday, dayofweek, party"
   ]
  },
  {
   "cell_type": "code",
   "execution_count": 30,
   "metadata": {},
   "outputs": [
    {
     "name": "stdout",
     "output_type": "stream",
     "text": [
      "Average parties each day of the week = [  70.     58.5    81.25   84.     90.    202.5   207.5 ]\n",
      "A10 appears correct\n"
     ]
    }
   ],
   "source": [
    "Descriptor = 'Loud Music/Party'\n",
    "#need to find tuesdays (use set or np.unique)\n",
    "# Write your code here\n",
    "requestperday=[]\n",
    "for n in range(0,7):\n",
    "    d=Requests[Times[:,2]==n]=='Loud Music/Party'\n",
    "    requestperday.append(np.count_nonzero(d))\n",
    "requestperday\n",
    "dayofweek=[]\n",
    "for n in range(0,7):\n",
    "    e=np.unique(Times[Times[:,2]==n][:,0])\n",
    "    dayofweek.append(len(e))\n",
    "dayofweek\n",
    "party=[]\n",
    "for n in range(0,7):\n",
    "    party.append(requestperday[n]/dayofweek[n])\n",
    "requestperday, dayofweek, party\n",
    "    \n",
    "A10 = np.array(party)\n",
    "\n",
    "\n",
    "print('Average parties each day of the week =', A10)\n",
    "check('A10', A10, points=12)"
   ]
  },
  {
   "cell_type": "markdown",
   "metadata": {},
   "source": [
    "## 11. How far will an inspector have to travel?\n",
    "\n",
    "How far will an inspector have to travel to visit, in the order they occurred, all of the coordinates with complaint 'Derelict Vehicle' and city 'Astoria'? That is, compute the sum of the distances between consecutive coordinates of these requests. Your answer will have the same units as the coordinates."
   ]
  },
  {
   "cell_type": "code",
   "execution_count": 31,
   "metadata": {},
   "outputs": [
    {
     "data": {
      "text/plain": [
       "array([[ 1000555.,   216481.],\n",
       "       [ 1009419.,   217255.],\n",
       "       [ 1003050.,   218168.],\n",
       "       [ 1008149.,   215201.],\n",
       "       [ 1009939.,   219704.],\n",
       "       [ 1008407.,   215615.],\n",
       "       [ 1006546.,   223118.],\n",
       "       [ 1004532.,   220988.],\n",
       "       [ 1001338.,   215758.],\n",
       "       [ 1011019.,   218867.],\n",
       "       [ 1001218.,   218462.],\n",
       "       [ 1003904.,   221701.],\n",
       "       [ 1007977.,   218381.]])"
      ]
     },
     "execution_count": 31,
     "metadata": {},
     "output_type": "execute_result"
    }
   ],
   "source": [
    "#distance= sqrt[(X1**2-X2**2)+(Y1**2-Y2**2)\n",
    "City = 'Astoria'\n",
    "Complaint = 'Derelict Vehicle'\n",
    "complaints=Requests[:,0]==Complaint\n",
    "cities=Locations[:,0]==City\n",
    "def both(complaint,city,Coordinate):\n",
    "    empty=[]\n",
    "    for i in range(len(complaint)):\n",
    "        if complaint[i]== True & city[i]==True:\n",
    "            empty.append(Coordinate[i])\n",
    "    return empty\n",
    "coords=np.array(both(complaints,cities,Coordinates))\n",
    "coords"
   ]
  },
  {
   "cell_type": "code",
   "execution_count": 32,
   "metadata": {},
   "outputs": [
    {
     "name": "stdout",
     "output_type": "stream",
     "text": [
      "Distance traveled = 76673.2982453\n",
      "A11 appears correct\n"
     ]
    }
   ],
   "source": [
    "City = 'Astoria'\n",
    "Complaint = 'Derelict Vehicle'\n",
    "## finding distance\n",
    "r=[]\n",
    "for i in range(1,len(coords)):\n",
    "    x=(coords[i,0]-coords[i-1,0])**2\n",
    "    y=(coords[i,1]-coords[i-1,1])**2\n",
    "    r.append(np.sqrt(x+y))\n",
    "# Write your code here\n",
    "A11 = np.sum(r)\n",
    "\n",
    "print('Distance traveled =', A11)\n",
    "check('A11', A11, points=12)\n"
   ]
  },
  {
   "cell_type": "markdown",
   "metadata": {},
   "source": [
    "## 12. Which descriptors only occur after office hours?\n",
    "\n",
    "The office opens at 8am and closes precisely at 5pm (17 in 24 hour time we are using), Monday through Friday. The office is closed at all other times.\n",
    "\n",
    "Which request descriptors came in while the office was closed but never while it was open? I'm looking for a list of different descriptors in alphabetical order. Each descriptor should be in the list only once."
   ]
  },
  {
   "cell_type": "code",
   "execution_count": 33,
   "metadata": {},
   "outputs": [
    {
     "data": {
      "text/plain": [
       "['Building', 'After Hours - Licensed Est', 'Nuisance/Truant']"
      ]
     },
     "execution_count": 33,
     "metadata": {},
     "output_type": "execute_result"
    }
   ],
   "source": [
    "officehours=set()\n",
    "notofficehours=set()\n",
    "for n in range(8,17):\n",
    "    for i in range(len(Times)):\n",
    "        if Times[i,2]<=4:\n",
    "            if Times[i,1]==n:\n",
    "                officehours.add(Requests[i,1])\n",
    "            else:\n",
    "                notofficehours.add(Requests[i,1])\n",
    "        else:\n",
    "                notofficehours.add(Requests[i,1])\n",
    "list(notofficehours-officehours)"
   ]
  },
  {
   "cell_type": "code",
   "execution_count": 34,
   "metadata": {},
   "outputs": [
    {
     "name": "stdout",
     "output_type": "stream",
     "text": [
      "After hours requests = ['After Hours - Licensed Est', 'Building', 'Nuisance/Truant']\n",
      "A12 appears correct\n"
     ]
    }
   ],
   "source": [
    "# Write your code here\n",
    "officehours=set()\n",
    "notofficehours=set()\n",
    "for n in range(8,17):\n",
    "    for i in range(len(Times)):\n",
    "        if Times[i,2]<=4:\n",
    "            if Times[i,1]==n:\n",
    "                officehours.add(Requests[i,1])\n",
    "            else:\n",
    "                notofficehours.add(Requests[i,1])\n",
    "        else:\n",
    "                notofficehours.add(Requests[i,1])\n",
    "list(notofficehours-officehours)\n",
    "A12 = list(sorted(notofficehours-officehours))\n",
    "\n",
    "print('After hours requests =', A12)\n",
    "check('A12', A12, points=12)"
   ]
  },
  {
   "cell_type": "code",
   "execution_count": 35,
   "metadata": {},
   "outputs": [
    {
     "name": "stdout",
     "output_type": "stream",
     "text": [
      "A1 appears correct\n",
      "A2 appears correct\n",
      "A3 appears correct\n",
      "A4 appears correct\n",
      "A5 appears correct\n",
      "A6 appears correct\n",
      "A7 appears correct\n",
      "A8 appears correct\n",
      "A9 appears correct\n",
      "A10 appears correct\n",
      "A11 appears correct\n",
      "A12 appears correct\n",
      "Report for jcaldous\n",
      "  Collaborators: []\n",
      "  12.0 of 12 possibly correct for up to 100.0 of 100 points\n"
     ]
    },
    {
     "data": {
      "text/html": [
       "\n",
       "<p>Click the button below to submit your notebook. Watch for a confirmation message\n",
       "that your notebook was successfully uploaded. You may submit as often as you wish,\n",
       "only the last submission will count.</p>\n",
       "<button id=\"submitButton116\">Submit this notebook</button>\n",
       "<p id=\"submitResponse116\"></p>\n",
       "<script>\n",
       "var site = 'https://wwwx.cs.unc.edu/Courses/comp116-f17/';\n",
       "$('#submitButton116').on('click', function() {\n",
       "    var site = 'https://wwwx.cs.unc.edu/Courses/comp116-f17/',\n",
       "        $sresp = $('#submitResponse116'),\n",
       "        button = $('#submitButton116');\n",
       "    button.prop('disabled', true);\n",
       "    // wait until save is complete before pushing the notebook\n",
       "    $([IPython.events]).one('notebook_saved.Notebook', function() {\n",
       "        // get the token by logging in\n",
       "        $sresp.html('logging in');\n",
       "        $.ajax({\n",
       "            url: site + 'io/token/token.cgi',\n",
       "            dataType: 'jsonp'\n",
       "        }).done(function(data) {\n",
       "            var notebook = IPython.notebook.notebook_name,\n",
       "                uuid = data.token,\n",
       "                command = \"comp116.pushNotebook('\" + notebook + \"', '\" + uuid + \"')\",\n",
       "                kernel = IPython.notebook.kernel,\n",
       "                handler = function (out) {\n",
       "                    $('#comp116-stop-message').show();\n",
       "                    if (out.content.status == \"ok\") {\n",
       "                        $sresp.html(\"Successfully submitted \" + notebook);\n",
       "                        $('#comp116-stop-message').hide();\n",
       "                    } else if(out.content.status == \"error\") {\n",
       "                        $sresp.html(out.content.ename + \": \" + out.content.evalue);\n",
       "                    } else { // if output is something we haven't thought of\n",
       "                        $sresp.html(\"[out type not implemented]\")\n",
       "                    }\n",
       "                    button.prop('disabled', false);\n",
       "                };\n",
       "            $sresp.html('Submitting');\n",
       "            kernel.execute(command, {shell: { reply: handler }});\n",
       "        }).fail(function() {\n",
       "            $sresp.html('Login failed');\n",
       "            button.prop('disabled', false);\n",
       "        });\n",
       "    });\n",
       "    // trigger the save\n",
       "    $sresp.html('Saving');\n",
       "    IPython.notebook.save_notebook();\n",
       "});"
      ],
      "text/plain": [
       "<IPython.core.display.HTML object>"
      ]
     },
     "execution_count": 35,
     "metadata": {},
     "output_type": "execute_result"
    }
   ],
   "source": [
    "report(Author, Collaborators)"
   ]
  },
  {
   "cell_type": "code",
   "execution_count": null,
   "metadata": {
    "collapsed": true
   },
   "outputs": [],
   "source": []
  }
 ],
 "metadata": {
  "kernelspec": {
   "display_name": "Python 3",
   "language": "python",
   "name": "python3"
  },
  "language_info": {
   "codemirror_mode": {
    "name": "ipython",
    "version": 3
   },
   "file_extension": ".py",
   "mimetype": "text/x-python",
   "name": "python",
   "nbconvert_exporter": "python",
   "pygments_lexer": "ipython3",
   "version": "3.6.1"
  }
 },
 "nbformat": 4,
 "nbformat_minor": 1
}
