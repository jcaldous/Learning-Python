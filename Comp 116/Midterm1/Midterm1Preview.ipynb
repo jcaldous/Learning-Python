{
 "cells": [
  {
   "cell_type": "markdown",
   "metadata": {},
   "source": [
    "# Midterm1 Data Preview\n",
    "\n",
    "This notebook will allow you to explore the data you will use on the midterm exam on Wednesday 27 September.\n",
    "\n",
    "I encourage you to imagine the kinds of questions I might ask you so that you can practice to be ready for the exam.\n",
    "\n",
    "The dataset has **5 columns and many rows**. \n",
    "\n",
    "Each row represents the number of books read on Tar Heel Reader on a day. \n",
    "\n",
    "The first day is a Sunday and no days are missing.\n",
    "\n",
    "You may **not** assume the number of days will be the same when I grade the exam but you **may** assume the number of days will be a multiple of 7.\n",
    "\n",
    "You **may** assume five columns.\n",
    "\n",
    "The first column gives the number of books read on that day all over the world. The second through fifth columms are the number of books read in the top four users of the site: United States, Canada, Australia, and New Zealand. \n",
    "\n",
    "Let's load the data and look at a few rows."
   ]
  },
  {
   "cell_type": "code",
   "execution_count": 2,
   "metadata": {},
   "outputs": [
    {
     "data": {
      "text/plain": [
       "array([[ 738.,  649.,    5.,   22.,    0.],\n",
       "       [ 603.,  493.,   15.,    1.,    0.],\n",
       "       [ 814.,  578.,   64.,   35.,    9.],\n",
       "       [ 822.,  679.,    7.,   27.,    0.],\n",
       "       [ 336.,  259.,   27.,   40.,    0.]])"
      ]
     },
     "execution_count": 2,
     "metadata": {},
     "output_type": "execute_result"
    }
   ],
   "source": [
    "# don't change any of this\n",
    "%matplotlib inline\n",
    "import numpy as np\n",
    "import pylab\n",
    "\n",
    "# No need to redo this. Just use the data array for everything\n",
    "data = np.loadtxt('daily2016.txt')\n",
    "data.flags.writeable = False # trying to protect you from yourself\n",
    "\n",
    "# look at the first 5 rows\n",
    "data[:5,:]"
   ]
  },
  {
   "cell_type": "markdown",
   "metadata": {},
   "source": [
    "From the above, I can tell that for this dataset on the first Sunday:\n",
    "\n",
    "* 738 books were read all over the world\n",
    "* 649 of those were read in the US\n",
    "* 5 in Canada\n",
    "* 22 in Australia\n",
    "* and none in New Zealand\n",
    "\n"
   ]
  },
  {
   "cell_type": "markdown",
   "metadata": {},
   "source": [
    "Now, I encourage you to ask and answer questions about these data. \n",
    "\n",
    "You might ask questions like:\n",
    "\n",
    "* How many days of data do we have?\n",
    "* What were the total number of books read? (Watch out, its not the sum of all of the numbers)\n",
    "* And many more..."
   ]
  },
  {
   "cell_type": "code",
   "execution_count": 3,
   "metadata": {},
   "outputs": [
    {
     "data": {
      "text/plain": [
       "array([371, 371, 370, 371, 341])"
      ]
     },
     "execution_count": 3,
     "metadata": {},
     "output_type": "execute_result"
    }
   ],
   "source": [
    "np.count_nonzero(data, axis=0)"
   ]
  },
  {
   "cell_type": "code",
   "execution_count": null,
   "metadata": {
    "collapsed": true
   },
   "outputs": [],
   "source": []
  }
 ],
 "metadata": {
  "kernelspec": {
   "display_name": "Python 3",
   "language": "python",
   "name": "python3"
  },
  "language_info": {
   "codemirror_mode": {
    "name": "ipython",
    "version": 3
   },
   "file_extension": ".py",
   "mimetype": "text/x-python",
   "name": "python",
   "nbconvert_exporter": "python",
   "pygments_lexer": "ipython3",
   "version": "3.6.1"
  }
 },
 "nbformat": 4,
 "nbformat_minor": 2
}
