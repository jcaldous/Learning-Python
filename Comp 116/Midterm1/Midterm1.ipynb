{
 "cells": [
  {
   "cell_type": "markdown",
   "metadata": {},
   "source": [
    "# Midterm Exam 1\n",
    "\n",
    "**Don't Panic!**\n",
    "\n",
    "You **may not use** _loops_ or any other loop variants such as _list comprehensions_. Any numpy functions are OK.\n",
    "\n",
    "You **may not use the Internet** for anything except retrieving and submitting your exam. Any other use will be a violation of the Honor Code. \n",
    "\n",
    "You **must turn off wireless on your laptop** while you take the exam.\n",
    "\n",
    "You **may use** any resources that you have stored locally on your computer or any paper notes, books, etc.\n",
    "\n",
    "Of course you **may not** use phones, friends, etc.\n",
    "\n",
    "Enter your **onyen** below."
   ]
  },
  {
   "cell_type": "code",
   "execution_count": 1,
   "metadata": {
    "collapsed": true
   },
   "outputs": [],
   "source": [
    "Onyen = 'jcaldous'"
   ]
  },
  {
   "cell_type": "markdown",
   "metadata": {},
   "source": [
    "## Honor Pledge\n",
    "\n",
    "I certify that no unauthorized assistance has been received or given in the completion of this work. \n",
    "\n",
    "Enter your full name as the value of the Pledge variable below."
   ]
  },
  {
   "cell_type": "code",
   "execution_count": 2,
   "metadata": {
    "collapsed": true
   },
   "outputs": [],
   "source": [
    "Pledge = 'Jessica Aldous'"
   ]
  },
  {
   "cell_type": "markdown",
   "metadata": {},
   "source": [
    "## Setup\n",
    "\n",
    "I will setup the environment for you here. Do not modify any of this."
   ]
  },
  {
   "cell_type": "code",
   "execution_count": 3,
   "metadata": {
    "collapsed": true
   },
   "outputs": [],
   "source": [
    "%matplotlib inline\n",
    "import numpy as np\n",
    "import pylab\n",
    "import comp116\n",
    "\n",
    "check, report = comp116.start('Midterm1')"
   ]
  },
  {
   "cell_type": "markdown",
   "metadata": {},
   "source": [
    "## Data\n",
    "\n",
    "You are given a dataset with **5 columns and many rows**. \n",
    "\n",
    "Each row represents the number of books read on Tar Heel Reader on a day. \n",
    "\n",
    "The first day is a Sunday and no days are missing.\n",
    "\n",
    "You may **not** assume the number of days will be the same when I grade the exam but you **may** assume the number of days will be a multiple of 7.\n",
    "\n",
    "You **may** assume five columns.\n",
    "\n",
    "The first column gives the number of books read on that day all over the world. The second through fifth columms are the number of books read in the top four users of the site: United States, Canada, Australia, and New Zealand. \n",
    "\n",
    "I'll load the data for you here. Don't change any of this."
   ]
  },
  {
   "cell_type": "code",
   "execution_count": 4,
   "metadata": {
    "collapsed": true
   },
   "outputs": [],
   "source": [
    "reads = np.loadtxt('daily2016.txt', dtype=int)\n",
    "reads.flags.writeable = False # trying to protect you from yourself."
   ]
  },
  {
   "cell_type": "markdown",
   "metadata": {},
   "source": [
    "## Questions"
   ]
  },
  {
   "cell_type": "markdown",
   "metadata": {},
   "source": [
    "## 1. How many weeks of data are in the array?\n",
    "\n",
    "Your answer must be an integer."
   ]
  },
  {
   "cell_type": "code",
   "execution_count": 5,
   "metadata": {},
   "outputs": [
    {
     "data": {
      "text/plain": [
       "53"
      ]
     },
     "execution_count": 5,
     "metadata": {},
     "output_type": "execute_result"
    }
   ],
   "source": [
    "x=np.sum(reads[::7], axis=1)\n",
    "np.count_nonzero(x)"
   ]
  },
  {
   "cell_type": "code",
   "execution_count": 6,
   "metadata": {},
   "outputs": [
    {
     "name": "stdout",
     "output_type": "stream",
     "text": [
      "how_many_weeks = 53\n",
      "Q1. How many weeks appears correct\n"
     ]
    }
   ],
   "source": [
    "how_many_weeks = np.count_nonzero(np.sum(reads[::7], axis=1)) # replace the -1 with your code\n",
    "\n",
    "print('how_many_weeks =', how_many_weeks)\n",
    "check('Q1. How many weeks', how_many_weeks, points=10)"
   ]
  },
  {
   "cell_type": "markdown",
   "metadata": {},
   "source": [
    "## 2. How many books on average were read all over the world per day?"
   ]
  },
  {
   "cell_type": "code",
   "execution_count": 7,
   "metadata": {},
   "outputs": [
    {
     "name": "stdout",
     "output_type": "stream",
     "text": [
      "average_reads_world = 3420.85175202\n",
      "Q2. Average reads per day for the world appears correct\n"
     ]
    }
   ],
   "source": [
    "average_reads_world = np.mean(reads[:,0]) # replace the np.array call with your code\n",
    "\n",
    "print('average_reads_world =', average_reads_world)\n",
    "check('Q2. Average reads per day for the world', average_reads_world, points=10)"
   ]
  },
  {
   "cell_type": "markdown",
   "metadata": {},
   "source": [
    "## 3. How many days did New Zealand read more books than Australia?\n",
    "\n",
    "Remember New Zealand has index 4 and Australia has index 3."
   ]
  },
  {
   "cell_type": "code",
   "execution_count": 8,
   "metadata": {},
   "outputs": [
    {
     "data": {
      "text/plain": [
       "33"
      ]
     },
     "execution_count": 8,
     "metadata": {},
     "output_type": "execute_result"
    }
   ],
   "source": [
    "np.count_nonzero(reads[:,4]>reads[:,3])"
   ]
  },
  {
   "cell_type": "code",
   "execution_count": 9,
   "metadata": {},
   "outputs": [
    {
     "name": "stdout",
     "output_type": "stream",
     "text": [
      "number_nz_wins = 33\n",
      "Q3. New Zealand reads more appears correct\n"
     ]
    }
   ],
   "source": [
    "number_nz_wins = np.count_nonzero(reads[:,4]>reads[:,3]) # replace the -1 with your code\n",
    "\n",
    "print('number_nz_wins =', number_nz_wins)\n",
    "check('Q3. New Zealand reads more', number_nz_wins, points=10)"
   ]
  },
  {
   "cell_type": "markdown",
   "metadata": {},
   "source": [
    "## 4. Which day had the most books read anywhere?\n",
    "\n",
    "That is, what is the index of the day with the largest total number of books read?"
   ]
  },
  {
   "cell_type": "code",
   "execution_count": null,
   "metadata": {
    "collapsed": true
   },
   "outputs": [],
   "source": []
  },
  {
   "cell_type": "code",
   "execution_count": 10,
   "metadata": {},
   "outputs": [
    {
     "name": "stdout",
     "output_type": "stream",
     "text": [
      "highest_day_index = 43\n",
      "Q4. Day with most books read appears correct\n"
     ]
    }
   ],
   "source": [
    "highest_day_index = np.argmax(reads[:,0]) # replace the -1 with your code\n",
    "\n",
    "print('highest_day_index =', highest_day_index)\n",
    "check('Q4. Day with most books read', highest_day_index, points=10)"
   ]
  },
  {
   "cell_type": "markdown",
   "metadata": {},
   "source": [
    "## 5. How many books were read on each day that the total exceeded 7000?\n",
    "\n",
    "The answer is a new array with 5 columns that contains only the rows where the total read (column 0) is greater than 7000."
   ]
  },
  {
   "cell_type": "code",
   "execution_count": 11,
   "metadata": {},
   "outputs": [
    {
     "name": "stdout",
     "output_type": "stream",
     "text": [
      "reads_busy_days =\n",
      "[[7245 6468  359  232   48]\n",
      " [7340 6317  554  195  103]\n",
      " [7008 6001  561  182   36]\n",
      " [8053 7114  543  189   76]\n",
      " [7066 6273  395  223   79]\n",
      " [7227 6197  394  250  101]\n",
      " [7701 6479  432  262   66]\n",
      " [7071 5912  600  267   81]\n",
      " [7494 6260  588  229  173]\n",
      " [7442 6365  434  353  107]\n",
      " [7680 6569  419  268  115]\n",
      " [7405 6432  415  223   73]\n",
      " [7167 6145  376  323  127]]\n",
      "Q5. Number reads on busy days appears correct\n"
     ]
    }
   ],
   "source": [
    "reads_busy_days = reads[(reads[:,0]> 7000)] # replace with your code\n",
    "\n",
    "print('reads_busy_days =')\n",
    "print(reads_busy_days)\n",
    "check('Q5. Number reads on busy days', reads_busy_days, points=15)"
   ]
  },
  {
   "cell_type": "markdown",
   "metadata": {},
   "source": [
    "## 6. Graph the total number of books read per week in the US.\n",
    "\n",
    "I will label the graph for you. You only need to plot the curve."
   ]
  },
  {
   "cell_type": "code",
   "execution_count": 12,
   "metadata": {},
   "outputs": [
    {
     "data": {
      "text/plain": [
       "array([ 3779, 26597, 26978, 22652, 28306, 30397, 29636, 25098, 28837,\n",
       "       28305, 27120, 24324, 20017, 21055, 25800, 26397, 25545, 23328,\n",
       "       24266, 22485, 21828, 16939,  9554,  9425,  6808,  7074,  6091,\n",
       "        5963,  6592,  4972,  5949,  5356,  8061, 11347, 15078, 17175,\n",
       "       18260, 25942, 26249, 27119, 26325, 22609, 23994, 24930, 29515,\n",
       "       25822, 28338, 10883, 29279, 25774, 23183, 10498,  3994])"
      ]
     },
     "execution_count": 12,
     "metadata": {},
     "output_type": "execute_result"
    }
   ],
   "source": [
    "readinUS=reads[:,1]\n",
    "readinUS\n",
    "weeksinUS=np.reshape(readinUS,(-1,7))\n",
    "np.sum(weeksinUS,axis=1)"
   ]
  },
  {
   "cell_type": "code",
   "execution_count": 13,
   "metadata": {},
   "outputs": [
    {
     "name": "stdout",
     "output_type": "stream",
     "text": [
      "Q6. Weekly US total plot appears correct\n"
     ]
    },
    {
     "data": {
      "image/png": "[encoded data removed]",
      "text/plain": [
       "<matplotlib.figure.Figure at 0x1056437f0>"
      ]
     },
     "metadata": {},
     "output_type": "display_data"
    }
   ],
   "source": [
    "# write your code here\n",
    "pylab.plot(np.sum(weeksinUS, axis=1))\n",
    "# labeling the graph, don't change this.\n",
    "pylab.xlabel('Week number')\n",
    "pylab.ylabel('Number of books read during the week')\n",
    "\n",
    "check('Q6. Weekly US total plot', pylab.gcf(), points=15)"
   ]
  },
  {
   "cell_type": "markdown",
   "metadata": {},
   "source": [
    "## 7. How many total books were read on days when all of the top 4 countries read at least 100 books?"
   ]
  },
  {
   "cell_type": "code",
   "execution_count": 31,
   "metadata": {},
   "outputs": [
    {
     "data": {
      "text/plain": [
       "array([False, False, False, False, False, False, False, False, False,\n",
       "       False, False, False, False, False, False, False, False, False,\n",
       "       False, False, False, False, False, False, False, False, False,\n",
       "       False, False, False, False, False,  True, False, False, False,\n",
       "       False,  True, False, False, False, False, False, False, False,\n",
       "       False, False, False, False, False,  True,  True, False, False,\n",
       "       False, False, False,  True, False, False, False, False, False,\n",
       "       False, False, False, False, False, False, False, False, False,\n",
       "        True,  True, False, False, False,  True,  True,  True,  True,\n",
       "        True, False, False, False,  True, False, False, False, False,\n",
       "       False, False, False,  True,  True, False, False, False, False,\n",
       "        True,  True, False, False, False, False, False,  True,  True,\n",
       "        True,  True, False, False, False, False, False, False, False,\n",
       "       False, False, False, False, False, False, False, False, False,\n",
       "       False,  True,  True,  True,  True, False, False, False,  True,\n",
       "        True,  True,  True, False, False, False,  True,  True, False,\n",
       "        True, False, False, False, False,  True,  True,  True, False,\n",
       "       False, False,  True,  True,  True, False, False, False, False,\n",
       "        True,  True,  True,  True, False, False, False,  True,  True,\n",
       "       False,  True, False, False, False,  True,  True,  True,  True,\n",
       "       False, False,  True, False, False, False, False, False, False,\n",
       "       False, False,  True, False, False, False, False, False, False,\n",
       "       False, False, False, False, False, False, False, False, False,\n",
       "       False, False, False, False, False, False, False, False, False,\n",
       "       False, False,  True, False,  True, False, False, False, False,\n",
       "       False,  True, False, False, False, False, False, False, False,\n",
       "       False, False, False, False, False, False,  True, False, False,\n",
       "       False, False, False, False, False, False,  True, False, False,\n",
       "       False, False, False,  True,  True, False, False,  True,  True,\n",
       "        True,  True,  True, False, False, False,  True,  True,  True,\n",
       "        True, False, False, False, False, False, False, False, False,\n",
       "       False, False, False, False, False, False, False, False,  True,\n",
       "        True,  True,  True,  True, False, False, False,  True,  True,\n",
       "        True,  True, False, False, False,  True,  True,  True, False,\n",
       "       False, False, False,  True,  True,  True,  True, False, False,\n",
       "       False,  True,  True, False, False, False, False, False, False,\n",
       "        True, False, False, False, False, False, False, False,  True,\n",
       "       False, False, False, False,  True,  True, False, False, False,\n",
       "       False, False, False,  True,  True, False, False, False, False,\n",
       "       False, False, False, False, False, False, False, False, False,\n",
       "       False, False, False, False, False, False, False, False, False,\n",
       "       False, False], dtype=bool)"
      ]
     },
     "execution_count": 31,
     "metadata": {},
     "output_type": "execute_result"
    }
   ],
   "source": [
    "y=np.all((reads[:,1:] >= 100), axis=1)\n",
    "y"
   ]
  },
  {
   "cell_type": "code",
   "execution_count": 32,
   "metadata": {},
   "outputs": [
    {
     "data": {
      "text/plain": [
       "array([6508, 7340, 3232, 5858, 7227, 5257, 7494, 1253, 6305, 5313, 5665,\n",
       "       4669, 6451, 5080, 5545, 5555, 6185, 6513, 6744, 6709, 6000, 6266,\n",
       "       5975, 6035, 5181, 5709, 5244, 5264, 5429, 6066, 5528, 5321, 4538,\n",
       "       4654, 3532, 1331, 3440, 3157, 2948, 3033, 2405, 2607, 2239, 2181,\n",
       "       1898, 2003, 2507, 2586, 2173,  776, 1743, 1695, 1995, 1892, 3621,\n",
       "       3711, 4486, 5353, 1646, 6201, 5763, 6205, 6366, 5361, 6947, 6343,\n",
       "       5788, 1230, 4250, 5870, 5344, 5754, 5786, 5772, 5847, 5373, 6230,\n",
       "       5770, 5590, 5251, 6995, 7442, 7680, 6534, 5228, 6936, 2081, 6945,\n",
       "       7167, 5600, 5645])"
      ]
     },
     "execution_count": 32,
     "metadata": {},
     "output_type": "execute_result"
    }
   ],
   "source": [
    "total=(reads[:,0])\n",
    "total[y]"
   ]
  },
  {
   "cell_type": "code",
   "execution_count": 33,
   "metadata": {},
   "outputs": [
    {
     "name": "stdout",
     "output_type": "stream",
     "text": [
      "total_nonzero =\n",
      "442365\n",
      "Q7. Total read appears correct\n"
     ]
    }
   ],
   "source": [
    "total_nonzero = np.sum(total[y]) # replace with your code\n",
    "\n",
    "print('total_nonzero =')\n",
    "print(total_nonzero)\n",
    "check('Q7. Total read', total_nonzero, points=15)"
   ]
  },
  {
   "cell_type": "markdown",
   "metadata": {},
   "source": [
    "## 8. How many books total were read outside the top 4 countries?\n",
    "\n",
    "We have numbers for the US, Canada, Australia, and New Zealand. How many books were read in the rest of the world not including these top 4?"
   ]
  },
  {
   "cell_type": "code",
   "execution_count": 17,
   "metadata": {},
   "outputs": [
    {
     "data": {
      "text/plain": [
       "49109"
      ]
     },
     "execution_count": 17,
     "metadata": {},
     "output_type": "execute_result"
    }
   ],
   "source": [
    "booksreadintop4=np.sum(reads[:,1:])\n",
    "booksreadintop4\n",
    "total=np.sum(reads[:,0])\n",
    "total-booksreadintop4"
   ]
  },
  {
   "cell_type": "code",
   "execution_count": 18,
   "metadata": {},
   "outputs": [
    {
     "name": "stdout",
     "output_type": "stream",
     "text": [
      "total_outside = 49109\n",
      "Q8. Total reads by other countries appears correct\n"
     ]
    }
   ],
   "source": [
    "total_outside = total-booksreadintop4 # replace the 0 with your code\n",
    "print('total_outside =', total_outside)\n",
    "check('Q8. Total reads by other countries', total_outside, points=15)"
   ]
  },
  {
   "cell_type": "markdown",
   "metadata": {},
   "source": [
    "## Done!\n",
    "\n",
    "Now go back, restart the kernel (Kernel menu -> Restart), and then Shift-Enter your way through the notebook to run all the cells again so you an be sure all your code will work as you expect during grading."
   ]
  },
  {
   "cell_type": "code",
   "execution_count": 19,
   "metadata": {},
   "outputs": [
    {
     "name": "stdout",
     "output_type": "stream",
     "text": [
      "Q1. How many weeks appears correct\n",
      "Q2. Average reads per day for the world appears correct\n",
      "Q3. New Zealand reads more appears correct\n",
      "Q4. Day with most books read appears correct\n",
      "Q5. Number reads on busy days appears correct\n",
      "Q6. Weekly US total plot appears correct\n",
      "Q7. Total read appears correct\n",
      "Q8. Total reads by other countries appears correct\n",
      "Report for jcaldous\n",
      "  Pledged on my honor: Jessica Aldous\n",
      "    jcaldous\n",
      "  8.0 of 8 possibly correct for up to 100.0 of 100 points\n"
     ]
    },
    {
     "data": {
      "text/html": [
       "\n",
       "<p>Click the button below to submit your notebook. Watch for a confirmation message\n",
       "that your notebook was successfully uploaded. You may submit as often as you wish,\n",
       "only the last submission will count.</p>\n",
       "<button id=\"submitButton116\">Submit this notebook</button>\n",
       "<p id=\"submitResponse116\"></p>\n",
       "<script>\n",
       "var site = 'https://wwwx.cs.unc.edu/Courses/comp116-f17/';\n",
       "$('#submitButton116').on('click', function() {\n",
       "    var site = 'https://wwwx.cs.unc.edu/Courses/comp116-f17/',\n",
       "        $sresp = $('#submitResponse116'),\n",
       "        button = $('#submitButton116');\n",
       "    button.prop('disabled', true);\n",
       "    // wait until save is complete before pushing the notebook\n",
       "    $([IPython.events]).one('notebook_saved.Notebook', function() {\n",
       "        // get the token by logging in\n",
       "        $sresp.html('logging in');\n",
       "        $.ajax({\n",
       "            url: site + 'io/token/token.cgi',\n",
       "            dataType: 'jsonp'\n",
       "        }).done(function(data) {\n",
       "            var notebook = IPython.notebook.notebook_name,\n",
       "                uuid = data.token,\n",
       "                command = \"comp116.pushNotebook('\" + notebook + \"', '\" + uuid + \"')\",\n",
       "                kernel = IPython.notebook.kernel,\n",
       "                handler = function (out) {\n",
       "                    $('#comp116-stop-message').show();\n",
       "                    if (out.content.status == \"ok\") {\n",
       "                        $sresp.html(\"Successfully submitted \" + notebook);\n",
       "                        $('#comp116-stop-message').hide();\n",
       "                    } else if(out.content.status == \"error\") {\n",
       "                        $sresp.html(out.content.ename + \": \" + out.content.evalue);\n",
       "                    } else { // if output is something we haven't thought of\n",
       "                        $sresp.html(\"[out type not implemented]\")\n",
       "                    }\n",
       "                    button.prop('disabled', false);\n",
       "                };\n",
       "            $sresp.html('Submitting');\n",
       "            kernel.execute(command, {shell: { reply: handler }});\n",
       "        }).fail(function() {\n",
       "            $sresp.html('Login failed');\n",
       "            button.prop('disabled', false);\n",
       "        });\n",
       "    });\n",
       "    // trigger the save\n",
       "    $sresp.html('Saving');\n",
       "    IPython.notebook.save_notebook();\n",
       "});"
      ],
      "text/plain": [
       "<IPython.core.display.HTML object>"
      ]
     },
     "execution_count": 19,
     "metadata": {},
     "output_type": "execute_result"
    }
   ],
   "source": [
    "# do NOT modify this\n",
    "report(Onyen, Pledge)"
   ]
  }
 ],
 "metadata": {
  "kernelspec": {
   "display_name": "Python 3",
   "language": "python",
   "name": "python3"
  },
  "language_info": {
   "codemirror_mode": {
    "name": "ipython",
    "version": 3
   },
   "file_extension": ".py",
   "mimetype": "text/x-python",
   "name": "python",
   "nbconvert_exporter": "python",
   "pygments_lexer": "ipython3",
   "version": "3.6.1"
  }
 },
 "nbformat": 4,
 "nbformat_minor": 1
}
