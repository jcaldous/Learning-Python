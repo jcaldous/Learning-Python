{
 "cells": [
  {
   "cell_type": "markdown",
   "metadata": {},
   "source": [
    "# Comp 116 What comes next?\n",
    "\n",
    "Today we will talk about what comes next in Computer Science for those who enjoyed this and would like to learn more.\n",
    "\n",
    "Then we will review.\n",
    "\n",
    "## Do the Carolina Course Review!"
   ]
  },
  {
   "cell_type": "markdown",
   "metadata": {},
   "source": [
    "The next programming course is **Comp 401**\n",
    "\n",
    "Catalog description:\n",
    "\n",
    "Comp 401 Foundation of Programming (4). A first formal course in computer programming required. Advanced programming: Program specifications, preconditions, postconditions, loop invariants. Linear data structures, searching, and sorting. Algorithm paradigms and analysis.\n",
    "\n",
    "Next semester it will be taught by Professor Ketan Mayer-Patel.\n",
    "\n",
    "<img src=\"http://www.cs.unc.edu/~kmp/kmp.jpg\" />"
   ]
  },
  {
   "cell_type": "markdown",
   "metadata": {},
   "source": [
    "You'll be programming Java which looks different from Python but has pretty much the same stuff. \n",
    "\n",
    "For example, here is the sample program from the Comp 401 introduction slides.\n",
    "\n",
    "```java\n",
    "public class AverageHeightApp {\n",
    "\tpublic static void main(String[] args) {\n",
    "        double[] height_of_men = readHeightData();\n",
    "        double sum_of_heights = 0.0;\n",
    "        for (int i=0; i<height_of_men.length; i++) {\n",
    "            sum_of_heights += height_of_men[i];\n",
    "        }\n",
    "        double avg_height = sum_of_heights / height_of_men.length;\n",
    "        System.out.println(\"The average height is: \" + avg_height + \" inches\");\n",
    "    }\n",
    "\n",
    "    static double[] readHeightData() {\n",
    "        double[] height_data = {66.0, 72.0, 69.5, 68.2, 75.0, 64.5, 63.0};\n",
    "        return height_data;\n",
    "    }\n",
    "}\n",
    "```"
   ]
  },
  {
   "cell_type": "markdown",
   "metadata": {},
   "source": [
    "And here is the corresponding Python code:"
   ]
  },
  {
   "cell_type": "code",
   "execution_count": 1,
   "metadata": {},
   "outputs": [
    {
     "name": "stdout",
     "output_type": "stream",
     "text": [
      "The average height is: 68.31428571428572 inches\n"
     ]
    }
   ],
   "source": [
    "height_of_men = [66.0, 72.0, 69.5, 68.2, 75.0, 64.5, 63.0]\n",
    "sum_of_heights = 0.0\n",
    "for i in range(0, len(height_of_men)):\n",
    "    sum_of_heights += height_of_men[i]\n",
    "avg_height = sum_of_heights / len(height_of_men)\n",
    "\n",
    "print(\"The average height is:\", avg_height, \"inches\")"
   ]
  },
  {
   "cell_type": "markdown",
   "metadata": {},
   "source": [
    "Or using numpy"
   ]
  },
  {
   "cell_type": "code",
   "execution_count": 3,
   "metadata": {},
   "outputs": [
    {
     "name": "stdout",
     "output_type": "stream",
     "text": [
      "The average height is: 68.3142857143 inches\n"
     ]
    }
   ],
   "source": [
    "import numpy as np\n",
    "height_of_men = [66.0, 72.0, 69.5, 68.2, 75.0, 64.5, 63.0]\n",
    "print(\"The average height is:\", np.mean(height_of_men), \"inches\")"
   ]
  },
  {
   "cell_type": "markdown",
   "metadata": {},
   "source": [
    "We can't simply type our Java code into a browser window. We typically use a text editor, often a \"programmers text editor\" to create and modify our Java program. There are tons of these. In Comp 401 they will recommend [eclipse](https://www.eclipse.org/) which is called an IDE (integrated development environment) because it has lots of features for creating, debugging, and modifying programs."
   ]
  },
  {
   "cell_type": "markdown",
   "metadata": {},
   "source": [
    "We use the text editor to put the above Java code into a file named `AverageHeightApp.java`. The important thing about the name is that it is the same as the name on the public class line and that it ends with `.java`. We save the file, and then (after installing the free Java software) in a `terminal` or `console` window we can type:\n",
    "\n",
    "```\n",
    "javac AverageHeightApp.java\n",
    "```\n",
    "\n",
    "Either we'll some some error messages complaining about coding mistakes, or a new prompt which means all went well with the compile. Compling successfully, doesn't mean our program will run; only that it doesn't have errors that the compiler can detect.\n",
    "\n",
    "Python also compiles our code in a similar way, it just hides the process so we don't have to think about it."
   ]
  },
  {
   "cell_type": "markdown",
   "metadata": {},
   "source": [
    "After compiling the program, we can execute it by typing:\n",
    "```\n",
    "java AverageHeightApp\n",
    "```\n",
    "\n",
    "And we should see output like this:\n",
    "```\n",
    "$ javac AverageHeightApp.java \n",
    "$ java AverageHeightApp \n",
    "The average height is: 68.31428571428572 inches\n",
    "```"
   ]
  },
  {
   "cell_type": "markdown",
   "metadata": {},
   "source": [
    "We haven't done it in our class but we can run Python programs from the terminal or console window in the same way.\n",
    "\n",
    "```\n",
    "$ python AverageHeight.py \n",
    "The average height is: 68.3142857143 inches\n",
    "```"
   ]
  },
  {
   "cell_type": "markdown",
   "metadata": {},
   "source": [
    "## Are you ready for Comp 401?\n",
    "\n",
    "The Comp 401 introduction slides say this.\n",
    "\n",
    "You might want to drop the class if...\n",
    "\n",
    "* ... you didn't recognize the idea of an array of values and/or the notion of retrieving a value from the array by its index.\n",
    "* ... you can't recognize what in the program is acting as a variable.\n",
    "* ... you are unsure of how a for loop works.\n",
    "* ... you don't grock the notion of defining a function and/or calling a function.\n",
    "* ... you can't write a program of similar complexity in some other language if not Java.\n",
    "* ... The above are necessary conditions for success in this class, but may not be sufficient conditions for success.\n",
    "    * Trust your own judgment, don't be afraid of a challenge.\n",
    "    * Programming takes practice."
   ]
  },
  {
   "cell_type": "markdown",
   "metadata": {},
   "source": [
    "## Sure you are!\n",
    "\n",
    "You know all that stuff! Remember, it looks different but its really just a wordy way of saying the same things."
   ]
  },
  {
   "cell_type": "markdown",
   "metadata": {},
   "source": [
    "## Other useful resources\n",
    "\n",
    "* [Java for Python programmers](http://interactivepython.org/courselib/static/java4python/index.html)\n",
    "* [From Python to Java](http://home.wlu.edu/~lambertk/pythontojava/index.htm)\n",
    "* [Python and Java side by side](http://pythonconquerstheuniverse.wordpress.com/2009/10/03/python-java-a-side-by-side-comparison/)\n",
    "* [Getting started with Eclipse](http://eclipsetutorial.sourceforge.net/totalbeginner.html)\n",
    "* [Videos from Dewan's offering of 401](https://www.youtube.com/playlist?list=PLH5XTBxCO2hx5lrFiPsQ7M3MIf4N1eV5s)\n",
    "\n",
    "I really like this one: [The Python Paradox](http://paulgraham.com/pypar.html)"
   ]
  },
  {
   "cell_type": "markdown",
   "metadata": {},
   "source": [
    "## Major or Minor in CS?\n",
    "\n",
    "* [Minor](http://cs.unc.edu/academics/undergraduate/minor/)\n",
    "* [BA](http://cs.unc.edu/academics/undergraduate/ba-requirements/)\n",
    "* [BS](http://cs.unc.edu/academics/undergraduate/bs-requirements/)\n",
    "* [BS/MS](http://cs.unc.edu/academics/undergraduate/bs-ms/)"
   ]
  },
  {
   "cell_type": "markdown",
   "metadata": {},
   "source": [
    "# Courses beyond 401\n",
    "\n",
    "* 410 Data Structures\n",
    "* 411 Computer Organization\n",
    "* 426 WWW Programming\n",
    "* 431 Internet services and protocols\n",
    "* 455 Models of language and computation\n",
    "* 523 Software engineering laboratory\n",
    "* 535 Computer security\n",
    "* 550 Algorithms\n",
    "* 555 Bioalgorithms\n",
    "* 575 Computer graphics\n",
    "* 580 Enabling technology\n",
    "* 581 Robotics\n",
    "* 585 Serious games"
   ]
  },
  {
   "cell_type": "code",
   "execution_count": null,
   "metadata": {
    "collapsed": true
   },
   "outputs": [],
   "source": []
  }
 ],
 "metadata": {
  "kernelspec": {
   "display_name": "Python 3",
   "language": "python",
   "name": "python3"
  },
  "language_info": {
   "codemirror_mode": {
    "name": "ipython",
    "version": 3
   },
   "file_extension": ".py",
   "mimetype": "text/x-python",
   "name": "python",
   "nbconvert_exporter": "python",
   "pygments_lexer": "ipython3",
   "version": "3.6.1"
  }
 },
 "nbformat": 4,
 "nbformat_minor": 1
}
