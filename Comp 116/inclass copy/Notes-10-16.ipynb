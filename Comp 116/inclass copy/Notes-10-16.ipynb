{
 "cells": [
  {
   "cell_type": "markdown",
   "metadata": {},
   "source": [
    "# Notes for 16 October\n",
    "\n",
    "How often is it Friday the 13th?"
   ]
  },
  {
   "cell_type": "code",
   "execution_count": 1,
   "metadata": {
    "collapsed": true
   },
   "outputs": [],
   "source": [
    "%matplotlib inline\n",
    "import numpy as np\n",
    "import pylab"
   ]
  },
  {
   "cell_type": "code",
   "execution_count": 2,
   "metadata": {},
   "outputs": [
    {
     "name": "stdout",
     "output_type": "stream",
     "text": [
      "36525 days, 0:00:00\n"
     ]
    }
   ],
   "source": [
    "import datetime\n",
    "\n",
    "start = datetime.date(2000, 1, 1)\n",
    "end = datetime.date(2100, 1, 1)\n",
    "diff = end - start\n",
    "print(diff)"
   ]
  },
  {
   "cell_type": "code",
   "execution_count": 3,
   "metadata": {},
   "outputs": [
    {
     "data": {
      "text/plain": [
       "datetime.timedelta(1)"
      ]
     },
     "execution_count": 3,
     "metadata": {},
     "output_type": "execute_result"
    }
   ],
   "source": [
    "datetime.date(2000,1,2) - start"
   ]
  },
  {
   "cell_type": "code",
   "execution_count": 7,
   "metadata": {},
   "outputs": [
    {
     "name": "stdout",
     "output_type": "stream",
     "text": [
      "172\n"
     ]
    }
   ],
   "source": [
    "d = start\n",
    "f13 = 0\n",
    "years = 100\n",
    "end = datetime.date(start.year+years, 1, 1)\n",
    "days = (end - start).days\n",
    "for i in range(days):\n",
    "    if d.day == 13 and d.weekday() == 4:\n",
    "        f13 = f13 + 1\n",
    "    d = d + datetime.timedelta(1)\n",
    "print(f13)"
   ]
  },
  {
   "cell_type": "code",
   "execution_count": 8,
   "metadata": {},
   "outputs": [
    {
     "name": "stdout",
     "output_type": "stream",
     "text": [
      "14\n"
     ]
    }
   ],
   "source": [
    "d = start\n",
    "f13 = 0\n",
    "years = 100\n",
    "end = datetime.date(start.year+years, start.month, start.day)\n",
    "days = (end - start).days\n",
    "for i in range(days):\n",
    "    if d.day == 13 and d.weekday() == 4 and d.month == 10:\n",
    "        f13 = f13 + 1\n",
    "    d = d + datetime.timedelta(1)\n",
    "print(f13)"
   ]
  },
  {
   "cell_type": "code",
   "execution_count": 13,
   "metadata": {},
   "outputs": [
    {
     "name": "stdout",
     "output_type": "stream",
     "text": [
      "[datetime.date(2000, 10, 13), datetime.date(2006, 10, 13), datetime.date(2017, 10, 13), datetime.date(2023, 10, 13), datetime.date(2028, 10, 13), datetime.date(2034, 10, 13), datetime.date(2045, 10, 13), datetime.date(2051, 10, 13), datetime.date(2056, 10, 13), datetime.date(2062, 10, 13), datetime.date(2073, 10, 13), datetime.date(2079, 10, 13), datetime.date(2084, 10, 13), datetime.date(2090, 10, 13)]\n"
     ]
    }
   ],
   "source": [
    "d = start\n",
    "f13 = []\n",
    "years = 100\n",
    "end = datetime.date(start.year+years, start.month, start.day)\n",
    "days = (end - start).days\n",
    "oneday = datetime.timedelta(1)\n",
    "for i in range(days):\n",
    "    if d.day == 13 and d.weekday() == 4 and d.month == 10:\n",
    "        f13.append(d)\n",
    "    d = d + oneday\n",
    "print(f13)"
   ]
  },
  {
   "cell_type": "code",
   "execution_count": 14,
   "metadata": {},
   "outputs": [
    {
     "data": {
      "text/plain": [
       "[datetime.date(2000, 10, 13),\n",
       " datetime.date(2006, 10, 13),\n",
       " datetime.date(2017, 10, 13),\n",
       " datetime.date(2023, 10, 13),\n",
       " datetime.date(2028, 10, 13),\n",
       " datetime.date(2034, 10, 13),\n",
       " datetime.date(2045, 10, 13),\n",
       " datetime.date(2051, 10, 13),\n",
       " datetime.date(2056, 10, 13),\n",
       " datetime.date(2062, 10, 13),\n",
       " datetime.date(2073, 10, 13),\n",
       " datetime.date(2079, 10, 13),\n",
       " datetime.date(2084, 10, 13),\n",
       " datetime.date(2090, 10, 13)]"
      ]
     },
     "execution_count": 14,
     "metadata": {},
     "output_type": "execute_result"
    }
   ],
   "source": [
    "def listFridayThe13ths(start, years):\n",
    "    d = start\n",
    "    f13 = []\n",
    "    end = datetime.date(start.year+years, start.month, start.day)\n",
    "    days = (end - start).days\n",
    "    oneday = datetime.timedelta(1)\n",
    "    for i in range(days):\n",
    "        if d.day == 13 and d.weekday() == 4 and d.month == 10:\n",
    "            f13.append(d)\n",
    "        d = d + oneday\n",
    "    return f13\n",
    "\n",
    "listFridayThe13ths(datetime.date(2000, 1, 1), 100)\n",
    "    "
   ]
  },
  {
   "cell_type": "code",
   "execution_count": 15,
   "metadata": {},
   "outputs": [
    {
     "name": "stdout",
     "output_type": "stream",
     "text": [
      "139\n"
     ]
    }
   ],
   "source": [
    "print(len(listFridayThe13ths(datetime.date.today(), 1000)))"
   ]
  },
  {
   "cell_type": "code",
   "execution_count": 16,
   "metadata": {},
   "outputs": [
    {
     "name": "stdout",
     "output_type": "stream",
     "text": [
      "2023\n",
      "2028\n",
      "2034\n",
      "2045\n",
      "2051\n",
      "2056\n",
      "2062\n",
      "2073\n",
      "2079\n",
      "2084\n",
      "2090\n",
      "2102\n",
      "2113\n",
      "2119\n",
      "2124\n",
      "2130\n",
      "2141\n",
      "2147\n",
      "2152\n",
      "2158\n",
      "2169\n",
      "2175\n",
      "2180\n",
      "2186\n",
      "2197\n",
      "2209\n",
      "2215\n",
      "2220\n",
      "2226\n",
      "2237\n",
      "2243\n",
      "2248\n",
      "2254\n",
      "2265\n",
      "2271\n",
      "2276\n",
      "2282\n",
      "2293\n",
      "2299\n",
      "2305\n",
      "2311\n",
      "2316\n",
      "2322\n",
      "2333\n",
      "2339\n",
      "2344\n",
      "2350\n",
      "2361\n",
      "2367\n",
      "2372\n",
      "2378\n",
      "2389\n",
      "2395\n",
      "2400\n",
      "2406\n",
      "2417\n",
      "2423\n",
      "2428\n",
      "2434\n",
      "2445\n",
      "2451\n",
      "2456\n",
      "2462\n",
      "2473\n",
      "2479\n",
      "2484\n",
      "2490\n",
      "2502\n",
      "2513\n",
      "2519\n",
      "2524\n",
      "2530\n",
      "2541\n",
      "2547\n",
      "2552\n",
      "2558\n",
      "2569\n",
      "2575\n",
      "2580\n",
      "2586\n",
      "2597\n",
      "2609\n",
      "2615\n",
      "2620\n",
      "2626\n",
      "2637\n",
      "2643\n",
      "2648\n",
      "2654\n",
      "2665\n",
      "2671\n",
      "2676\n",
      "2682\n",
      "2693\n",
      "2699\n",
      "2705\n",
      "2711\n",
      "2716\n",
      "2722\n",
      "2733\n",
      "2739\n",
      "2744\n",
      "2750\n",
      "2761\n",
      "2767\n",
      "2772\n",
      "2778\n",
      "2789\n",
      "2795\n",
      "2800\n",
      "2806\n",
      "2817\n",
      "2823\n",
      "2828\n",
      "2834\n",
      "2845\n",
      "2851\n",
      "2856\n",
      "2862\n",
      "2873\n",
      "2879\n",
      "2884\n",
      "2890\n",
      "2902\n",
      "2913\n",
      "2919\n",
      "2924\n",
      "2930\n",
      "2941\n",
      "2947\n",
      "2952\n",
      "2958\n",
      "2969\n",
      "2975\n",
      "2980\n",
      "2986\n",
      "2997\n",
      "3009\n",
      "3015\n"
     ]
    }
   ],
   "source": [
    "L = listFridayThe13ths(datetime.date.today(), 1000)\n",
    "for d in L:\n",
    "    print(d.year)"
   ]
  },
  {
   "cell_type": "code",
   "execution_count": null,
   "metadata": {
    "collapsed": true
   },
   "outputs": [],
   "source": []
  }
 ],
 "metadata": {
  "kernelspec": {
   "display_name": "Python 3",
   "language": "python",
   "name": "python3"
  },
  "language_info": {
   "codemirror_mode": {
    "name": "ipython",
    "version": 3
   },
   "file_extension": ".py",
   "mimetype": "text/x-python",
   "name": "python",
   "nbconvert_exporter": "python",
   "pygments_lexer": "ipython3",
   "version": "3.6.1"
  }
 },
 "nbformat": 4,
 "nbformat_minor": 2
}
