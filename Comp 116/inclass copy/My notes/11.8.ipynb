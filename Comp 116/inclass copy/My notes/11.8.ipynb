{
 "cells": [
  {
   "cell_type": "markdown",
   "metadata": {},
   "source": [
    "## Midterm 2 preview\n",
    "We will use these data for Midterm2. They are the same as the data from oldMidterm1.\n"
   ]
  },
  {
   "cell_type": "markdown",
   "metadata": {},
   "source": [
    "## Data\n",
    "You are given a dataset consisting of measured rainfall in inches at several station scattered across North Carolina for many consecutive days. There is a column for each station and a row for each day. That is, a 10 by 4 array represents 10 days with data at 4 stations for each day.\n",
    "I am not telling you the number of stations or the number of days. You'll have to work those things out. Most importantly, you may not assume the dataset will be the same size when I do the grading. Your answer must work for any reasonable number of stations and days.\n",
    "I'll load the data for you here. Don't change any of this."
   ]
  },
  {
   "cell_type": "code",
   "execution_count": 12,
   "metadata": {},
   "outputs": [],
   "source": [
    "%matplotlib inline\n",
    "import numpy as np\n",
    "import pylab\n",
    "\n",
    "rain = np.loadtxt('rain-Copy1.txt')\n",
    "rain.setflags(write=False) # don't allow writing the array"
   ]
  },
  {
   "cell_type": "code",
   "execution_count": 13,
   "metadata": {},
   "outputs": [
    {
     "data": {
      "text/plain": [
       "array([[ 0.  ,  0.  ,  0.  ,  0.  ,  0.  ],\n",
       "       [ 0.03,  0.  ,  0.  ,  0.  ,  0.  ],\n",
       "       [ 0.16,  0.28,  0.  ,  0.83,  0.  ],\n",
       "       [ 2.22,  0.03,  0.  ,  0.01,  0.  ],\n",
       "       [ 0.03,  0.02,  0.87,  0.  ,  0.  ],\n",
       "       [ 0.  ,  0.  ,  0.01,  0.  ,  0.  ],\n",
       "       [ 0.  ,  0.  ,  0.  ,  0.  ,  0.  ],\n",
       "       [ 0.  ,  0.  ,  0.  ,  0.  ,  0.  ],\n",
       "       [ 0.  ,  0.  ,  0.  ,  0.  ,  0.  ],\n",
       "       [ 0.  ,  0.  ,  0.  ,  0.  ,  0.  ],\n",
       "       [ 0.  ,  0.  ,  0.  ,  0.  ,  0.  ],\n",
       "       [ 0.19,  0.86,  0.  ,  1.09,  0.  ],\n",
       "       [ 0.54,  0.35,  1.73,  0.02,  0.  ],\n",
       "       [ 0.04,  0.04,  0.86,  0.07,  0.  ],\n",
       "       [ 0.02,  0.  ,  0.02,  0.  ,  0.  ],\n",
       "       [ 0.  ,  0.  ,  0.  ,  0.  ,  0.  ],\n",
       "       [ 0.  ,  0.  ,  0.  ,  0.  ,  0.  ],\n",
       "       [ 0.02,  0.39,  0.  ,  0.55,  0.  ],\n",
       "       [ 0.  ,  0.04,  0.  ,  0.  ,  0.  ],\n",
       "       [ 0.  ,  0.  ,  0.  ,  0.  ,  0.  ],\n",
       "       [ 0.  ,  0.  ,  0.  ,  0.  ,  0.  ],\n",
       "       [ 0.  ,  0.  ,  0.  ,  0.  ,  0.  ],\n",
       "       [ 0.27,  0.  ,  0.  ,  0.29,  0.  ],\n",
       "       [ 0.61,  0.78,  1.88,  1.71,  0.  ],\n",
       "       [ 0.04,  0.  ,  0.38,  0.  ,  0.  ],\n",
       "       [ 0.  ,  0.07,  0.  ,  0.  ,  0.  ],\n",
       "       [ 0.04,  0.02,  0.02,  0.03,  0.  ],\n",
       "       [ 0.  ,  0.  ,  0.02,  0.  ,  0.  ],\n",
       "       [ 0.  ,  0.  ,  0.  ,  0.01,  0.  ],\n",
       "       [ 0.  ,  0.  ,  0.02,  0.  ,  0.  ],\n",
       "       [ 0.  ,  0.  ,  0.11,  0.  ,  0.  ],\n",
       "       [ 0.  ,  0.  ,  0.  ,  0.  ,  0.  ],\n",
       "       [ 0.49,  0.23,  0.31,  0.91,  0.43],\n",
       "       [ 0.  ,  0.03,  0.35,  0.  ,  0.49],\n",
       "       [ 0.  ,  0.  ,  0.  ,  0.08,  0.  ],\n",
       "       [ 0.  ,  0.  ,  1.  ,  1.56,  1.73],\n",
       "       [ 0.  ,  0.  ,  0.02,  0.  ,  0.04],\n",
       "       [ 0.  ,  0.  ,  0.  ,  0.  ,  0.  ],\n",
       "       [ 0.  ,  0.  ,  0.  ,  0.  ,  0.  ],\n",
       "       [ 0.28,  0.  ,  0.02,  0.  ,  0.  ],\n",
       "       [ 0.19,  0.96,  0.16,  0.74,  0.3 ],\n",
       "       [ 0.  ,  0.02,  0.31,  0.  ,  0.43],\n",
       "       [ 0.  ,  0.  ,  0.01,  0.01,  0.  ],\n",
       "       [ 0.  ,  0.  ,  0.02,  0.  ,  0.03],\n",
       "       [ 0.  ,  0.  ,  0.  ,  0.  ,  0.  ],\n",
       "       [ 0.  ,  0.  ,  0.  ,  0.  ,  0.  ],\n",
       "       [ 0.  ,  0.  ,  0.  ,  0.14,  0.  ],\n",
       "       [ 1.32,  0.19,  1.08,  0.85,  1.06],\n",
       "       [ 0.  ,  0.  ,  0.01,  0.02,  0.  ],\n",
       "       [ 0.05,  0.  ,  0.  ,  0.  ,  0.03],\n",
       "       [ 0.  ,  0.  ,  0.  ,  0.  ,  0.  ],\n",
       "       [ 0.06,  0.  ,  0.  ,  0.  ,  0.  ],\n",
       "       [ 0.65,  0.31,  0.13,  0.59,  0.32],\n",
       "       [ 0.02,  0.  ,  0.12,  0.6 ,  0.49],\n",
       "       [ 0.  ,  0.  ,  0.11,  0.6 ,  0.  ],\n",
       "       [ 0.04,  0.12,  0.13,  0.27,  0.49],\n",
       "       [ 0.48,  0.74,  1.3 ,  0.97,  1.21],\n",
       "       [ 0.  ,  0.02,  0.02,  0.  ,  0.  ],\n",
       "       [ 0.  ,  0.  ,  0.  ,  0.  ,  0.  ],\n",
       "       [ 0.  ,  0.05,  0.  ,  0.05,  0.  ],\n",
       "       [ 0.16,  0.43,  0.17,  0.  ,  0.04],\n",
       "       [ 0.06,  0.  ,  0.01,  0.01,  0.  ],\n",
       "       [ 0.43,  0.19,  0.03,  0.01,  0.  ],\n",
       "       [ 0.62,  0.13,  0.  ,  0.24,  0.  ],\n",
       "       [ 0.29,  0.49,  0.49,  0.01,  0.25],\n",
       "       [ 0.  ,  0.  ,  0.  ,  0.  ,  0.01],\n",
       "       [ 0.  ,  0.  ,  0.  ,  0.  ,  0.  ],\n",
       "       [ 0.12,  0.  ,  0.  ,  0.  ,  0.  ],\n",
       "       [ 0.18,  0.15,  0.  ,  0.  ,  0.  ],\n",
       "       [ 0.23,  0.  ,  0.  ,  0.03,  0.  ],\n",
       "       [ 0.58,  0.  ,  0.21,  0.12,  0.12],\n",
       "       [ 0.03,  0.  ,  0.  ,  0.03,  0.  ],\n",
       "       [ 0.03,  0.19,  0.15,  0.49,  0.08],\n",
       "       [ 0.02,  0.37,  1.28,  0.  ,  0.52],\n",
       "       [ 0.  ,  0.  ,  0.01,  0.  ,  0.  ],\n",
       "       [ 0.  ,  0.  ,  0.  ,  0.  ,  0.  ],\n",
       "       [ 0.  ,  0.  ,  0.  ,  0.  ,  0.  ],\n",
       "       [ 0.07,  0.  ,  0.  ,  0.08,  0.  ],\n",
       "       [ 0.14,  0.73,  0.13,  1.18,  0.13],\n",
       "       [ 0.08,  0.  ,  0.19,  0.  ,  0.62],\n",
       "       [ 0.  ,  0.  ,  0.  ,  0.  ,  0.01],\n",
       "       [ 0.54,  0.  ,  0.  ,  0.06,  0.06],\n",
       "       [ 0.  ,  0.  ,  0.  ,  0.  ,  0.  ],\n",
       "       [ 0.  ,  0.  ,  0.  ,  0.  ,  0.  ],\n",
       "       [ 0.  ,  0.61,  0.02,  0.01,  0.  ],\n",
       "       [ 0.31,  0.  ,  0.14,  0.18,  0.05],\n",
       "       [ 0.  ,  0.39,  0.48,  0.  ,  0.14],\n",
       "       [ 0.  ,  0.  ,  0.01,  0.  ,  0.  ],\n",
       "       [ 0.68,  0.  ,  0.  ,  0.05,  0.  ],\n",
       "       [ 0.  ,  0.  ,  0.15,  0.  ,  0.05],\n",
       "       [ 0.  ,  0.  ,  0.  ,  0.  ,  0.  ],\n",
       "       [ 0.  ,  0.  ,  0.  ,  0.  ,  0.  ],\n",
       "       [ 0.21,  0.  ,  0.  ,  0.  ,  0.  ],\n",
       "       [ 1.34,  0.  ,  0.  ,  0.47,  0.  ],\n",
       "       [ 0.  ,  0.  ,  0.07,  0.  ,  0.68],\n",
       "       [ 0.  ,  0.  ,  0.  ,  0.  ,  0.  ],\n",
       "       [ 0.51,  0.01,  0.  ,  0.  ,  0.  ],\n",
       "       [ 0.04,  0.51,  0.02,  0.  ,  0.  ],\n",
       "       [ 0.  ,  0.39,  0.45,  0.25,  0.  ],\n",
       "       [ 0.12,  0.22,  0.  ,  0.  ,  0.  ],\n",
       "       [ 0.31,  0.  ,  0.19,  0.34,  0.37],\n",
       "       [ 0.  ,  0.  ,  0.  ,  0.  ,  0.04],\n",
       "       [ 0.  ,  0.  ,  0.  ,  0.  ,  0.  ],\n",
       "       [ 0.26,  0.01,  0.  ,  0.61,  0.  ],\n",
       "       [ 0.36,  0.27,  0.73,  0.  ,  1.  ],\n",
       "       [ 0.43,  0.16,  0.02,  0.  ,  0.01],\n",
       "       [ 0.53,  0.08,  0.  ,  0.  ,  0.  ],\n",
       "       [ 0.28,  0.02,  0.  ,  0.  ,  0.  ],\n",
       "       [ 0.52,  0.  ,  0.  ,  0.04,  0.  ],\n",
       "       [ 0.63,  0.94,  0.67,  0.04,  0.13],\n",
       "       [ 0.  ,  0.03,  0.01,  0.  ,  0.  ],\n",
       "       [ 0.  ,  0.  ,  0.  ,  0.  ,  0.  ],\n",
       "       [ 0.  ,  0.  ,  0.  ,  0.  ,  0.  ],\n",
       "       [ 0.  ,  0.  ,  0.  ,  0.  ,  0.  ],\n",
       "       [ 0.  ,  0.  ,  0.  ,  0.07,  0.  ],\n",
       "       [ 0.  ,  0.11,  0.2 ,  0.09,  0.06],\n",
       "       [ 0.  ,  0.03,  0.06,  0.  ,  0.15],\n",
       "       [ 0.  ,  0.  ,  0.  ,  0.  ,  0.  ],\n",
       "       [ 0.  ,  0.  ,  0.  ,  0.  ,  0.  ],\n",
       "       [ 0.  ,  0.  ,  0.  ,  0.01,  0.  ],\n",
       "       [ 0.07,  0.52,  0.38,  0.14,  0.  ],\n",
       "       [ 0.  ,  0.  ,  0.12,  0.  ,  0.  ],\n",
       "       [ 0.  ,  0.  ,  0.  ,  0.  ,  0.  ],\n",
       "       [ 0.  ,  0.  ,  0.  ,  0.  ,  0.  ],\n",
       "       [ 0.  ,  0.  ,  0.  ,  0.  ,  0.06],\n",
       "       [ 0.  ,  0.  ,  0.  ,  0.  ,  0.15],\n",
       "       [ 0.  ,  0.  ,  0.  ,  0.01,  0.  ],\n",
       "       [ 0.57,  0.  ,  0.  ,  0.58,  0.61]])"
      ]
     },
     "execution_count": 13,
     "metadata": {},
     "output_type": "execute_result"
    }
   ],
   "source": [
    "rain"
   ]
  },
  {
   "cell_type": "code",
   "execution_count": 19,
   "metadata": {},
   "outputs": [
    {
     "data": {
      "text/plain": [
       "(array([], dtype=int64),)"
      ]
     },
     "execution_count": 19,
     "metadata": {},
     "output_type": "execute_result"
    }
   ],
   "source": [
    "A=np.array([42, 17,1954,2000])\n",
    "np.where(A==1054)"
   ]
  },
  {
   "cell_type": "code",
   "execution_count": 20,
   "metadata": {},
   "outputs": [
    {
     "data": {
      "text/plain": [
       "array([2])"
      ]
     },
     "execution_count": 20,
     "metadata": {},
     "output_type": "execute_result"
    }
   ],
   "source": [
    "np.where(A==1954)[0]"
   ]
  },
  {
   "cell_type": "code",
   "execution_count": 21,
   "metadata": {},
   "outputs": [
    {
     "data": {
      "text/plain": [
       "array([False, False,  True,  True], dtype=bool)"
      ]
     },
     "execution_count": 21,
     "metadata": {},
     "output_type": "execute_result"
    }
   ],
   "source": [
    "(A>1900)&(A%2==0)"
   ]
  },
  {
   "cell_type": "code",
   "execution_count": 23,
   "metadata": {},
   "outputs": [
    {
     "data": {
      "text/plain": [
       "[1954, 2000]"
      ]
     },
     "execution_count": 23,
     "metadata": {},
     "output_type": "execute_result"
    }
   ],
   "source": [
    "r = []\n",
    "for i in range(len(A)):\n",
    "    if A[i] > 1900:\n",
    "        r.append(A[i])\n",
    "r"
   ]
  },
  {
   "cell_type": "code",
   "execution_count": 24,
   "metadata": {},
   "outputs": [
    {
     "data": {
      "text/plain": [
       "[1954, 2000]"
      ]
     },
     "execution_count": 24,
     "metadata": {},
     "output_type": "execute_result"
    }
   ],
   "source": [
    "def F1(A):\n",
    "    r = []\n",
    "    for i in range(len(A)):\n",
    "        if A[i] > 1900:\n",
    "            r.append(A[i])\n",
    "    return r\n",
    "F1(A)"
   ]
  },
  {
   "cell_type": "code",
   "execution_count": 26,
   "metadata": {},
   "outputs": [
    {
     "data": {
      "text/plain": [
       "array([[ 0.  ,  0.  ,  0.  ,  0.  ,  0.  ],\n",
       "       [ 0.03,  0.  ,  0.  ,  0.  ,  0.  ],\n",
       "       [ 0.16,  0.28,  0.  ,  0.83,  0.  ],\n",
       "       [ 2.22,  0.03,  0.  ,  0.01,  0.  ],\n",
       "       [ 0.03,  0.02,  0.87,  0.  ,  0.  ],\n",
       "       [ 0.  ,  0.  ,  0.01,  0.  ,  0.  ],\n",
       "       [ 0.  ,  0.  ,  0.  ,  0.  ,  0.  ],\n",
       "       [ 0.  ,  0.  ,  0.  ,  0.  ,  0.  ]])"
      ]
     },
     "execution_count": 26,
     "metadata": {},
     "output_type": "execute_result"
    }
   ],
   "source": [
    "tiny=rain[:8,:]\n",
    "tiny"
   ]
  },
  {
   "cell_type": "code",
   "execution_count": 27,
   "metadata": {},
   "outputs": [
    {
     "data": {
      "text/plain": [
       "array([[False, False, False, False, False],\n",
       "       [ True, False, False, False, False],\n",
       "       [ True,  True, False,  True, False],\n",
       "       [ True,  True, False,  True, False],\n",
       "       [ True,  True,  True, False, False],\n",
       "       [False, False,  True, False, False],\n",
       "       [False, False, False, False, False],\n",
       "       [False, False, False, False, False]], dtype=bool)"
      ]
     },
     "execution_count": 27,
     "metadata": {},
     "output_type": "execute_result"
    }
   ],
   "source": [
    "tiny > 0"
   ]
  },
  {
   "cell_type": "code",
   "execution_count": 28,
   "metadata": {},
   "outputs": [
    {
     "data": {
      "text/plain": [
       "11"
      ]
     },
     "execution_count": 28,
     "metadata": {},
     "output_type": "execute_result"
    }
   ],
   "source": [
    "np.count_nonzero(tiny > 0)"
   ]
  },
  {
   "cell_type": "code",
   "execution_count": 30,
   "metadata": {},
   "outputs": [],
   "source": [
    "t=np.count_nonzero(tiny > 0, axis = 1)"
   ]
  },
  {
   "cell_type": "code",
   "execution_count": 31,
   "metadata": {},
   "outputs": [
    {
     "data": {
      "text/plain": [
       "[2, 3, 4]"
      ]
     },
     "execution_count": 31,
     "metadata": {},
     "output_type": "execute_result"
    }
   ],
   "source": [
    "r=[]\n",
    "for i in range(len(t)):\n",
    "    if t[i]>=2:\n",
    "        r.append(i)#index when condition was satisfied\n",
    "r"
   ]
  },
  {
   "cell_type": "code",
   "execution_count": 33,
   "metadata": {},
   "outputs": [
    {
     "data": {
      "text/plain": [
       "[2,\n",
       " 3,\n",
       " 4,\n",
       " 11,\n",
       " 12,\n",
       " 13,\n",
       " 17,\n",
       " 23,\n",
       " 26,\n",
       " 32,\n",
       " 33,\n",
       " 35,\n",
       " 40,\n",
       " 41,\n",
       " 47,\n",
       " 52,\n",
       " 53,\n",
       " 55,\n",
       " 56,\n",
       " 60,\n",
       " 61,\n",
       " 62,\n",
       " 63,\n",
       " 64,\n",
       " 70,\n",
       " 72,\n",
       " 73,\n",
       " 78,\n",
       " 79,\n",
       " 81,\n",
       " 84,\n",
       " 85,\n",
       " 86,\n",
       " 97,\n",
       " 98,\n",
       " 100,\n",
       " 103,\n",
       " 104,\n",
       " 105,\n",
       " 109,\n",
       " 115,\n",
       " 116,\n",
       " 120,\n",
       " 127]"
      ]
     },
     "execution_count": 33,
     "metadata": {},
     "output_type": "execute_result"
    }
   ],
   "source": [
    "def majorityRainyIndexes(d):\n",
    "    r = []\n",
    "    isRainy = d > 0\n",
    "    rainystationcount= np.count_nonzero(isRainy, axis=1)\n",
    "    threshold= d.shape[1]/2#threshold for majority\n",
    "    ismajority= rainystationcount>threshold\n",
    "    for i in range(len(ismajority)):\n",
    "        if ismajority[i]:\n",
    "            r.append(i)\n",
    "    return r\n",
    "majorityRainyIndexes(rain)"
   ]
  },
  {
   "cell_type": "code",
   "execution_count": null,
   "metadata": {
    "collapsed": true
   },
   "outputs": [],
   "source": []
  }
 ],
 "metadata": {
  "kernelspec": {
   "display_name": "Python 3",
   "language": "python",
   "name": "python3"
  },
  "language_info": {
   "codemirror_mode": {
    "name": "ipython",
    "version": 3
   },
   "file_extension": ".py",
   "mimetype": "text/x-python",
   "name": "python",
   "nbconvert_exporter": "python",
   "pygments_lexer": "ipython3",
   "version": "3.6.1"
  }
 },
 "nbformat": 4,
 "nbformat_minor": 2
}
