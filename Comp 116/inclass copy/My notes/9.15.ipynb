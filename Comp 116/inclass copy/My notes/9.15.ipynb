{
 "cells": [
  {
   "cell_type": "code",
   "execution_count": 1,
   "metadata": {
    "collapsed": true
   },
   "outputs": [],
   "source": [
    "%matplotlib inline\n",
    "import numpy as np\n",
    "import pylab"
   ]
  },
  {
   "cell_type": "code",
   "execution_count": 7,
   "metadata": {},
   "outputs": [
    {
     "data": {
      "text/plain": [
       "array([[ 1.76405235,  0.40015721],\n",
       "       [ 0.97873798,  2.2408932 ],\n",
       "       [ 1.86755799, -0.97727788],\n",
       "       [ 0.95008842, -0.15135721],\n",
       "       [-0.10321885,  0.4105985 ],\n",
       "       [ 0.14404357,  1.45427351],\n",
       "       [ 0.76103773,  0.12167502],\n",
       "       [ 0.44386323,  0.33367433],\n",
       "       [ 1.49407907, -0.20515826],\n",
       "       [ 0.3130677 , -0.85409574],\n",
       "       [-2.55298982,  0.6536186 ],\n",
       "       [ 0.8644362 , -0.74216502],\n",
       "       [ 2.26975462, -1.45436567],\n",
       "       [ 0.04575852, -0.18718385],\n",
       "       [ 1.53277921,  1.46935877],\n",
       "       [ 0.15494743,  0.37816252],\n",
       "       [-0.88778575, -1.98079647],\n",
       "       [-0.34791215,  0.15634897],\n",
       "       [ 1.23029068,  1.20237985],\n",
       "       [-0.38732682, -0.30230275],\n",
       "       [-1.04855297, -1.42001794],\n",
       "       [-1.70627019,  1.9507754 ],\n",
       "       [-0.50965218, -0.4380743 ],\n",
       "       [-1.25279536,  0.77749036]])"
      ]
     },
     "execution_count": 7,
     "metadata": {},
     "output_type": "execute_result"
    }
   ],
   "source": [
    "np.random.seed(0)\n",
    "D = np.random.randn(24,2)\n",
    "D"
   ]
  },
  {
   "cell_type": "code",
   "execution_count": 9,
   "metadata": {},
   "outputs": [
    {
     "data": {
      "text/plain": [
       "array([ 0.40015721,  2.2408932 , -0.97727788, -0.15135721,  0.4105985 ,\n",
       "        1.45427351,  0.12167502,  0.33367433, -0.20515826, -0.85409574,\n",
       "        0.6536186 , -0.74216502, -1.45436567, -0.18718385,  1.46935877,\n",
       "        0.37816252, -1.98079647,  0.15634897,  1.20237985, -0.30230275,\n",
       "       -1.42001794,  1.9507754 , -0.4380743 ,  0.77749036])"
      ]
     },
     "execution_count": 9,
     "metadata": {},
     "output_type": "execute_result"
    }
   ],
   "source": [
    "F=D[:,1]\n",
    "F"
   ]
  },
  {
   "cell_type": "code",
   "execution_count": 11,
   "metadata": {},
   "outputs": [
    {
     "data": {
      "text/plain": [
       "array([[ 0.40015721,  2.2408932 , -0.97727788, -0.15135721,  0.4105985 ,\n",
       "         1.45427351,  0.12167502,  0.33367433, -0.20515826, -0.85409574,\n",
       "         0.6536186 , -0.74216502],\n",
       "       [-1.45436567, -0.18718385,  1.46935877,  0.37816252, -1.98079647,\n",
       "         0.15634897,  1.20237985, -0.30230275, -1.42001794,  1.9507754 ,\n",
       "        -0.4380743 ,  0.77749036]])"
      ]
     },
     "execution_count": 11,
     "metadata": {},
     "output_type": "execute_result"
    }
   ],
   "source": [
    "F2= np.reshape(F, (2,12))\n",
    "F2"
   ]
  },
  {
   "cell_type": "code",
   "execution_count": 13,
   "metadata": {},
   "outputs": [
    {
     "data": {
      "text/plain": [
       "array([-0.52710423,  1.02685467,  0.24604045,  0.11340266, -0.78509898,\n",
       "        0.80531124,  0.66202743,  0.01568579, -0.8125881 ,  0.54833983,\n",
       "        0.10777215,  0.01766267])"
      ]
     },
     "execution_count": 13,
     "metadata": {},
     "output_type": "execute_result"
    }
   ],
   "source": [
    "FbM=np.mean(F2, axis=0)\n",
    "FbM"
   ]
  },
  {
   "cell_type": "code",
   "execution_count": 14,
   "metadata": {},
   "outputs": [
    {
     "data": {
      "text/plain": [
       "<Container object of 12 artists>"
      ]
     },
     "execution_count": 14,
     "metadata": {},
     "output_type": "execute_result"
    },
    {
     "data": {
      "image/png": "[encoded data removed]",
      "text/plain": [
       "<matplotlib.figure.Figure at 0x10f601a90>"
      ]
     },
     "metadata": {},
     "output_type": "display_data"
    }
   ],
   "source": [
    "pylab.bar(np.arange(1,13), FbM)"
   ]
  },
  {
   "cell_type": "code",
   "execution_count": 25,
   "metadata": {},
   "outputs": [
    {
     "data": {
      "text/plain": [
       "[<matplotlib.lines.Line2D at 0x10f9a8c50>]"
      ]
     },
     "execution_count": 25,
     "metadata": {},
     "output_type": "execute_result"
    },
    {
     "data": {
      "image/png": "[encoded data removed]",
      "text/plain": [
       "<matplotlib.figure.Figure at 0x1103a15c0>"
      ]
     },
     "metadata": {},
     "output_type": "display_data"
    }
   ],
   "source": [
    "pylab.plot(np.arange(1,13), FbM,'b*')"
   ]
  },
  {
   "cell_type": "code",
   "execution_count": null,
   "metadata": {
    "collapsed": true
   },
   "outputs": [],
   "source": [
    "#read about functions"
   ]
  }
 ],
 "metadata": {
  "kernelspec": {
   "display_name": "Python 3",
   "language": "python",
   "name": "python3"
  },
  "language_info": {
   "codemirror_mode": {
    "name": "ipython",
    "version": 3
   },
   "file_extension": ".py",
   "mimetype": "text/x-python",
   "name": "python",
   "nbconvert_exporter": "python",
   "pygments_lexer": "ipython3",
   "version": "3.6.1"
  }
 },
 "nbformat": 4,
 "nbformat_minor": 2
}
