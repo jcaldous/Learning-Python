{
 "cells": [
  {
   "cell_type": "markdown",
   "metadata": {},
   "source": [
    "## Notes for 20 November - Consecutive primes anomaly\n",
    "Prime numbers have been studied for centuries but a strange property of their last digits has just been noticed in March of 2016. You can read the paper on arxiv or a more approachable account in Scientific American or Quanta. If you find prime numbers interesting, I highly recommend the book Prime Obsession by John Derbyshire.\n",
    "Today we will attempt to confirm this amazing finding that the last digits of consecutive prime numbers are more likely to be different than the same.\n",
    "I found a list of the first million primes online and reformatted it to make it easy for you to download."
   ]
  },
  {
   "cell_type": "code",
   "execution_count": 1,
   "metadata": {
    "collapsed": true
   },
   "outputs": [],
   "source": [
    "%matplotlib inline\n",
    "import numpy as np\n",
    "import pylab\n",
    "\n",
    "#load the list of the first million primes\n",
    "primes = np.genfromtxt(\"http://wwwx.cs.unc.edu/Courses/comp116-f17/media/primes.txt\",\n",
    "                      dtype=int)"
   ]
  },
  {
   "cell_type": "code",
   "execution_count": 2,
   "metadata": {},
   "outputs": [
    {
     "data": {
      "text/plain": [
       "1000000"
      ]
     },
     "execution_count": 2,
     "metadata": {},
     "output_type": "execute_result"
    }
   ],
   "source": [
    "len(primes)"
   ]
  },
  {
   "cell_type": "code",
   "execution_count": 4,
   "metadata": {},
   "outputs": [
    {
     "data": {
      "text/plain": [
       "array([ 2,  3,  5,  7, 11, 13, 17, 19, 23, 29, 31, 37, 41, 43, 47, 53, 59,\n",
       "       61, 67, 71])"
      ]
     },
     "execution_count": 4,
     "metadata": {},
     "output_type": "execute_result"
    }
   ],
   "source": [
    "primes[:20]"
   ]
  },
  {
   "cell_type": "code",
   "execution_count": 5,
   "metadata": {
    "collapsed": true
   },
   "outputs": [],
   "source": [
    "B=10"
   ]
  },
  {
   "cell_type": "code",
   "execution_count": 7,
   "metadata": {},
   "outputs": [
    {
     "data": {
      "text/plain": [
       "3"
      ]
     },
     "execution_count": 7,
     "metadata": {},
     "output_type": "execute_result"
    }
   ],
   "source": [
    "p=53\n",
    "p%B"
   ]
  },
  {
   "cell_type": "code",
   "execution_count": 9,
   "metadata": {},
   "outputs": [
    {
     "data": {
      "text/plain": [
       "[249934, 1, 250110, 0, 1, 0, 250014, 0, 249940]"
      ]
     },
     "execution_count": 9,
     "metadata": {},
     "output_type": "execute_result"
    }
   ],
   "source": [
    "def countLastDigit(prime,base):\n",
    "    r=[]\n",
    "    for n in range(1,10):\n",
    "        r.append(np.count_nonzero(prime%base == n))\n",
    "    return r\n",
    "countLastDigit(primes, 10)"
   ]
  },
  {
   "cell_type": "code",
   "execution_count": 15,
   "metadata": {
    "collapsed": true
   },
   "outputs": [],
   "source": [
    "def CountLastDigit(primes, base):\n",
    "    result= np.zeros(base, dtype=int)\n",
    "    for i in range(len(primes)):\n",
    "        d=primes[i]%base\n",
    "        result[d]=result[d]+1\n",
    "    return result"
   ]
  },
  {
   "cell_type": "code",
   "execution_count": 16,
   "metadata": {},
   "outputs": [
    {
     "data": {
      "text/plain": [
       "array([     0, 249934,      1, 250110,      0,      1,      0, 250014,\n",
       "            0, 249940])"
      ]
     },
     "execution_count": 16,
     "metadata": {},
     "output_type": "execute_result"
    }
   ],
   "source": [
    "CountLastDigit(primes,10)"
   ]
  },
  {
   "cell_type": "code",
   "execution_count": 17,
   "metadata": {
    "collapsed": true
   },
   "outputs": [],
   "source": [
    "def countLastDigitDictionary(primes, base):\n",
    "    result = {}\n",
    "    for i in range(len(primes)):\n",
    "        d = primes[i] % base\n",
    "        if d in result:\n",
    "            result[d] += 1\n",
    "        else:\n",
    "            result[d] = 1\n",
    "    return result"
   ]
  },
  {
   "cell_type": "code",
   "execution_count": 18,
   "metadata": {},
   "outputs": [
    {
     "data": {
      "text/plain": [
       "{1: 249934, 2: 1, 3: 250110, 5: 1, 7: 250014, 9: 249940}"
      ]
     },
     "execution_count": 18,
     "metadata": {},
     "output_type": "execute_result"
    }
   ],
   "source": [
    "countLastDigitDictionary(primes,10)"
   ]
  },
  {
   "cell_type": "code",
   "execution_count": 19,
   "metadata": {
    "collapsed": true
   },
   "outputs": [],
   "source": [
    "def countLastDigitDictionary1(primes, base):\n",
    "    result = {}\n",
    "    for i in range(len(primes)):\n",
    "        d = primes[i] % base\n",
    "        result[d]= result.get(d,0)+1\n",
    "    return result"
   ]
  },
  {
   "cell_type": "code",
   "execution_count": 20,
   "metadata": {},
   "outputs": [
    {
     "data": {
      "text/plain": [
       "{1: 249934, 2: 1, 3: 250110, 5: 1, 7: 250014, 9: 249940}"
      ]
     },
     "execution_count": 20,
     "metadata": {},
     "output_type": "execute_result"
    }
   ],
   "source": [
    "countLastDigitDictionary1(primes,10)"
   ]
  },
  {
   "cell_type": "code",
   "execution_count": 23,
   "metadata": {},
   "outputs": [
    {
     "data": {
      "text/plain": [
       "array([[    0,     0,     0,     0,     0,     0,     0,     0,     0,\n",
       "            0],\n",
       "       [    0, 42853,     0, 77475,     0,     0,     0, 79453,     0,\n",
       "        50153],\n",
       "       [    0,     0,     0,     1,     0,     0,     0,     0,     0,\n",
       "            0],\n",
       "       [    0, 58255,     0, 39668,     0,     1,     0, 72827,     0,\n",
       "        79358],\n",
       "       [    0,     0,     0,     0,     0,     0,     0,     0,     0,\n",
       "            0],\n",
       "       [    0,     0,     0,     0,     0,     0,     0,     1,     0,\n",
       "            0],\n",
       "       [    0,     0,     0,     0,     0,     0,     0,     0,     0,\n",
       "            0],\n",
       "       [    0, 64230,     0, 68595,     0,     0,     0, 39603,     0,\n",
       "        77586],\n",
       "       [    0,     0,     0,     0,     0,     0,     0,     0,     0,\n",
       "            0],\n",
       "       [    0, 84596,     0, 64371,     0,     0,     0, 58130,     0,\n",
       "        42843]])"
      ]
     },
     "execution_count": 23,
     "metadata": {},
     "output_type": "execute_result"
    }
   ],
   "source": [
    "def countlastconsecutivedigit(prime, base):\n",
    "    result=np.zeros((base,base), dtype=int)\n",
    "    for i in range(1,len(primes)):\n",
    "        d1=prime[i-1]%base\n",
    "        d2=prime[i]%base\n",
    "        result[d1,d2]+=1\n",
    "    return result\n",
    "countlastconsecutivedigit(primes,10)"
   ]
  },
  {
   "cell_type": "code",
   "execution_count": 25,
   "metadata": {},
   "outputs": [
    {
     "data": {
      "text/plain": [
       "{(1, 1): 42853,\n",
       " (1, 3): 77475,\n",
       " (1, 7): 79453,\n",
       " (1, 9): 50153,\n",
       " (2, 3): 1,\n",
       " (3, 1): 58255,\n",
       " (3, 3): 39668,\n",
       " (3, 5): 1,\n",
       " (3, 7): 72827,\n",
       " (3, 9): 79358,\n",
       " (5, 7): 1,\n",
       " (7, 1): 64230,\n",
       " (7, 3): 68595,\n",
       " (7, 7): 39603,\n",
       " (7, 9): 77586,\n",
       " (9, 1): 84596,\n",
       " (9, 3): 64371,\n",
       " (9, 7): 58130,\n",
       " (9, 9): 42843}"
      ]
     },
     "execution_count": 25,
     "metadata": {},
     "output_type": "execute_result"
    }
   ],
   "source": [
    "def countlastconsecutivedigitdictionary(prime,base):\n",
    "    result={}\n",
    "    for i in range(1,len(primes)):\n",
    "        d1=prime[i-1]%base\n",
    "        d2=prime[i]%base\n",
    "        key=(d1,d2)\n",
    "        result[key]=result.get(key,0)+1\n",
    "    return result\n",
    "countlastconsecutivedigitdictionary(primes,10)"
   ]
  },
  {
   "cell_type": "code",
   "execution_count": 26,
   "metadata": {},
   "outputs": [
    {
     "data": {
      "text/plain": [
       "{(0, 2): 1,\n",
       " (1, 1): 215873,\n",
       " (1, 2): 283955,\n",
       " (2, 0): 1,\n",
       " (2, 1): 283956,\n",
       " (2, 2): 216213}"
      ]
     },
     "execution_count": 26,
     "metadata": {},
     "output_type": "execute_result"
    }
   ],
   "source": [
    "countlastconsecutivedigitdictionary(primes,3)"
   ]
  },
  {
   "cell_type": "code",
   "execution_count": 27,
   "metadata": {},
   "outputs": [
    {
     "data": {
      "text/plain": [
       "{(1, 1): 215873,\n",
       " (1, 5): 283955,\n",
       " (2, 3): 1,\n",
       " (3, 5): 1,\n",
       " (5, 1): 283956,\n",
       " (5, 5): 216213}"
      ]
     },
     "execution_count": 27,
     "metadata": {},
     "output_type": "execute_result"
    }
   ],
   "source": [
    "countlastconsecutivedigitdictionary(primes,6)"
   ]
  },
  {
   "cell_type": "code",
   "execution_count": 28,
   "metadata": {},
   "outputs": [
    {
     "data": {
      "text/plain": [
       "{(1, 1): 6900,\n",
       " (1, 3): 21071,\n",
       " (1, 5): 17326,\n",
       " (1, 7): 23453,\n",
       " (1, 9): 14482,\n",
       " (1, 11): 14129,\n",
       " (1, 13): 15992,\n",
       " (1, 15): 11505,\n",
       " (2, 3): 1,\n",
       " (3, 1): 11460,\n",
       " (3, 3): 6921,\n",
       " (3, 5): 21247,\n",
       " (3, 7): 17522,\n",
       " (3, 9): 23592,\n",
       " (3, 11): 14469,\n",
       " (3, 13): 14125,\n",
       " (3, 15): 15780,\n",
       " (5, 1): 15778,\n",
       " (5, 3): 11623,\n",
       " (5, 5): 6938,\n",
       " (5, 7): 20917,\n",
       " (5, 9): 17367,\n",
       " (5, 11): 23578,\n",
       " (5, 13): 14536,\n",
       " (5, 15): 14194,\n",
       " (7, 1): 14215,\n",
       " (7, 3): 15763,\n",
       " (7, 5): 11512,\n",
       " (7, 7): 7012,\n",
       " (7, 9): 21038,\n",
       " (7, 11): 17401,\n",
       " (7, 13): 23540,\n",
       " (7, 15): 14519,\n",
       " (9, 1): 14457,\n",
       " (9, 3): 14262,\n",
       " (9, 5): 15701,\n",
       " (9, 7): 11570,\n",
       " (9, 9): 6863,\n",
       " (9, 11): 21163,\n",
       " (9, 13): 17276,\n",
       " (9, 15): 23646,\n",
       " (11, 1): 23663,\n",
       " (11, 3): 14442,\n",
       " (11, 5): 14055,\n",
       " (11, 7): 15857,\n",
       " (11, 9): 11508,\n",
       " (11, 11): 6971,\n",
       " (11, 13): 20930,\n",
       " (11, 15): 17549,\n",
       " (13, 1): 17401,\n",
       " (13, 3): 23400,\n",
       " (13, 5): 14570,\n",
       " (13, 7): 14252,\n",
       " (13, 9): 15873,\n",
       " (13, 11): 11448,\n",
       " (13, 13): 7050,\n",
       " (13, 15): 21077,\n",
       " (15, 1): 20984,\n",
       " (15, 3): 17633,\n",
       " (15, 5): 23582,\n",
       " (15, 7): 14418,\n",
       " (15, 9): 14215,\n",
       " (15, 11): 15816,\n",
       " (15, 13): 11622,\n",
       " (15, 15): 6839}"
      ]
     },
     "execution_count": 28,
     "metadata": {},
     "output_type": "execute_result"
    }
   ],
   "source": [
    "countlastconsecutivedigitdictionary(primes,16)"
   ]
  },
  {
   "cell_type": "code",
   "execution_count": null,
   "metadata": {
    "collapsed": true
   },
   "outputs": [],
   "source": []
  }
 ],
 "metadata": {
  "kernelspec": {
   "display_name": "Python 3",
   "language": "python",
   "name": "python3"
  },
  "language_info": {
   "codemirror_mode": {
    "name": "ipython",
    "version": 3
   },
   "file_extension": ".py",
   "mimetype": "text/x-python",
   "name": "python",
   "nbconvert_exporter": "python",
   "pygments_lexer": "ipython3",
   "version": "3.6.1"
  }
 },
 "nbformat": 4,
 "nbformat_minor": 2
}
