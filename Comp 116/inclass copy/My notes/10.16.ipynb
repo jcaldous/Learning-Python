{
 "cells": [
  {
   "cell_type": "code",
   "execution_count": 3,
   "metadata": {
    "collapsed": true
   },
   "outputs": [],
   "source": [
    "%matplotlib inline\n",
    "import numpy as np\n",
    "import pylab"
   ]
  },
  {
   "cell_type": "code",
   "execution_count": 4,
   "metadata": {
    "collapsed": true
   },
   "outputs": [],
   "source": [
    "##mine\n",
    "def Hbonds(anum, aname, resno, coords):\n",
    "    '''Find hydrogen bonds'''\n",
    "    pairs = [] # build up the result in this list\n",
    "    for i in range(len(coords)):\n",
    "        if aname[i][1]=='N':\n",
    "            for j in range(len(coords)):\n",
    "                if aname[j][1]=='O':\n",
    "                    d = np.sqrt(np.sum((coords[i] - coords[j])**2))\n",
    "                    if d >= 2.6 and d <= 3.2 and abs(resno[i] - resno[j]) >= 2:\n",
    "                        pairs.append((i, j))\n",
    "    #your work goes here\n",
    "    return pairs"
   ]
  },
  {
   "cell_type": "code",
   "execution_count": 5,
   "metadata": {
    "collapsed": true
   },
   "outputs": [],
   "source": [
    "## from notes\n",
    "def Hbonds(anum, aname, resno, coords):\n",
    "    pairs = []\n",
    "    for i in range(len(coords)):\n",
    "        if aname[i][1] == 'N': \n",
    "            for j in range(len(coords)):\n",
    "                if aname[j][1] == 'O':\n",
    "\n",
    "                    # here I have a point in the left and a point in the right\n",
    "                    d = np.sqrt(np.sum((coords[i] - coords[j])**2))\n",
    "                    if d >= 1 and d <= 5 and abs(resno[i] - resno[j]) >= 2:\n",
    "                        print('pair =', i, j)\n",
    "                        pairs.append((i, j))"
   ]
  },
  {
   "cell_type": "code",
   "execution_count": 6,
   "metadata": {},
   "outputs": [
    {
     "name": "stdout",
     "output_type": "stream",
     "text": [
      "36525 days, 0:00:00\n"
     ]
    }
   ],
   "source": [
    "import datetime\n",
    "start= datetime.date(2000,1,1)\n",
    "end= datetime.date(2100,1,1)\n",
    "diff= end-start\n",
    "print(diff)"
   ]
  },
  {
   "cell_type": "code",
   "execution_count": 7,
   "metadata": {},
   "outputs": [
    {
     "name": "stdout",
     "output_type": "stream",
     "text": [
      "[datetime.date(2000, 10, 13), datetime.date(2006, 10, 13), datetime.date(2017, 10, 13), datetime.date(2023, 10, 13), datetime.date(2028, 10, 13), datetime.date(2034, 10, 13), datetime.date(2045, 10, 13), datetime.date(2051, 10, 13), datetime.date(2056, 10, 13), datetime.date(2062, 10, 13), datetime.date(2073, 10, 13), datetime.date(2079, 10, 13), datetime.date(2084, 10, 13), datetime.date(2090, 10, 13)]\n"
     ]
    }
   ],
   "source": [
    "d=start\n",
    "f13=[]\n",
    "years= 100\n",
    "end= datetime.date(start.year+years,1,1)\n",
    "days=(end-start).days\n",
    "for i in range(days):\n",
    "    if d.day==13 and d.weekday()==4 and d.month==10:\n",
    "        f13.append(d)\n",
    "    d=d+datetime.timedelta(1)    \n",
    "    \n",
    "print(f13)"
   ]
  },
  {
   "cell_type": "code",
   "execution_count": 8,
   "metadata": {},
   "outputs": [
    {
     "data": {
      "text/plain": [
       "[datetime.date(2000, 10, 13),\n",
       " datetime.date(2006, 10, 13),\n",
       " datetime.date(2017, 10, 13),\n",
       " datetime.date(2023, 10, 13),\n",
       " datetime.date(2028, 10, 13),\n",
       " datetime.date(2034, 10, 13),\n",
       " datetime.date(2045, 10, 13),\n",
       " datetime.date(2051, 10, 13),\n",
       " datetime.date(2056, 10, 13),\n",
       " datetime.date(2062, 10, 13),\n",
       " datetime.date(2073, 10, 13),\n",
       " datetime.date(2079, 10, 13),\n",
       " datetime.date(2084, 10, 13),\n",
       " datetime.date(2090, 10, 13)]"
      ]
     },
     "execution_count": 8,
     "metadata": {},
     "output_type": "execute_result"
    }
   ],
   "source": [
    "def listfridaythe13th(start, years):\n",
    "    d=start\n",
    "    f13=[]\n",
    "    years= 100\n",
    "    end= datetime.date(start.year+years,1,1)\n",
    "    days=(end-start).days\n",
    "    onday=datetime.timedelta(1) \n",
    "    for i in range(days):\n",
    "        if d.day==13 and d.weekday()==4 and d.month==10:\n",
    "            f13.append(d)\n",
    "        d=d+onday \n",
    "    return f13\n",
    "listfridaythe13th(datetime.date(2000, 1, 1), 100)"
   ]
  },
  {
   "cell_type": "code",
   "execution_count": 9,
   "metadata": {},
   "outputs": [
    {
     "ename": "TypeError",
     "evalue": "'int' object is not iterable",
     "output_type": "error",
     "traceback": [
      "\u001b[0;31m---------------------------------------------------------------------------\u001b[0m",
      "\u001b[0;31mTypeError\u001b[0m                                 Traceback (most recent call last)",
      "\u001b[0;32m<ipython-input-9-d0efb1f03aa4>\u001b[0m in \u001b[0;36m<module>\u001b[0;34m()\u001b[0m\n\u001b[1;32m      1\u001b[0m \u001b[0mL\u001b[0m\u001b[0;34m=\u001b[0m\u001b[0;34m(\u001b[0m\u001b[0mlen\u001b[0m\u001b[0;34m(\u001b[0m\u001b[0mlistfridaythe13th\u001b[0m\u001b[0;34m(\u001b[0m\u001b[0mdatetime\u001b[0m\u001b[0;34m.\u001b[0m\u001b[0mdate\u001b[0m\u001b[0;34m.\u001b[0m\u001b[0mtoday\u001b[0m\u001b[0;34m(\u001b[0m\u001b[0;34m)\u001b[0m\u001b[0;34m,\u001b[0m \u001b[0;36m1000\u001b[0m\u001b[0;34m)\u001b[0m\u001b[0;34m)\u001b[0m\u001b[0;34m)\u001b[0m\u001b[0;34m\u001b[0m\u001b[0m\n\u001b[0;32m----> 2\u001b[0;31m \u001b[0;32mfor\u001b[0m \u001b[0md\u001b[0m \u001b[0;32min\u001b[0m \u001b[0mL\u001b[0m\u001b[0;34m:\u001b[0m\u001b[0;34m\u001b[0m\u001b[0m\n\u001b[0m\u001b[1;32m      3\u001b[0m   \u001b[0mprint\u001b[0m\u001b[0;34m(\u001b[0m\u001b[0md\u001b[0m\u001b[0;34m.\u001b[0m\u001b[0myear\u001b[0m\u001b[0;34m)\u001b[0m\u001b[0;34m\u001b[0m\u001b[0m\n",
      "\u001b[0;31mTypeError\u001b[0m: 'int' object is not iterable"
     ]
    }
   ],
   "source": [
    "L=(len(listfridaythe13th(datetime.date.today(), 1000)))\n",
    "for d in L:\n",
    "  print(d.year)  "
   ]
  },
  {
   "cell_type": "code",
   "execution_count": null,
   "metadata": {
    "collapsed": true
   },
   "outputs": [],
   "source": []
  },
  {
   "cell_type": "code",
   "execution_count": null,
   "metadata": {
    "collapsed": true
   },
   "outputs": [],
   "source": []
  }
 ],
 "metadata": {
  "kernelspec": {
   "display_name": "Python 3",
   "language": "python",
   "name": "python3"
  },
  "language_info": {
   "codemirror_mode": {
    "name": "ipython",
    "version": 3
   },
   "file_extension": ".py",
   "mimetype": "text/x-python",
   "name": "python",
   "nbconvert_exporter": "python",
   "pygments_lexer": "ipython3",
   "version": "3.6.1"
  }
 },
 "nbformat": 4,
 "nbformat_minor": 2
}
