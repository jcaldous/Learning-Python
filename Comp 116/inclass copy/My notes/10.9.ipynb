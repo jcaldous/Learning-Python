{
 "cells": [
  {
   "cell_type": "markdown",
   "metadata": {},
   "source": [
    "Notes for 9 October\n",
    "\n",
    "Helps for assignment 3"
   ]
  },
  {
   "cell_type": "code",
   "execution_count": 1,
   "metadata": {
    "collapsed": true
   },
   "outputs": [],
   "source": [
    "# from the top of A3\n",
    "%matplotlib inline\n",
    "import numpy as np\n",
    "import pylab\n",
    "from mpl_toolkits.mplot3d import Axes3D\n",
    "# for the 3D plots we'll make below"
   ]
  },
  {
   "cell_type": "markdown",
   "metadata": {},
   "source": [
    "First we'll fetch a pdb file to use as an example.\n",
    "\n",
    "The files are included in the assignment so you don't have to do this part."
   ]
  },
  {
   "cell_type": "code",
   "execution_count": 2,
   "metadata": {},
   "outputs": [
    {
     "data": {
      "text/plain": [
       "('7HVP.pdb', <http.client.HTTPMessage at 0x10c433be0>)"
      ]
     },
     "execution_count": 2,
     "metadata": {},
     "output_type": "execute_result"
    }
   ],
   "source": [
    "import urllib.request\n",
    "urllib.request.urlretrieve('https://cs.unc.edu/Courses/comp116-f17/media/7HVP.pdb', '7HVP.pdb')"
   ]
  },
  {
   "cell_type": "markdown",
   "metadata": {},
   "source": [
    "Now I'll copy the skeleton of readPDBFile from A3 so we can work with it."
   ]
  },
  {
   "cell_type": "code",
   "execution_count": 21,
   "metadata": {},
   "outputs": [
    {
     "name": "stdout",
     "output_type": "stream",
     "text": [
      "num\n",
      "[1 2 3 4 5]\n",
      "name\n",
      "[' N  ' ' CA ' ' C  ' ' O  ' ' CB ']\n",
      "rn\n",
      "[1 1 1 1 1]\n",
      "c\n",
      "[[ -3.26    7.392  33.952]\n",
      " [ -2.317   6.655  34.795]\n",
      " [ -0.919   6.658  34.208]\n",
      " [ -0.802   7.111  33.058]\n",
      " [ -2.897   5.256  34.804]]\n"
     ]
    }
   ],
   "source": [
    "def readPDBfile(filename):\n",
    "    '''read a PDB file, extract the ATOM lines, and return\n",
    "       atom number, atom name, residue number, and coords for each'''\n",
    "    # build them up in lists because they are cheap to append\n",
    "    anum = []\n",
    "    aname = []\n",
    "    resno = []\n",
    "    coords = []\n",
    "\n",
    "    #your work goes here. You should read the ATOM lines and append the appropriate\n",
    "    #fields to the lists anum, aname, resno, and coords\n",
    "    \n",
    "   # read every line from the file\n",
    "    for line in open(filename, 'r'):\n",
    "        # process the ATOM lines\n",
    "        if line[0:6] == 'ATOM  ':\n",
    "            #serial number\n",
    "            anum.append(int(line[6:11]))\n",
    "            #name\n",
    "            aname.append(line[12:16])\n",
    "            #residue number\n",
    "            resno.append(int(line[22:26]))\n",
    "            #get the x coords\n",
    "            x= float(line[30:38])\n",
    "            #get the y coords\n",
    "            y= float(line[38:46])\n",
    "            #get z\n",
    "            z= float(line[46:54])\n",
    "            #coords\n",
    "            coords.append([x,y,z])\n",
    "    # convert the results to numpy arrays\n",
    "    anum = np.array(anum)\n",
    "    aname = np.array(aname)\n",
    "    coords = np.array(coords)\n",
    "    resno = np.array(resno)\n",
    "\n",
    "    # return the 4 results\n",
    "    return (anum, aname, resno, coords)\n",
    "\n",
    "# Now we will call your function to test it.\n",
    "# We also use these values for testing in the later parts\n",
    "num, name, rn, c = readPDBfile('7HVP.pdb')\n",
    "\n",
    "# I'm including these lines so we can see the result of our work.\n",
    "# In your assigment the checker code is here\n",
    "\n",
    "print('num')\n",
    "print(num[:5])\n",
    "print('name')\n",
    "print(name[:5])\n",
    "print('rn')\n",
    "print(rn[:5])\n",
    "print('c')\n",
    "print(c[:5])"
   ]
  },
  {
   "cell_type": "code",
   "execution_count": 6,
   "metadata": {},
   "outputs": [
    {
     "data": {
      "text/plain": [
       "[42]"
      ]
     },
     "execution_count": 6,
     "metadata": {},
     "output_type": "execute_result"
    }
   ],
   "source": [
    "L=[]\n",
    "L.append(42)\n",
    "L"
   ]
  },
  {
   "cell_type": "code",
   "execution_count": 17,
   "metadata": {
    "collapsed": true
   },
   "outputs": [],
   "source": [
    "a=np.array([[1,2], [3,4]])"
   ]
  },
  {
   "cell_type": "code",
   "execution_count": 18,
   "metadata": {},
   "outputs": [
    {
     "data": {
      "text/plain": [
       "array([[1, 2],\n",
       "       [3, 4]])"
      ]
     },
     "execution_count": 18,
     "metadata": {},
     "output_type": "execute_result"
    }
   ],
   "source": [
    "a"
   ]
  },
  {
   "cell_type": "code",
   "execution_count": 28,
   "metadata": {},
   "outputs": [
    {
     "data": {
      "text/plain": [
       "array([[ -2.317,   6.655,  34.795],\n",
       "       [  1.413,   6.135,  34.416],\n",
       "       [  2.313,   2.959,  32.574],\n",
       "       [  5.801,   1.439,  32.545],\n",
       "       [  7.293,  -0.834,  29.935],\n",
       "       [  8.302,  -3.944,  31.75 ],\n",
       "       [  5.105,  -5.324,  30.217],\n",
       "       [  3.358,  -4.504,  26.928],\n",
       "       [  1.364,  -1.21 ,  27.218],\n",
       "       [ -1.985,  -3.1  ,  26.849],\n",
       "       [ -5.26 ,  -1.527,  27.763],\n",
       "       [ -8.961,  -2.053,  27.405],\n",
       "       [-10.803,  -0.15 ,  24.739],\n",
       "       [-14.517,   0.181,  24.11 ],\n",
       "       [-15.17 ,   0.571,  20.439],\n",
       "       [-18.955,   0.585,  20.446],\n",
       "       [-20.436,  -2.071,  22.643],\n",
       "       [-17.276,  -4.189,  22.243],\n",
       "       [-14.374,  -4.507,  24.701],\n",
       "       [-11.031,  -5.014,  23.021],\n",
       "       [ -7.451,  -5.148,  24.233],\n",
       "       [ -5.069,  -2.843,  22.396],\n",
       "       [ -1.583,  -1.615,  22.62 ],\n",
       "       [ -0.747,   2.03 ,  23.226],\n",
       "       [  1.792,   2.364,  20.338],\n",
       "       [  3.594,   5.676,  19.944],\n",
       "       [  5.698,   4.054,  17.123],\n",
       "       [  2.456,   3.817,  15.11 ],\n",
       "       [  1.01 ,   6.812,  13.26 ],\n",
       "       [ -2.513,   5.341,  12.938],\n",
       "       [ -4.884,   3.02 ,  14.705],\n",
       "       [ -5.145,  -0.476,  13.267],\n",
       "       [ -7.563,  -3.059,  14.564],\n",
       "       [ -7.813,  -6.744,  13.908],\n",
       "       [-10.583,  -7.427,  11.388],\n",
       "       [-13.987,  -6.34 ,  12.809],\n",
       "       [-17.111,  -4.729,  11.456],\n",
       "       [-17.602,  -1.092,  12.276],\n",
       "       [-20.613,   0.841,  11.077],\n",
       "       [-19.998,   3.078,   7.999],\n",
       "       [-18.58 ,   3.265,   4.468],\n",
       "       [-14.864,   2.249,   4.272],\n",
       "       [-12.16 ,   3.174,   1.817],\n",
       "       [ -9.521,   0.587,   1.066],\n",
       "       [ -6.062,   1.869,   2.172],\n",
       "       [ -2.392,   1.03 ,   2.562],\n",
       "       [ -0.124,   1.281,   5.652],\n",
       "       [  3.323,  -0.399,   6.236],\n",
       "       [  5.016,  -1.936,   9.32 ],\n",
       "       [  8.45 ,  -3.512,   9.945],\n",
       "       [  7.346,  -6.403,   7.589],\n",
       "       [  6.249,  -4.313,   4.521],\n",
       "       [  2.785,  -3.054,   3.348],\n",
       "       [ -0.779,  -4.318,   3.961],\n",
       "       [ -4.102,  -3.267,   2.631],\n",
       "       [ -6.531,  -1.851,   5.197],\n",
       "       [-10.194,  -0.684,   5.064],\n",
       "       [-10.469,   2.867,   6.419],\n",
       "       [-13.182,   4.074,   8.763],\n",
       "       [-13.471,   7.746,   9.582],\n",
       "       [-14.527,   9.677,  12.642],\n",
       "       [-15.397,   6.673,  14.804],\n",
       "       [-15.584,   7.175,  18.656],\n",
       "       [-13.307,   4.939,  20.707],\n",
       "       [-13.08 ,   4.904,  24.519],\n",
       "       [ -9.588,   4.183,  25.872],\n",
       "       [-12.516,   5.909,  29.81 ],\n",
       "       [-10.737,   8.612,  27.902],\n",
       "       [-12.716,   9.6  ,  24.895],\n",
       "       [-11.292,  10.022,  21.38 ],\n",
       "       [-13.009,  10.217,  17.862],\n",
       "       [-11.055,   9.494,  14.657],\n",
       "       [ -9.619,   7.44 ,  11.829],\n",
       "       [ -9.5  ,   3.853,  12.862],\n",
       "       [ -8.23 ,   1.242,  10.395],\n",
       "       [ -8.822,  -2.503,  10.309],\n",
       "       [ -6.822,  -5.257,   8.704],\n",
       "       [ -4.311,  -8.036,   9.434],\n",
       "       [ -2.404,  -6.777,  12.499],\n",
       "       [ -0.863,  -9.186,  15.019],\n",
       "       [ -2.619,  -7.11 ,  17.741],\n",
       "       [ -4.865,  -4.059,  18.012],\n",
       "       [ -2.79 ,  -0.867,  18.025],\n",
       "       [ -3.959,   2.58 ,  19.203],\n",
       "       [ -1.759,   4.934,  17.092],\n",
       "       [ -0.505,   8.457,  17.819],\n",
       "       [ -3.723,   9.73 ,  16.112],\n",
       "       [ -6.041,   8.744,  18.968],\n",
       "       [ -3.289,   9.023,  21.685],\n",
       "       [ -2.99 ,  12.708,  21.227],\n",
       "       [ -6.746,  13.048,  21.697],\n",
       "       [ -6.603,  11.587,  25.217],\n",
       "       [ -3.371,  13.582,  25.6  ],\n",
       "       [  2.905,  11.793,  26.363],\n",
       "       [  6.255,   9.824,  26.833],\n",
       "       [  7.88 ,  10.771,  30.186],\n",
       "       [ 11.396,   9.844,  31.428],\n",
       "       [ 11.907,  14.952,  29.017],\n",
       "       [  8.175,  15.018,  28.486],\n",
       "       [  7.72 ,  14.198,  24.775],\n",
       "       [  4.422,  14.885,  22.931],\n",
       "       [  2.862,  12.663,  20.241],\n",
       "       [  1.911,  15.282,  17.514],\n",
       "       [  4.991,  14.151,  15.616],\n",
       "       [  6.827,  10.792,  15.552],\n",
       "       [  8.826,  10.554,  18.791],\n",
       "       [ 12.309,  10.892,  17.11 ],\n",
       "       [ 15.3  ,  11.252,  19.449],\n",
       "       [ 19.1  ,  11.062,  19.314],\n",
       "       [ 20.915,   8.004,  20.526],\n",
       "       [ 24.5  ,   6.929,  19.977],\n",
       "       [ 25.749,   3.462,  19.023],\n",
       "       [ 29.285,   2.387,  18.25 ],\n",
       "       [ 30.44 ,   5.898,  17.431],\n",
       "       [ 27.267,   6.538,  15.52 ],\n",
       "       [ 25.014,   9.299,  16.655],\n",
       "       [ 21.533,   8.337,  15.291],\n",
       "       [ 17.817,   9.313,  15.355],\n",
       "       [ 15.649,   6.455,  16.606],\n",
       "       [ 11.856,   6.316,  17.092],\n",
       "       [ 10.664,   5.758,  20.698],\n",
       "       [  8.188,   2.89 ,  20.765],\n",
       "       [  5.957,   1.3  ,  23.318],\n",
       "       [  4.698,  -1.041,  20.493],\n",
       "       [  8.229,  -2.458,  19.946],\n",
       "       [  9.258,  -5.483,  21.954],\n",
       "       [ 12.842,  -5.089,  20.763],\n",
       "       [ 15.179,  -2.407,  19.513],\n",
       "       [ 15.825,  -2.529,  15.781],\n",
       "       [ 18.34 ,  -0.43 ,  13.901],\n",
       "       [ 18.858,  -0.271,  10.215],\n",
       "       [ 21.86 ,  -1.9  ,   8.619],\n",
       "       [ 25.071,  -1.004,  10.28 ],\n",
       "       [ 28.243,  -2.956,  10.781],\n",
       "       [ 28.771,  -3.511,  14.495],\n",
       "       [ 31.676,  -5.66 ,  15.555],\n",
       "       [ 30.517,  -8.589,  17.671],\n",
       "       [ 29.045, -12.014,  17.49 ],\n",
       "       [ 25.417, -12.36 ,  16.497],\n",
       "       [ 22.539, -14.773,  15.996],\n",
       "       [ 19.927, -14.404,  13.302],\n",
       "       [ 16.245, -14.143,  14.269],\n",
       "       [ 13.049, -13.077,  12.669],\n",
       "       [ 10.981, -10.25 ,  14.013],\n",
       "       [  7.481,  -9.407,  12.74 ],\n",
       "       [  4.601,  -6.945,  12.701],\n",
       "       [  2.241,  -5.376,  10.117],\n",
       "       [  3.338,  -6.956,   6.734],\n",
       "       [  5.034, -10.077,   8.22 ],\n",
       "       [  8.621, -11.054,   9.067],\n",
       "       [ 12.132,  -9.756,   8.339],\n",
       "       [ 15.438, -11.352,   9.287],\n",
       "       [ 17.794,  -9.688,  11.66 ],\n",
       "       [ 21.164, -10.151,  13.209],\n",
       "       [ 20.95 , -10.037,  16.973],\n",
       "       [ 23.675,  -8.398,  19.014],\n",
       "       [ 23.873,  -8.747,  22.821],\n",
       "       [ 25.11 ,  -6.27 ,  25.458],\n",
       "       [ 25.279,  -3.203,  23.294],\n",
       "       [ 25.647,   0.128,  25.028],\n",
       "       [ 23.281,   2.749,  23.774],\n",
       "       [ 22.577,   6.293,  25.013],\n",
       "       [ 19.09 ,   7.632,  24.582],\n",
       "       [ 21.605,  11.225,  27.74 ],\n",
       "       [ 20.369,   8.198,  29.609],\n",
       "       [ 22.7  ,   5.293,  28.69 ],\n",
       "       [ 21.51 ,   1.712,  28.512],\n",
       "       [ 22.949,  -1.669,  27.53 ],\n",
       "       [ 20.934,  -4.473,  26.014],\n",
       "       [ 20.05 ,  -6.42 ,  22.879],\n",
       "       [ 19.831,  -4.822,  19.489],\n",
       "       [ 18.572,  -6.223,  16.237],\n",
       "       [ 20.243,  -4.906,  13.029],\n",
       "       [ 18.092,  -5.5  ,   9.967],\n",
       "       [ 16.625,  -3.772,   6.921],\n",
       "       [ 14.038,  -1.765,   8.885],\n",
       "       [ 12.907,   1.63 ,   7.491],\n",
       "       [ 13.37 ,   3.512,  10.79 ],\n",
       "       [ 15.534,   3.153,  13.808],\n",
       "       [ 13.298,   1.824,  16.586],\n",
       "       [ 13.88 ,   1.883,  20.422],\n",
       "       [ 11.812,  -0.957,  21.89 ],\n",
       "       [ 10.735,  -1.493,  25.527],\n",
       "       [ 13.814,  -3.607,  26.004],\n",
       "       [ 15.676,  -0.374,  26.486],\n",
       "       [ 12.812,   2.046,  27.253],\n",
       "       [ 12.487,   0.26 ,  30.563],\n",
       "       [ 16.066,   1.162,  31.387],\n",
       "       [ 15.888,   4.997,  31.053],\n",
       "       [ 12.513,   4.913,  32.911],\n",
       "       [  6.595,   5.958,  31.12 ],\n",
       "       [  3.348,   6.503,  29.15 ],\n",
       "       [  1.192,   9.153,  30.846],\n",
       "       [ -2.338,  10.395,  30.078],\n",
       "       [  1.703,   5.755,   7.376],\n",
       "       [  4.083,   3.622,   9.214],\n",
       "       [  2.98 ,   1.333,  12.064],\n",
       "       [  5.609,  -0.373,  14.165],\n",
       "       [  4.032,  -3.673,  16.445],\n",
       "       [  7.464,  -5.252,  16.696]])"
      ]
     },
     "execution_count": 28,
     "metadata": {},
     "output_type": "execute_result"
    }
   ],
   "source": [
    "c[name==' CA ']"
   ]
  },
  {
   "cell_type": "code",
   "execution_count": 32,
   "metadata": {},
   "outputs": [
    {
     "data": {
      "image/png": "[encoded data removed]",
      "text/plain": [
       "<matplotlib.figure.Figure at 0x110387e80>"
      ]
     },
     "metadata": {},
     "output_type": "display_data"
    }
   ],
   "source": [
    "def drawCA (aname, coords):\n",
    "    #create a figure\n",
    "    fig = pylab.figure()\n",
    "    #convert to 3d\n",
    "    ax = Axes3D(fig) \n",
    "    #extract CA coordinates\n",
    "    alpha_coords= coords[aname== ' CA ']\n",
    "    # get CA x\n",
    "    x= alpha_coords[:,0]\n",
    "    #y\n",
    "    y= alpha_coords[:,1]\n",
    "    #and z\n",
    "    z= alpha_coords[:,2]\n",
    "    ax.plot(x, y, z) # x, y, and z are 1D arrays\n",
    "drawCA(name, c)"
   ]
  },
  {
   "cell_type": "code",
   "execution_count": null,
   "metadata": {
    "collapsed": true
   },
   "outputs": [],
   "source": []
  }
 ],
 "metadata": {
  "kernelspec": {
   "display_name": "Python 3",
   "language": "python",
   "name": "python3"
  },
  "language_info": {
   "codemirror_mode": {
    "name": "ipython",
    "version": 3
   },
   "file_extension": ".py",
   "mimetype": "text/x-python",
   "name": "python",
   "nbconvert_exporter": "python",
   "pygments_lexer": "ipython3",
   "version": "3.6.1"
  }
 },
 "nbformat": 4,
 "nbformat_minor": 2
}
