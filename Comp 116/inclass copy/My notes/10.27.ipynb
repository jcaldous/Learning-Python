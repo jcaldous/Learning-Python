{
 "cells": [
  {
   "cell_type": "code",
   "execution_count": 1,
   "metadata": {
    "collapsed": true
   },
   "outputs": [],
   "source": [
    "%matplotlib inline\n",
    "import numpy as np\n",
    "import pylab"
   ]
  },
  {
   "cell_type": "code",
   "execution_count": 2,
   "metadata": {},
   "outputs": [
    {
     "data": {
      "text/plain": [
       "array([[  2.01700000e+03,   1.00000000e+01,   1.00000000e+00],\n",
       "       [  2.01700000e+03,   1.00000000e+01,   2.00000000e+00],\n",
       "       [  2.01700000e+03,   1.00000000e+01,   1.30000000e+01],\n",
       "       [  2.01700000e+03,   1.00000000e+01,   2.70000000e+01]])"
      ]
     },
     "execution_count": 2,
     "metadata": {},
     "output_type": "execute_result"
    }
   ],
   "source": [
    "dates = np.array([[2017, 10, 1], [2017, 10, 2], [2017, 10, 13], [2017, 10, 27.0]])\n",
    "dates"
   ]
  },
  {
   "cell_type": "code",
   "execution_count": 10,
   "metadata": {},
   "outputs": [
    {
     "data": {
      "text/plain": [
       "array([6, 0, 4, 4])"
      ]
     },
     "execution_count": 10,
     "metadata": {},
     "output_type": "execute_result"
    }
   ],
   "source": [
    "from datetime import date\n",
    "dow=[]\n",
    "for i in range(len(dates)):\n",
    "    d=date(int(dates[i,0]),int(dates[i,1]),int(dates[i,2]))\n",
    "    dow.append(d.weekday())\n",
    "dow=np.array(dow)\n",
    "dow"
   ]
  },
  {
   "cell_type": "code",
   "execution_count": 16,
   "metadata": {},
   "outputs": [
    {
     "data": {
      "text/plain": [
       "array([0, 1, 2, 3, 4, 5, 6, 0, 1, 2, 3, 4, 5, 6, 0, 1, 2, 3, 4, 5, 6, 0, 1,\n",
       "       2, 3, 4, 5, 6, 0, 1])"
      ]
     },
     "execution_count": 16,
     "metadata": {},
     "output_type": "execute_result"
    }
   ],
   "source": [
    "dow=np.arange(30) %7\n",
    "dow"
   ]
  },
  {
   "cell_type": "code",
   "execution_count": 14,
   "metadata": {},
   "outputs": [
    {
     "data": {
      "text/plain": [
       "array([ 0.83105846,  0.79973773,  0.50802209,  0.12228716,  0.57958969,\n",
       "        0.93884318,  0.90636363,  0.71915776,  0.99471184,  0.49990651,\n",
       "        0.85242313,  0.24474208,  0.78219241,  0.93943956,  0.67542693,\n",
       "        0.16888569,  0.30377467,  0.9427225 ,  0.96180576,  0.28150274,\n",
       "        0.21476718,  0.05094767,  0.70974547,  0.45758403,  0.6627613 ,\n",
       "        0.33606483,  0.0307693 ,  0.34138122,  0.79781167,  0.9960088 ])"
      ]
     },
     "execution_count": 14,
     "metadata": {},
     "output_type": "execute_result"
    }
   ],
   "source": [
    "rainfall= np.random.random(30)\n",
    "rainfall"
   ]
  },
  {
   "cell_type": "code",
   "execution_count": 18,
   "metadata": {},
   "outputs": [
    {
     "name": "stdout",
     "output_type": "stream",
     "text": [
      "2.40195159145\n"
     ]
    }
   ],
   "source": [
    "r=0\n",
    "for i in range(len(dow)):\n",
    "    if dow[i]==6:\n",
    "        r=r+rainfall[i]\n",
    "print(r)"
   ]
  },
  {
   "cell_type": "code",
   "execution_count": 19,
   "metadata": {},
   "outputs": [
    {
     "data": {
      "text/plain": [
       "2.4019515914471237"
      ]
     },
     "execution_count": 19,
     "metadata": {},
     "output_type": "execute_result"
    }
   ],
   "source": [
    "np.sum(rainfall[dow==6])"
   ]
  },
  {
   "cell_type": "code",
   "execution_count": 22,
   "metadata": {},
   "outputs": [
    {
     "data": {
      "text/plain": [
       "4.4352592204604093"
      ]
     },
     "execution_count": 22,
     "metadata": {},
     "output_type": "execute_result"
    }
   ],
   "source": [
    "np.sum(rainfall[(dow==6)|(dow==5)])"
   ]
  },
  {
   "cell_type": "code",
   "execution_count": 23,
   "metadata": {},
   "outputs": [
    {
     "data": {
      "text/plain": [
       "8.0185709269046974"
      ]
     },
     "execution_count": 23,
     "metadata": {},
     "output_type": "execute_result"
    }
   ],
   "source": [
    "np.sum(rainfall[(dow>=1)&(dow<=3)])"
   ]
  },
  {
   "cell_type": "code",
   "execution_count": 24,
   "metadata": {},
   "outputs": [
    {
     "data": {
      "text/plain": [
       "array([3, 2, 2, 6, 5, 4, 6, 1, 5, 1, 0, 2, 3, 0, 0, 5, 2, 4, 1, 5, 0, 4, 0,\n",
       "       3, 3, 1, 6, 6, 1, 4])"
      ]
     },
     "execution_count": 24,
     "metadata": {},
     "output_type": "execute_result"
    }
   ],
   "source": [
    "np.random.permutation(dow)"
   ]
  },
  {
   "cell_type": "code",
   "execution_count": null,
   "metadata": {
    "collapsed": true
   },
   "outputs": [],
   "source": []
  }
 ],
 "metadata": {
  "kernelspec": {
   "display_name": "Python 3",
   "language": "python",
   "name": "python3"
  },
  "language_info": {
   "codemirror_mode": {
    "name": "ipython",
    "version": 3
   },
   "file_extension": ".py",
   "mimetype": "text/x-python",
   "name": "python",
   "nbconvert_exporter": "python",
   "pygments_lexer": "ipython3",
   "version": "3.6.1"
  }
 },
 "nbformat": 4,
 "nbformat_minor": 2
}
