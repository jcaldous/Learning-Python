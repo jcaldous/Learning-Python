{
 "cells": [
  {
   "cell_type": "markdown",
   "metadata": {},
   "source": [
    "Comp 116 What comes next?\n",
    "Today we will talk about what comes next in Computer Science for those who enjoyed this and would like to learn more.\n",
    "Then we will review.\n",
    "Do the Carolina Course Review!\n",
    "The next programming course is Comp 401\n",
    "Catalog description:\n",
    "Comp 401 Foundation of Programming (4). A first formal course in computer programming required. Advanced programming: Program specifications, preconditions, postconditions, loop invariants. Linear data structures, searching, and sorting. Algorithm paradigms and analysis.\n",
    "Next semester it will be taught by Professor Ketan Mayer-Patel.\n",
    "\n",
    "You'll be programming Java which looks different from Python but has pretty much the same stuff.\n",
    "For example, here is the sample program from the Comp 401 introduction slides.\n",
    "public class AverageHeightApp {\n",
    "    public static void main(String[] args) {\n",
    "        double[] height_of_men = readHeightData();\n",
    "        double sum_of_heights = 0.0;\n",
    "        for (int i=0; i<height_of_men.length; i++) {\n",
    "            sum_of_heights += height_of_men[i];\n",
    "        }\n",
    "        double avg_height = sum_of_heights / height_of_men.length;\n",
    "        System.out.println(\"The average height is: \" + avg_height + \" inches\");\n",
    "    }\n",
    "\n",
    "    static double[] readHeightData() {\n",
    "        double[] height_data = {66.0, 72.0, 69.5, 68.2, 75.0, 64.5, 63.0};\n",
    "        return height_data;\n",
    "    }\n",
    "}\n",
    "\n",
    "\n",
    "We can't simply type our Java code into a browser window. We typically use a text editor, often a \"programmers text editor\" to create and modify our Java program. There are tons of these. In Comp 401 they will recommend eclipse which is called an IDE (integrated development environment) because it has lots of features for creating, debugging, and modifying programs.\n",
    "We use the text editor to put the above Java code into a file named AverageHeightApp.java. The important thing about the name is that it is the same as the name on the public class line and that it ends with .java. We save the file, and then (after installing the free Java software) in a terminal or console window we can type:\n",
    "javac AverageHeightApp.java\n",
    "\n",
    "Either we'll some some error messages complaining about coding mistakes, or a new prompt which means all went well with the compile. Compling successfully, doesn't mean our program will run; only that it doesn't have errors that the compiler can detect.\n",
    "\n",
    "Python also compiles our code in a similar way, it just hides the process so we don't have to think about it.\n",
    "\n",
    "After compiling the program, we can execute it by typing:\n",
    "\n",
    "java AverageHeightApp\n",
    "\n",
    "And we should see output like this:\n",
    "\n",
    "$ javac AverageHeightApp.java \n",
    "\n",
    "$ java AverageHeightApp \n",
    "\n",
    "The average height is: 68.31428571428572 inches\n",
    "\n",
    "We haven't done it in our class but we can run Python programs from the terminal or console window in the same way.\n",
    "$ python AverageHeight.py \n",
    "\n",
    "$Are you ready for Comp 401?$\n",
    "\n",
    "The Comp 401 introduction slides say this.\n",
    "You might want to drop the class if...\n",
    "\n",
    "... you didn't recognize the idea of an array of values and/or the notion of retrieving a value from the array by its index.\n",
    "\n",
    "... you can't recognize what in the program is acting as a variable.\n",
    "\n",
    "... you are unsure of how a for loop works.\n",
    "\n",
    "... you don't grock the notion of defining a function and/or calling a function.\n",
    "\n",
    "... you can't write a program of similar complexity in some other language if not Java.\n",
    "\n",
    "... The above are necessary conditions for success in this class, but may not be sufficient conditions for success.\n",
    "\n",
    "Trust your own judgment, don't be afraid of a challenge.\n",
    "Programming takes practice.\n",
    "Sure you are!\n",
    "You know all that stuff! Remember, it looks different but its really just a wordy way of saying the same things.\n",
    "Other useful resources\n",
    "Java for Python programmers\n",
    "From Python to Java\n",
    "Python and Java side by side\n",
    "Getting started with Eclipse\n",
    "Videos from Dewan's offering of 401\n",
    "I really like this one: The Python Paradox\n",
    "\n",
    "$Major or Minor in CS?$\n",
    "Minor\n",
    "BA\n",
    "BS\n",
    "BS/MS\n",
    "\n",
    "$Courses beyond 401$\n",
    "410 Data Structures\n",
    "411 Computer Organization\n",
    "426 WWW Programming\n",
    "431 Internet services and protocols\n",
    "455 Models of language and computation\n",
    "523 Software engineering laboratory\n",
    "535 Computer security\n",
    "550 Algorithms\n",
    "555 Bioalgorithms\n",
    "575 Computer graphics\n",
    "580 Enabling technology\n",
    "581 Robotics\n",
    "585 Serious games"
   ]
  },
  {
   "cell_type": "code",
   "execution_count": 1,
   "metadata": {},
   "outputs": [
    {
     "name": "stdout",
     "output_type": "stream",
     "text": [
      "The average height is: 68.31428571428572 inches\n"
     ]
    }
   ],
   "source": [
    "#And here is the corresponding Python code:\n",
    "height_of_men = [66.0, 72.0, 69.5, 68.2, 75.0, 64.5, 63.0]\n",
    "sum_of_heights = 0.0\n",
    "for i in range(0, len(height_of_men)):\n",
    "    sum_of_heights += height_of_men[i]\n",
    "avg_height = sum_of_heights / len(height_of_men)\n",
    "\n",
    "print(\"The average height is:\", avg_height, \"inches\")"
   ]
  },
  {
   "cell_type": "code",
   "execution_count": 2,
   "metadata": {},
   "outputs": [
    {
     "name": "stdout",
     "output_type": "stream",
     "text": [
      "The average height is: 68.3142857143 inches\n"
     ]
    }
   ],
   "source": [
    "import numpy as np\n",
    "height_of_men = [66.0, 72.0, 69.5, 68.2, 75.0, 64.5, 63.0]\n",
    "print(\"The average height is:\", np.mean(height_of_men), \"inches\")"
   ]
  },
  {
   "cell_type": "code",
   "execution_count": null,
   "metadata": {
    "collapsed": true
   },
   "outputs": [],
   "source": []
  }
 ],
 "metadata": {
  "kernelspec": {
   "display_name": "Python 3",
   "language": "python",
   "name": "python3"
  },
  "language_info": {
   "codemirror_mode": {
    "name": "ipython",
    "version": 3
   },
   "file_extension": ".py",
   "mimetype": "text/x-python",
   "name": "python",
   "nbconvert_exporter": "python",
   "pygments_lexer": "ipython3",
   "version": "3.6.1"
  }
 },
 "nbformat": 4,
 "nbformat_minor": 2
}
