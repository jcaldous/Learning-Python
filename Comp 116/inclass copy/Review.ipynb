{
 "cells": [
  {
   "cell_type": "code",
   "execution_count": 1,
   "metadata": {
    "collapsed": true
   },
   "outputs": [],
   "source": [
    "%matplotlib inline\n",
    "import numpy as np\n",
    "import pylab"
   ]
  },
  {
   "cell_type": "code",
   "execution_count": 5,
   "metadata": {
    "collapsed": true
   },
   "outputs": [],
   "source": [
    "#Function\n",
    "def funct(data, A, B):\n",
    "    value=np.mean(data[A:])\n",
    "    value2=np.mean(data[B:])\n",
    "    return (value,value2)"
   ]
  },
  {
   "cell_type": "code",
   "execution_count": 6,
   "metadata": {},
   "outputs": [
    {
     "data": {
      "text/plain": [
       "array([[ 0.31019958,  0.95130223],\n",
       "       [ 0.72876689,  0.52140364],\n",
       "       [ 0.45393962,  0.27271044],\n",
       "       [ 0.38785618,  0.59990867],\n",
       "       [ 0.25396008,  0.95101848],\n",
       "       [ 0.38237272,  0.81428581],\n",
       "       [ 0.16596464,  0.77812834],\n",
       "       [ 0.8080183 ,  0.77797684],\n",
       "       [ 0.19445553,  0.56609108],\n",
       "       [ 0.86102801,  0.74609888],\n",
       "       [ 0.23454232,  0.84729351],\n",
       "       [ 0.69930565,  0.38500664],\n",
       "       [ 0.90272356,  0.63632175],\n",
       "       [ 0.93335483,  0.45761819],\n",
       "       [ 0.05283675,  0.67336474]])"
      ]
     },
     "execution_count": 6,
     "metadata": {},
     "output_type": "execute_result"
    }
   ],
   "source": [
    "rainfall = np.random.random(30)\n",
    "np.reshape(rainfall,(-1,2))"
   ]
  },
  {
   "cell_type": "code",
   "execution_count": 9,
   "metadata": {},
   "outputs": [
    {
     "data": {
      "text/plain": [
       "0.58750531981383403"
      ]
     },
     "execution_count": 9,
     "metadata": {},
     "output_type": "execute_result"
    }
   ],
   "source": [
    "foo,bar=funct(rainfall,0,1)\n",
    "foo\n",
    "bar"
   ]
  },
  {
   "cell_type": "markdown",
   "metadata": {
    "collapsed": true
   },
   "source": [
    "## & vs and\n",
    "&= values of each individually (TT=T, FT=F, TF=F, FF=F)\n",
    "and= not empty/ looks at the entire thing\n"
   ]
  },
  {
   "cell_type": "code",
   "execution_count": null,
   "metadata": {
    "collapsed": true
   },
   "outputs": [],
   "source": []
  }
 ],
 "metadata": {
  "kernelspec": {
   "display_name": "Python 3",
   "language": "python",
   "name": "python3"
  },
  "language_info": {
   "codemirror_mode": {
    "name": "ipython",
    "version": 3
   },
   "file_extension": ".py",
   "mimetype": "text/x-python",
   "name": "python",
   "nbconvert_exporter": "python",
   "pygments_lexer": "ipython3",
   "version": "3.6.1"
  }
 },
 "nbformat": 4,
 "nbformat_minor": 2
}
