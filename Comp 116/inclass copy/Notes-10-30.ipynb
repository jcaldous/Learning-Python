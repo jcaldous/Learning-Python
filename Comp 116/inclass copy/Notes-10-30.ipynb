{
 "cells": [
  {
   "cell_type": "markdown",
   "metadata": {},
   "source": [
    "# Notes for 30 October\n",
    "\n",
    "Statistical significance."
   ]
  },
  {
   "cell_type": "code",
   "execution_count": 2,
   "metadata": {
    "collapsed": true
   },
   "outputs": [],
   "source": [
    "%matplotlib inline\n",
    "import numpy as np\n",
    "import pylab"
   ]
  },
  {
   "cell_type": "markdown",
   "metadata": {},
   "source": [
    "I prepared a dataset for today based on responses from students in a previous class. You can fetch it as shown below. It is a CSV with 3 columns which are:\n",
    "\n",
    "1 if the respondent preferred pronouns \"she,her,hers\" and 0 if they preferred \"he,him,his\".\n",
    "\n",
    "height in inches.\n",
    "\n",
    "month of birth."
   ]
  },
  {
   "cell_type": "code",
   "execution_count": 3,
   "metadata": {},
   "outputs": [
    {
     "data": {
      "text/plain": [
       "array([[ 0, 72,  5],\n",
       "       [ 1, 62,  7],\n",
       "       [ 1, 62,  2],\n",
       "       [ 1, 65,  6],\n",
       "       [ 0, 70,  7]])"
      ]
     },
     "execution_count": 3,
     "metadata": {},
     "output_type": "execute_result"
    }
   ],
   "source": [
    "import urllib.request\n",
    "urllib.request.urlretrieve('https://goo.gl/rJtakX', 'survey.txt')\n",
    "\n",
    "survey = np.loadtxt('survey.txt', delimiter=',', dtype=int)\n",
    "# fields are She, Height, Month\n",
    "survey[:5]"
   ]
  },
  {
   "cell_type": "code",
   "execution_count": 4,
   "metadata": {},
   "outputs": [
    {
     "data": {
      "text/plain": [
       "162"
      ]
     },
     "execution_count": 4,
     "metadata": {},
     "output_type": "execute_result"
    }
   ],
   "source": [
    "len(survey)"
   ]
  },
  {
   "cell_type": "code",
   "execution_count": 5,
   "metadata": {},
   "outputs": [
    {
     "data": {
      "text/plain": [
       "92"
      ]
     },
     "execution_count": 5,
     "metadata": {},
     "output_type": "execute_result"
    }
   ],
   "source": [
    "np.count_nonzero(survey[:,0] == 1)"
   ]
  },
  {
   "cell_type": "code",
   "execution_count": 6,
   "metadata": {},
   "outputs": [
    {
     "data": {
      "text/plain": [
       "70"
      ]
     },
     "execution_count": 6,
     "metadata": {},
     "output_type": "execute_result"
    }
   ],
   "source": [
    "np.count_nonzero(survey[:,0] == 0)"
   ]
  },
  {
   "cell_type": "code",
   "execution_count": 7,
   "metadata": {},
   "outputs": [
    {
     "data": {
      "text/plain": [
       "67.327160493827165"
      ]
     },
     "execution_count": 7,
     "metadata": {},
     "output_type": "execute_result"
    }
   ],
   "source": [
    "np.mean(survey[:,1])"
   ]
  },
  {
   "cell_type": "code",
   "execution_count": 8,
   "metadata": {},
   "outputs": [
    {
     "data": {
      "text/plain": [
       "(64.847826086956516, 70.585714285714289)"
      ]
     },
     "execution_count": 8,
     "metadata": {},
     "output_type": "execute_result"
    }
   ],
   "source": [
    "def delta(inGroup, outGroup, heights):\n",
    "    h1 = np.mean(heights[inGroup])\n",
    "    h2 = np.mean(heights[outGroup])\n",
    "    return h1, h2\n",
    "delta(survey[:,0]==1, survey[:,0]==0, survey[:,1])"
   ]
  },
  {
   "cell_type": "code",
   "execution_count": 10,
   "metadata": {},
   "outputs": [
    {
     "data": {
      "text/plain": [
       "5.7378881987577728"
      ]
     },
     "execution_count": 10,
     "metadata": {},
     "output_type": "execute_result"
    }
   ],
   "source": [
    "dgroups = delta(survey[:,0]==1, survey[:,0]==0, survey[:,1])\n",
    "d = dgroups[1] - dgroups[0]\n",
    "d"
   ]
  },
  {
   "cell_type": "code",
   "execution_count": 13,
   "metadata": {},
   "outputs": [
    {
     "name": "stdout",
     "output_type": "stream",
     "text": [
      "p = 0.0\n"
     ]
    }
   ],
   "source": [
    "count = 0\n",
    "N = 100000\n",
    "for i in range(N):\n",
    "    label = np.random.permutation(survey[:,0])\n",
    "    h1, h2 = delta(label==1, label==0, survey[:,1])\n",
    "    dp = h2 - h1\n",
    "    if dp > d:\n",
    "        count = count + 1\n",
    "print('p =', count / N)"
   ]
  },
  {
   "cell_type": "code",
   "execution_count": 16,
   "metadata": {},
   "outputs": [
    {
     "name": "stdout",
     "output_type": "stream",
     "text": [
      "0.163888888889\n",
      "p = 0.8\n"
     ]
    }
   ],
   "source": [
    "bogus = np.random.randint(0, 2, len(survey))\n",
    "h1, h2 = delta(bogus == 1, bogus == 0, survey[:,1])\n",
    "d = abs(h2 - h1)\n",
    "print(d)\n",
    "count = 0\n",
    "N = 1000\n",
    "for i in range(N):\n",
    "    label = np.random.permutation(bogus)\n",
    "    h1, h2 = delta(label==1, label==0, survey[:,1])\n",
    "    dp = abs(h2 - h1)\n",
    "    if dp > d:\n",
    "        count = count + 1\n",
    "print('p =', count / N)"
   ]
  },
  {
   "cell_type": "code",
   "execution_count": 17,
   "metadata": {},
   "outputs": [
    {
     "data": {
      "text/plain": [
       "(67.184210526315795, 67.45348837209302)"
      ]
     },
     "execution_count": 17,
     "metadata": {},
     "output_type": "execute_result"
    }
   ],
   "source": [
    "delta(survey[:,2] > 6, survey[:,2] <= 6, survey[:,1])"
   ]
  },
  {
   "cell_type": "code",
   "execution_count": 18,
   "metadata": {},
   "outputs": [
    {
     "data": {
      "text/plain": [
       "(66.957446808510639, 68.219512195121951)"
      ]
     },
     "execution_count": 18,
     "metadata": {},
     "output_type": "execute_result"
    }
   ],
   "source": [
    "month = survey[:,2]\n",
    "delta((month == 5) | (month == 6) | (month == 7), (month==12) | (month==1) | (month==2), survey[:,1])"
   ]
  },
  {
   "cell_type": "code",
   "execution_count": 20,
   "metadata": {},
   "outputs": [
    {
     "name": "stdout",
     "output_type": "stream",
     "text": [
      "p = 0.1064\n"
     ]
    }
   ],
   "source": [
    "h1, h2 = delta((month == 5) | (month == 6) | (month == 7), (month==12) | (month==1) | (month==2), survey[:,1])\n",
    "d = h2 - h1\n",
    "N = 10000\n",
    "count = 0\n",
    "for i in range(N):\n",
    "    m = np.random.permutation(month)\n",
    "    h1, h2 = delta((m == 5) | (m == 6) | (m == 7), (m==12) | (m==1) | (m==2), survey[:,1])\n",
    "    dp = h2 - h1\n",
    "    if dp > d:\n",
    "        count = count + 1\n",
    "print('p =', count/N)"
   ]
  },
  {
   "cell_type": "code",
   "execution_count": 24,
   "metadata": {},
   "outputs": [
    {
     "data": {
      "text/plain": [
       "['2', '3', '4', '5', '6', '7', '8', '9', 'j', 'k', 'q', 'a']"
      ]
     },
     "execution_count": 24,
     "metadata": {},
     "output_type": "execute_result"
    }
   ],
   "source": [
    "cards = '2 3 4 5 6 7 8 9 j k q a'.split()\n",
    "cards"
   ]
  },
  {
   "cell_type": "code",
   "execution_count": 40,
   "metadata": {},
   "outputs": [
    {
     "data": {
      "text/plain": [
       "array(['4', 'k', '5', '8', '7', '6', 'q', 'j', '2', 'a', '9', '3'], \n",
       "      dtype='<U1')"
      ]
     },
     "execution_count": 40,
     "metadata": {},
     "output_type": "execute_result"
    }
   ],
   "source": [
    "np.random.permutation(cards)"
   ]
  }
 ],
 "metadata": {
  "kernelspec": {
   "display_name": "Python 3",
   "language": "python",
   "name": "python3"
  },
  "language_info": {
   "codemirror_mode": {
    "name": "ipython",
    "version": 3
   },
   "file_extension": ".py",
   "mimetype": "text/x-python",
   "name": "python",
   "nbconvert_exporter": "python",
   "pygments_lexer": "ipython3",
   "version": "3.6.1"
  }
 },
 "nbformat": 4,
 "nbformat_minor": 2
}
