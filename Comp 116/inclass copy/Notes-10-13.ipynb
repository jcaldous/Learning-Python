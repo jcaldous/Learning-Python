{
 "cells": [
  {
   "cell_type": "markdown",
   "metadata": {},
   "source": [
    "# Notes 13 October\n",
    "\n",
    "Friday the 13th!"
   ]
  },
  {
   "cell_type": "code",
   "execution_count": 1,
   "metadata": {
    "collapsed": true
   },
   "outputs": [],
   "source": [
    "%matplotlib inline\n",
    "import numpy as np\n",
    "import pylab"
   ]
  },
  {
   "cell_type": "markdown",
   "metadata": {},
   "source": [
    "## Today we will talk about patterns for loops"
   ]
  },
  {
   "cell_type": "markdown",
   "metadata": {},
   "source": [
    "### Write a function that takes a sequence of number and adds them up."
   ]
  },
  {
   "cell_type": "code",
   "execution_count": 2,
   "metadata": {},
   "outputs": [
    {
     "data": {
      "text/plain": [
       "6"
      ]
     },
     "execution_count": 2,
     "metadata": {},
     "output_type": "execute_result"
    }
   ],
   "source": [
    "def mysum(s):\n",
    "    r = 0 # initialize the result to the value \"so far\"\n",
    "    for i in range(len(s)):\n",
    "        r = r + s[i] # update the value \n",
    "    return r # return the value\n",
    "\n",
    "mysum([1, 2, 3])\n",
    "        "
   ]
  },
  {
   "cell_type": "markdown",
   "metadata": {},
   "source": [
    "We answered a question about range."
   ]
  },
  {
   "cell_type": "code",
   "execution_count": 3,
   "metadata": {},
   "outputs": [
    {
     "name": "stdout",
     "output_type": "stream",
     "text": [
      "0\n",
      "1\n",
      "2\n"
     ]
    }
   ],
   "source": [
    "for i in range(3):\n",
    "    print(i)"
   ]
  },
  {
   "cell_type": "markdown",
   "metadata": {},
   "source": [
    "A broken version of mysum. The return is in the wrong place. Make sure you understand why this is wrong."
   ]
  },
  {
   "cell_type": "code",
   "execution_count": 4,
   "metadata": {},
   "outputs": [
    {
     "data": {
      "text/plain": [
       "1"
      ]
     },
     "execution_count": 4,
     "metadata": {},
     "output_type": "execute_result"
    }
   ],
   "source": [
    "def mysum2(s):\n",
    "    r = 0\n",
    "    for i in range(len(s)):\n",
    "        r = r + s[i]\n",
    "        return r # return in the wrong place\n",
    "\n",
    "mysum2([1, 2, 3])"
   ]
  },
  {
   "cell_type": "markdown",
   "metadata": {},
   "source": [
    "## return the index of the first value > 3\n",
    "\n",
    "Sometimes we want the return indented. Mostly not, but sometimes it makes sense. Here we find the first value and we're done."
   ]
  },
  {
   "cell_type": "code",
   "execution_count": 5,
   "metadata": {},
   "outputs": [
    {
     "data": {
      "text/plain": [
       "3"
      ]
     },
     "execution_count": 5,
     "metadata": {},
     "output_type": "execute_result"
    }
   ],
   "source": [
    "def indexGreater3(s):\n",
    "    for i in range(len(s)):\n",
    "        if s[i] > 3:\n",
    "            return i\n",
    "    \n",
    "indexGreater3([2, 1,3, 5, 1, 7])"
   ]
  },
  {
   "cell_type": "markdown",
   "metadata": {},
   "source": [
    "The 6th value in the array (with index 5) has the first value greater than 3."
   ]
  },
  {
   "cell_type": "code",
   "execution_count": 6,
   "metadata": {},
   "outputs": [
    {
     "data": {
      "text/plain": [
       "5"
      ]
     },
     "execution_count": 6,
     "metadata": {},
     "output_type": "execute_result"
    }
   ],
   "source": [
    "indexGreater3([1, 2, 1, 2, 0, 4, 1, 2])"
   ]
  },
  {
   "cell_type": "markdown",
   "metadata": {},
   "source": [
    "Our function returns None if None of the values satisfy the condition."
   ]
  },
  {
   "cell_type": "code",
   "execution_count": 7,
   "metadata": {
    "collapsed": true
   },
   "outputs": [],
   "source": [
    "indexGreater3([1, 1, 1])"
   ]
  },
  {
   "cell_type": "code",
   "execution_count": 8,
   "metadata": {},
   "outputs": [
    {
     "name": "stdout",
     "output_type": "stream",
     "text": [
      "None\n"
     ]
    }
   ],
   "source": [
    "print(indexGreater3([1, 2, 1]))"
   ]
  },
  {
   "cell_type": "markdown",
   "metadata": {},
   "source": [
    "## A function that returns a list of values that are bigger."
   ]
  },
  {
   "cell_type": "code",
   "execution_count": 9,
   "metadata": {},
   "outputs": [
    {
     "data": {
      "text/plain": [
       "[6, 8]"
      ]
     },
     "execution_count": 9,
     "metadata": {},
     "output_type": "execute_result"
    }
   ],
   "source": [
    "def bigger(s, v):\n",
    "    '''Return a list of values from s that are bigger than v'''\n",
    "    r = [] # initialize the result to the value \"so far\".\n",
    "    for i in range(len(s)):\n",
    "        if s[i] > v:\n",
    "            r.append(s[i]) # update the list with append\n",
    "    \n",
    "    return r\n",
    "\n",
    "bigger([3, 6, 2, 4, 1, 8, 2], 4)"
   ]
  },
  {
   "cell_type": "markdown",
   "metadata": {},
   "source": [
    "We can have two different broken versions of bigger. Again, make sure you understand how these are broken.\n",
    "\n",
    "Again the problem is the return is indented improperly. "
   ]
  },
  {
   "cell_type": "code",
   "execution_count": 10,
   "metadata": {},
   "outputs": [
    {
     "data": {
      "text/plain": [
       "[]"
      ]
     },
     "execution_count": 10,
     "metadata": {},
     "output_type": "execute_result"
    }
   ],
   "source": [
    "def bigger2(s, v):\n",
    "    '''Return a list of values from s that are bigger than v'''\n",
    "    r = []\n",
    "    for i in range(len(s)):\n",
    "        if s[i] > v:\n",
    "            r.append(s[i])\n",
    "    \n",
    "        return r\n",
    "\n",
    "bigger2([3, 6, 2, 4, 1, 8, 2], 4)"
   ]
  },
  {
   "cell_type": "code",
   "execution_count": 11,
   "metadata": {},
   "outputs": [
    {
     "data": {
      "text/plain": [
       "[6]"
      ]
     },
     "execution_count": 11,
     "metadata": {},
     "output_type": "execute_result"
    }
   ],
   "source": [
    "def bigger3(s, v):\n",
    "    '''Return a list of values from s that are bigger than v'''\n",
    "    r = []\n",
    "    for i in range(len(s)):\n",
    "        if s[i] > v:\n",
    "            r.append(s[i])\n",
    "    \n",
    "            return r\n",
    "\n",
    "bigger3([3, 6, 2, 4, 1, 8, 2], 4)"
   ]
  },
  {
   "cell_type": "markdown",
   "metadata": {},
   "source": [
    "We could make a version of our greater 3 function to get a list of all of them."
   ]
  },
  {
   "cell_type": "code",
   "execution_count": 12,
   "metadata": {},
   "outputs": [
    {
     "data": {
      "text/plain": [
       "[3, 5]"
      ]
     },
     "execution_count": 12,
     "metadata": {},
     "output_type": "execute_result"
    }
   ],
   "source": [
    "def indexOfAllGreater3(s):\n",
    "    r = [] # initialize our result\n",
    "    for i in range(len(s)): # visit every index for the input\n",
    "        if s[i] > 3:  # if the value at index i is greater than 3\n",
    "            r.append(i) # add the index to the list\n",
    "    return r # return the list\n",
    "    \n",
    "indexOfAllGreater3([2, 1,3, 5, 1, 7])"
   ]
  },
  {
   "cell_type": "code",
   "execution_count": null,
   "metadata": {
    "collapsed": true
   },
   "outputs": [],
   "source": []
  }
 ],
 "metadata": {
  "kernelspec": {
   "display_name": "Python 3",
   "language": "python",
   "name": "python3"
  },
  "language_info": {
   "codemirror_mode": {
    "name": "ipython",
    "version": 3
   },
   "file_extension": ".py",
   "mimetype": "text/x-python",
   "name": "python",
   "nbconvert_exporter": "python",
   "pygments_lexer": "ipython3",
   "version": "3.6.1"
  }
 },
 "nbformat": 4,
 "nbformat_minor": 2
}
