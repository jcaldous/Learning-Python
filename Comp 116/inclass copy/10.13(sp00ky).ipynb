{
 "cells": [
  {
   "cell_type": "code",
   "execution_count": 1,
   "metadata": {
    "collapsed": true
   },
   "outputs": [],
   "source": [
    "%matplotlib inline\n",
    "import numpy as np\n",
    "import pylab"
   ]
  },
  {
   "cell_type": "markdown",
   "metadata": {},
   "source": [
    "## Today We Learn About Patterns for Loops"
   ]
  },
  {
   "cell_type": "markdown",
   "metadata": {},
   "source": [
    "### write a function that takes a sequence of numbers and adds them up"
   ]
  },
  {
   "cell_type": "code",
   "execution_count": 10,
   "metadata": {},
   "outputs": [],
   "source": [
    "def mysum(s):\n",
    "    r=0\n",
    "    # for (i)variable in sequence\n",
    "    for i in range(len(s)):\n",
    "        r= r+s[i]\n",
    "    return r"
   ]
  },
  {
   "cell_type": "code",
   "execution_count": 11,
   "metadata": {},
   "outputs": [
    {
     "data": {
      "text/plain": [
       "6"
      ]
     },
     "execution_count": 11,
     "metadata": {},
     "output_type": "execute_result"
    }
   ],
   "source": [
    "mysum([1,2,3])"
   ]
  },
  {
   "cell_type": "code",
   "execution_count": 13,
   "metadata": {},
   "outputs": [],
   "source": [
    "def mysum1(s):\n",
    "    r=0\n",
    "    # for (i)variable in sequence\n",
    "    for i in range(len(s)):\n",
    "        r= r+s[i]\n",
    "        return r"
   ]
  },
  {
   "cell_type": "code",
   "execution_count": 15,
   "metadata": {},
   "outputs": [
    {
     "data": {
      "text/plain": [
       "1"
      ]
     },
     "execution_count": 15,
     "metadata": {},
     "output_type": "execute_result"
    }
   ],
   "source": [
    "mysum1([1,2,3])\n",
    "#stops doing itterations because the indented return r told them to stop\n",
    "#almost always want the return one indent in \n",
    "#if you only need to return the first value, then nest the return"
   ]
  },
  {
   "cell_type": "markdown",
   "metadata": {},
   "source": [
    "return the index of the first vault >3"
   ]
  },
  {
   "cell_type": "code",
   "execution_count": 16,
   "metadata": {},
   "outputs": [
    {
     "data": {
      "text/plain": [
       "3"
      ]
     },
     "execution_count": 16,
     "metadata": {},
     "output_type": "execute_result"
    }
   ],
   "source": [
    "def indexgreater3(s):\n",
    "    for i in range(len(s)):\n",
    "        if s[i]>3:\n",
    "            return i\n",
    "indexgreater3([2,1,3,5,1,7])"
   ]
  },
  {
   "cell_type": "code",
   "execution_count": 17,
   "metadata": {},
   "outputs": [
    {
     "data": {
      "text/plain": [
       "4"
      ]
     },
     "execution_count": 17,
     "metadata": {},
     "output_type": "execute_result"
    }
   ],
   "source": [
    "indexgreater3([1,1,2,2,8,7,42])"
   ]
  },
  {
   "cell_type": "code",
   "execution_count": 18,
   "metadata": {
    "collapsed": true
   },
   "outputs": [],
   "source": [
    "indexgreater3([1,1,2,2])"
   ]
  },
  {
   "cell_type": "code",
   "execution_count": 20,
   "metadata": {},
   "outputs": [
    {
     "data": {
      "text/plain": [
       "[5, 6, 8]"
      ]
     },
     "execution_count": 20,
     "metadata": {},
     "output_type": "execute_result"
    }
   ],
   "source": [
    "def bigger(s,v):\n",
    "    '''Return a list of values from s that are bigger than v'''\n",
    "    r=[]\n",
    "    for i in range(len(s)):\n",
    "        if s[i]>v:\n",
    "            r.append(s[i])\n",
    "    return r\n",
    "\n",
    "bigger([5,6,3,4,1,8,2],4)"
   ]
  },
  {
   "cell_type": "code",
   "execution_count": 24,
   "metadata": {},
   "outputs": [
    {
     "data": {
      "text/plain": [
       "[]"
      ]
     },
     "execution_count": 24,
     "metadata": {},
     "output_type": "execute_result"
    }
   ],
   "source": [
    "def bigger2(s,v):\n",
    "    '''Return a list of values from s that are bigger than v'''\n",
    "    r=[]\n",
    "    for i in range(len(s)):\n",
    "        if s[i]>v:\n",
    "            r.append(s[i])\n",
    "        return r\n",
    "\n",
    "bigger2([3,6,3,4,1,8,2],4)"
   ]
  },
  {
   "cell_type": "code",
   "execution_count": 25,
   "metadata": {},
   "outputs": [
    {
     "data": {
      "text/plain": [
       "[6]"
      ]
     },
     "execution_count": 25,
     "metadata": {},
     "output_type": "execute_result"
    }
   ],
   "source": [
    "def bigger3(s,v):\n",
    "    '''Return a list of values from s that are bigger than v'''\n",
    "    r=[]\n",
    "    for i in range(len(s)):\n",
    "        if s[i]>v:\n",
    "            r.append(s[i])\n",
    "            return r\n",
    "\n",
    "bigger3([3,6,3,4,1,8,2],4)"
   ]
  },
  {
   "cell_type": "code",
   "execution_count": 28,
   "metadata": {},
   "outputs": [
    {
     "data": {
      "text/plain": [
       "[3, 5]"
      ]
     },
     "execution_count": 28,
     "metadata": {},
     "output_type": "execute_result"
    }
   ],
   "source": [
    "def indexallgreater3(s):\n",
    "    r=[]\n",
    "    for i in range(len(s)):\n",
    "        if s[i]>3:\n",
    "            r.append(i)\n",
    "    return r\n",
    "indexallgreater3([2,1,3,5,1,7])"
   ]
  },
  {
   "cell_type": "code",
   "execution_count": null,
   "metadata": {
    "collapsed": true
   },
   "outputs": [],
   "source": []
  }
 ],
 "metadata": {
  "kernelspec": {
   "display_name": "Python 3",
   "language": "python",
   "name": "python3"
  },
  "language_info": {
   "codemirror_mode": {
    "name": "ipython",
    "version": 3
   },
   "file_extension": ".py",
   "mimetype": "text/x-python",
   "name": "python",
   "nbconvert_exporter": "python",
   "pygments_lexer": "ipython3",
   "version": "3.6.1"
  }
 },
 "nbformat": 4,
 "nbformat_minor": 2
}
