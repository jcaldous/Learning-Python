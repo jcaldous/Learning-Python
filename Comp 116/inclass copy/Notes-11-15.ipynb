{
 "cells": [
  {
   "cell_type": "markdown",
   "metadata": {},
   "source": [
    "# Notes for 15 November\n",
    "\n",
    "Today we'll look at various ways to solve the problems on the midterm."
   ]
  },
  {
   "cell_type": "code",
   "execution_count": 1,
   "metadata": {
    "collapsed": true
   },
   "outputs": [],
   "source": [
    "%matplotlib inline\n",
    "import numpy as np\n",
    "import pylab"
   ]
  },
  {
   "cell_type": "code",
   "execution_count": 2,
   "metadata": {
    "collapsed": true
   },
   "outputs": [],
   "source": [
    "rain = np.array([\n",
    "       [ 0.  ,  0.  ,  0.  ,  0.  ,  0.  ],\n",
    "       [ 0.03,  0.  ,  0.  ,  0.  ,  0.  ],\n",
    "       [ 0.16,  0.28,  0.  ,  0.83,  0.  ],\n",
    "       [ 2.22,  0.03,  0.  ,  0.01,  0.  ],\n",
    "       [ 0.03,  0.02,  0.87,  0.  ,  0.  ],\n",
    "       [ 0.  ,  0.  ,  0.01,  0.  ,  0.  ],\n",
    "       [ 0.  ,  0.  ,  0.  ,  0.  ,  0.  ],\n",
    "       [ 0.  ,  0.  ,  0.  ,  0.  ,  0.  ],\n",
    "       [ 0.  ,  0.  ,  0.  ,  0.  ,  0.  ],\n",
    "       [ 0.  ,  0.  ,  0.  ,  0.  ,  0.  ],\n",
    "       [ 0.  ,  0.  ,  0.  ,  0.  ,  0.  ],\n",
    "       [ 0.19,  0.86,  0.  ,  1.09,  0.  ],\n",
    "       [ 0.54,  0.35,  1.73,  0.02,  0.  ],\n",
    "       [ 0.04,  0.04,  0.86,  0.07,  0.  ],\n",
    "       [ 0.02,  0.  ,  0.02,  0.  ,  0.  ],\n",
    "       [ 0.  ,  0.  ,  0.  ,  0.  ,  0.  ],\n",
    "       [ 0.  ,  0.  ,  0.  ,  0.  ,  0.  ],\n",
    "       [ 0.02,  0.39,  0.  ,  0.55,  0.  ],\n",
    "       [ 0.  ,  0.04,  0.  ,  0.  ,  0.  ],\n",
    "       [ 0.  ,  0.  ,  0.  ,  0.  ,  0.  ],\n",
    "       [ 0.  ,  0.  ,  0.  ,  0.  ,  0.  ],\n",
    "       [ 0.  ,  0.  ,  0.  ,  0.  ,  0.  ],\n",
    "       [ 0.27,  0.  ,  0.  ,  0.29,  0.  ],\n",
    "       [ 0.61,  0.78,  1.88,  1.71,  0.  ],\n",
    "       [ 0.04,  0.  ,  0.38,  0.  ,  0.  ],\n",
    "       [ 0.  ,  0.07,  0.  ,  0.  ,  0.  ],\n",
    "       [ 0.04,  0.02,  0.02,  0.03,  0.  ],\n",
    "       [ 0.  ,  0.  ,  0.02,  0.  ,  0.  ],\n",
    "       [ 0.  ,  0.  ,  0.  ,  0.01,  0.  ],\n",
    "       [ 0.  ,  0.  ,  0.02,  0.  ,  0.  ],\n",
    "       [ 0.  ,  0.  ,  0.11,  0.  ,  0.  ],\n",
    "       [ 0.  ,  0.  ,  0.  ,  0.  ,  0.  ],\n",
    "       [ 0.49,  0.23,  0.31,  0.91,  0.43],\n",
    "       [ 0.  ,  0.03,  0.35,  0.  ,  0.49],\n",
    "       [ 0.  ,  0.  ,  0.  ,  0.08,  0.  ],\n",
    "       [ 0.  ,  0.  ,  1.  ,  1.56,  1.73],\n",
    "       [ 0.  ,  0.  ,  0.02,  0.  ,  0.04],\n",
    "       [ 0.  ,  0.  ,  0.  ,  0.  ,  0.  ],\n",
    "       [ 0.  ,  0.  ,  0.  ,  0.  ,  0.  ],\n",
    "       [ 0.28,  0.  ,  0.02,  0.  ,  0.  ],\n",
    "       [ 0.19,  0.96,  0.16,  0.74,  0.3 ],\n",
    "       [ 0.  ,  0.02,  0.31,  0.  ,  0.43],\n",
    "       [ 0.  ,  0.  ,  0.01,  0.01,  0.  ],\n",
    "       [ 0.  ,  0.  ,  0.02,  0.  ,  0.03],\n",
    "       [ 0.  ,  0.  ,  0.  ,  0.  ,  0.  ],\n",
    "       [ 0.  ,  0.  ,  0.  ,  0.  ,  0.  ],\n",
    "       [ 0.  ,  0.  ,  0.  ,  0.14,  0.  ],\n",
    "       [ 1.32,  0.19,  1.08,  0.85,  1.06],\n",
    "       [ 0.  ,  0.  ,  0.01,  0.02,  0.  ],\n",
    "       [ 0.05,  0.  ,  0.  ,  0.  ,  0.03],\n",
    "       [ 0.  ,  0.  ,  0.  ,  0.  ,  0.  ],\n",
    "       [ 0.06,  0.  ,  0.  ,  0.  ,  0.  ],\n",
    "       [ 0.65,  0.31,  0.13,  0.59,  0.32],\n",
    "       [ 0.02,  0.  ,  0.12,  0.6 ,  0.49],\n",
    "       [ 0.  ,  0.  ,  0.11,  0.6 ,  0.  ],\n",
    "       [ 0.04,  0.12,  0.13,  0.27,  0.49],\n",
    "       [ 0.48,  0.74,  1.3 ,  0.97,  1.21],\n",
    "       [ 0.  ,  0.02,  0.02,  0.  ,  0.  ],\n",
    "       [ 0.  ,  0.  ,  0.  ,  0.  ,  0.  ],\n",
    "       [ 0.  ,  0.05,  0.  ,  0.05,  0.  ],\n",
    "       [ 0.16,  0.43,  0.17,  0.  ,  0.04],\n",
    "       [ 0.06,  0.  ,  0.01,  0.01,  0.  ],\n",
    "       [ 0.43,  0.19,  0.03,  0.01,  0.  ],\n",
    "       [ 0.62,  0.13,  0.  ,  0.24,  0.  ],\n",
    "       [ 0.29,  0.49,  0.49,  0.01,  0.25],\n",
    "       [ 0.  ,  0.  ,  0.  ,  0.  ,  0.01],\n",
    "       [ 0.  ,  0.  ,  0.  ,  0.  ,  0.  ],\n",
    "       [ 0.12,  0.  ,  0.  ,  0.  ,  0.  ],\n",
    "       [ 0.18,  0.15,  0.  ,  0.  ,  0.  ],\n",
    "       [ 0.23,  0.  ,  0.  ,  0.03,  0.  ],\n",
    "       [ 0.58,  0.  ,  0.21,  0.12,  0.12],\n",
    "       [ 0.03,  0.  ,  0.  ,  0.03,  0.  ],\n",
    "       [ 0.03,  0.19,  0.15,  0.49,  0.08],\n",
    "       [ 0.02,  0.37,  1.28,  0.  ,  0.52],\n",
    "       [ 0.  ,  0.  ,  0.01,  0.  ,  0.  ],\n",
    "       [ 0.  ,  0.  ,  0.  ,  0.  ,  0.  ],\n",
    "       [ 0.  ,  0.  ,  0.  ,  0.  ,  0.  ],\n",
    "       [ 0.07,  0.  ,  0.  ,  0.08,  0.  ],\n",
    "       [ 0.14,  0.73,  0.13,  1.18,  0.13],\n",
    "       [ 0.08,  0.  ,  0.19,  0.  ,  0.62],\n",
    "       [ 0.  ,  0.  ,  0.  ,  0.  ,  0.01],\n",
    "       [ 0.54,  0.  ,  0.  ,  0.06,  0.06],\n",
    "       [ 0.  ,  0.  ,  0.  ,  0.  ,  0.  ],\n",
    "       [ 0.  ,  0.  ,  0.  ,  0.  ,  0.  ],\n",
    "       [ 0.  ,  0.61,  0.02,  0.01,  0.  ],\n",
    "       [ 0.31,  0.  ,  0.14,  0.18,  0.05],\n",
    "       [ 0.  ,  0.39,  0.48,  0.  ,  0.14],\n",
    "       [ 0.  ,  0.  ,  0.01,  0.  ,  0.  ],\n",
    "       [ 0.68,  0.  ,  0.  ,  0.05,  0.  ],\n",
    "       [ 0.  ,  0.  ,  0.15,  0.  ,  0.05],\n",
    "       [ 0.  ,  0.  ,  0.  ,  0.  ,  0.  ],\n",
    "       [ 0.  ,  0.  ,  0.  ,  0.  ,  0.  ],\n",
    "       [ 0.21,  0.  ,  0.  ,  0.  ,  0.  ],\n",
    "       [ 1.34,  0.  ,  0.  ,  0.47,  0.  ],\n",
    "       [ 0.  ,  0.  ,  0.07,  0.  ,  0.68],\n",
    "       [ 0.  ,  0.  ,  0.  ,  0.  ,  0.  ],\n",
    "       [ 0.51,  0.01,  0.  ,  0.  ,  0.  ],\n",
    "       [ 0.04,  0.51,  0.02,  0.  ,  0.  ],\n",
    "       [ 0.  ,  0.39,  0.45,  0.25,  0.  ],\n",
    "       [ 0.12,  0.22,  0.  ,  0.  ,  0.  ],\n",
    "       [ 0.31,  0.  ,  0.19,  0.34,  0.37],\n",
    "       [ 0.  ,  0.  ,  0.  ,  0.  ,  0.04],\n",
    "       [ 0.  ,  0.  ,  0.  ,  0.  ,  0.  ],\n",
    "       [ 0.26,  0.01,  0.  ,  0.61,  0.  ],\n",
    "       [ 0.36,  0.27,  0.73,  0.  ,  1.  ],\n",
    "       [ 0.43,  0.16,  0.02,  0.  ,  0.01],\n",
    "       [ 0.53,  0.08,  0.  ,  0.  ,  0.  ],\n",
    "       [ 0.28,  0.02,  0.  ,  0.  ,  0.  ],\n",
    "       [ 0.52,  0.  ,  0.  ,  0.04,  0.  ],\n",
    "       [ 0.63,  0.94,  0.67,  0.04,  0.13],\n",
    "       [ 0.  ,  0.03,  0.01,  0.  ,  0.  ],\n",
    "       [ 0.  ,  0.  ,  0.  ,  0.  ,  0.  ],\n",
    "       [ 0.  ,  0.  ,  0.  ,  0.  ,  0.  ],\n",
    "       [ 0.  ,  0.  ,  0.  ,  0.  ,  0.  ],\n",
    "       [ 0.  ,  0.  ,  0.  ,  0.07,  0.  ],\n",
    "       [ 0.  ,  0.11,  0.2 ,  0.09,  0.06],\n",
    "       [ 0.  ,  0.03,  0.06,  0.  ,  0.15],\n",
    "       [ 0.  ,  0.  ,  0.  ,  0.  ,  0.  ],\n",
    "       [ 0.  ,  0.  ,  0.  ,  0.  ,  0.  ],\n",
    "       [ 0.  ,  0.  ,  0.  ,  0.01,  0.  ],\n",
    "       [ 0.07,  0.52,  0.38,  0.14,  0.  ],\n",
    "       [ 0.  ,  0.  ,  0.12,  0.  ,  0.  ],\n",
    "       [ 0.  ,  0.  ,  0.  ,  0.  ,  0.  ],\n",
    "       [ 0.  ,  0.  ,  0.  ,  0.  ,  0.  ],\n",
    "       [ 0.  ,  0.  ,  0.  ,  0.  ,  0.06],\n",
    "       [ 0.  ,  0.  ,  0.  ,  0.  ,  0.15],\n",
    "       [ 0.  ,  0.  ,  0.  ,  0.01,  0.  ],\n",
    "       [ 0.57,  0.  ,  0.  ,  0.58,  0.61]])"
   ]
  },
  {
   "cell_type": "code",
   "execution_count": 4,
   "metadata": {
    "collapsed": true
   },
   "outputs": [],
   "source": [
    "def MaxRunLength(P):\n",
    "    result = 0\n",
    "    N = 0\n",
    "    for i in range(len(P)):\n",
    "        if P[i]:\n",
    "            N = N + 1\n",
    "        else:\n",
    "            N = 0\n",
    "        if N > result:\n",
    "            result = N\n",
    "    return result"
   ]
  },
  {
   "cell_type": "markdown",
   "metadata": {},
   "source": [
    "A randomly selected wrong answer. Let's see how we can transform it.\n",
    "\n",
    "Which station had the longest run of days with no rain?"
   ]
  },
  {
   "cell_type": "code",
   "execution_count": 6,
   "metadata": {},
   "outputs": [
    {
     "data": {
      "text/plain": [
       "4"
      ]
     },
     "execution_count": 6,
     "metadata": {},
     "output_type": "execute_result"
    }
   ],
   "source": [
    "def F5(data):\n",
    "    count = []\n",
    "    for j in range(len(data[1])):\n",
    "        count.append(MaxRunLength(data[:,j] == 0))\n",
    "        \n",
    "    return np.argmax(count)\n",
    "F5(rain)"
   ]
  },
  {
   "cell_type": "markdown",
   "metadata": {},
   "source": [
    "Here is a solution I came up with"
   ]
  },
  {
   "cell_type": "code",
   "execution_count": 5,
   "metadata": {},
   "outputs": [
    {
     "data": {
      "text/plain": [
       "4"
      ]
     },
     "execution_count": 5,
     "metadata": {},
     "output_type": "execute_result"
    }
   ],
   "source": [
    "def F5(A):\n",
    "    isDry = A == 0\n",
    "    counts = []\n",
    "    for i in range(A.shape[1]): # for each column\n",
    "        counts.append(MaxRunLength(isDry[:,i]))\n",
    "    return np.argmax(counts)\n",
    "\n",
    "F5(rain)\n"
   ]
  },
  {
   "cell_type": "markdown",
   "metadata": {},
   "source": [
    "Here is another incorrect solution"
   ]
  },
  {
   "cell_type": "code",
   "execution_count": 7,
   "metadata": {},
   "outputs": [
    {
     "ename": "ValueError",
     "evalue": "The truth value of an array with more than one element is ambiguous. Use a.any() or a.all()",
     "output_type": "error",
     "traceback": [
      "\u001b[0;31m---------------------------------------------------------------------------\u001b[0m",
      "\u001b[0;31mValueError\u001b[0m                                Traceback (most recent call last)",
      "\u001b[0;32m<ipython-input-7-c08fdd6e8b43>\u001b[0m in \u001b[0;36m<module>\u001b[0;34m()\u001b[0m\n\u001b[1;32m     12\u001b[0m             \u001b[0mmaxindex\u001b[0m \u001b[0;34m=\u001b[0m \u001b[0mi\u001b[0m\u001b[0;34m\u001b[0m\u001b[0m\n\u001b[1;32m     13\u001b[0m     \u001b[0;32mreturn\u001b[0m \u001b[0mresult\u001b[0m\u001b[0;34m,\u001b[0m \u001b[0mmaxindex\u001b[0m\u001b[0;34m\u001b[0m\u001b[0m\n\u001b[0;32m---> 14\u001b[0;31m \u001b[0mF5\u001b[0m\u001b[0;34m(\u001b[0m\u001b[0mrain\u001b[0m\u001b[0;34m)\u001b[0m\u001b[0;34m\u001b[0m\u001b[0m\n\u001b[0m",
      "\u001b[0;32m<ipython-input-7-c08fdd6e8b43>\u001b[0m in \u001b[0;36mF5\u001b[0;34m(data)\u001b[0m\n\u001b[1;32m      4\u001b[0m     \u001b[0mN\u001b[0m\u001b[0;34m=\u001b[0m\u001b[0;36m0\u001b[0m\u001b[0;34m\u001b[0m\u001b[0m\n\u001b[1;32m      5\u001b[0m     \u001b[0;32mfor\u001b[0m \u001b[0mi\u001b[0m \u001b[0;32min\u001b[0m \u001b[0mrange\u001b[0m\u001b[0;34m(\u001b[0m\u001b[0mlen\u001b[0m\u001b[0;34m(\u001b[0m\u001b[0mdata\u001b[0m\u001b[0;34m)\u001b[0m\u001b[0;34m)\u001b[0m\u001b[0;34m:\u001b[0m \u001b[0;31m#visit all of the values in the sequence\u001b[0m\u001b[0;34m\u001b[0m\u001b[0m\n\u001b[0;32m----> 6\u001b[0;31m         \u001b[0;32mif\u001b[0m \u001b[0;34m(\u001b[0m\u001b[0mdata\u001b[0m\u001b[0;34m[\u001b[0m\u001b[0mi\u001b[0m\u001b[0;34m]\u001b[0m\u001b[0;34m==\u001b[0m\u001b[0;36m0\u001b[0m\u001b[0;34m)\u001b[0m\u001b[0;34m:\u001b[0m \u001b[0;31m#if P[i](true) == true: I am going to increment to value of N, it becomes 1\u001b[0m\u001b[0;34m\u001b[0m\u001b[0m\n\u001b[0m\u001b[1;32m      7\u001b[0m             \u001b[0mN\u001b[0m \u001b[0;34m=\u001b[0m \u001b[0mN\u001b[0m \u001b[0;34m+\u001b[0m \u001b[0;36m1\u001b[0m\u001b[0;34m\u001b[0m\u001b[0m\n\u001b[1;32m      8\u001b[0m         \u001b[0;32melse\u001b[0m\u001b[0;34m:\u001b[0m\u001b[0;34m\u001b[0m\u001b[0m\n",
      "\u001b[0;31mValueError\u001b[0m: The truth value of an array with more than one element is ambiguous. Use a.any() or a.all()"
     ]
    }
   ],
   "source": [
    "def F5(data):\n",
    "    result=0\n",
    "    maxindex= 0 \n",
    "    N=0\n",
    "    for i in range(len(data)): #visit all of the values in the sequence\n",
    "        if (data[i]==0): #if P[i](true) == true: I am going to increment to value of N, it becomes 1 \n",
    "            N = N + 1\n",
    "        else:\n",
    "            N = 0\n",
    "        if N> result:\n",
    "            result = N\n",
    "            maxindex = i\n",
    "    return result, maxindex\n",
    "F5(rain)"
   ]
  },
  {
   "cell_type": "code",
   "execution_count": 9,
   "metadata": {},
   "outputs": [
    {
     "data": {
      "text/plain": [
       "4"
      ]
     },
     "execution_count": 9,
     "metadata": {},
     "output_type": "execute_result"
    }
   ],
   "source": [
    "def F5(data):\n",
    "    runs = []\n",
    "    for j in range(data.shape[1]): # for each column\n",
    "        result=0\n",
    "        N=0\n",
    "        for i in range(len(data)): #visit all of the values in the sequence\n",
    "            if (data[i,j]==0): #if P[i](true) == true: I am going to increment to value of N, it becomes 1 \n",
    "                N = N + 1\n",
    "            else:\n",
    "                N = 0\n",
    "            if N> result:\n",
    "                result = N\n",
    "        runs.append(result)\n",
    "    return np.argmax(runs)\n",
    "F5(rain)"
   ]
  },
  {
   "cell_type": "markdown",
   "metadata": {},
   "source": [
    "And another."
   ]
  },
  {
   "cell_type": "markdown",
   "metadata": {},
   "source": [
    "For each station, how many days had more rain than the previous day?"
   ]
  },
  {
   "cell_type": "code",
   "execution_count": null,
   "metadata": {
    "collapsed": true
   },
   "outputs": [],
   "source": [
    "def F4 (data):\n",
    "    count = 0\n",
    "    r = []\n",
    "    for i in range(len(data)):\n",
    "        if data[i-1] < data[i]:\n",
    "            count = count + data[i]\n",
    "            r.append(count)\n",
    "        \n",
    "    return np.max(r) \n"
   ]
  },
  {
   "cell_type": "code",
   "execution_count": 10,
   "metadata": {},
   "outputs": [
    {
     "data": {
      "text/plain": [
       "array([42, 28, 37, 41, 32])"
      ]
     },
     "execution_count": 10,
     "metadata": {},
     "output_type": "execute_result"
    }
   ],
   "source": [
    "def F4 (data):\n",
    "    return np.count_nonzero(data[1:] > data[0:-1], axis=0)\n",
    "F4(rain)"
   ]
  },
  {
   "cell_type": "code",
   "execution_count": 11,
   "metadata": {},
   "outputs": [
    {
     "data": {
      "text/plain": [
       "[42, 28, 37, 41, 32]"
      ]
     },
     "execution_count": 11,
     "metadata": {},
     "output_type": "execute_result"
    }
   ],
   "source": [
    "def F4 (data):\n",
    "    r = []\n",
    "    for j in range(data.shape[1]): # for each station\n",
    "        count = 0\n",
    "        for i in range(1, len(data)): # for each day\n",
    "            if data[i-1, j] < data[i, j]:\n",
    "                count = count + 1\n",
    "        r.append(count)\n",
    "        \n",
    "    return r\n",
    "F4(rain)\n"
   ]
  },
  {
   "cell_type": "code",
   "execution_count": 14,
   "metadata": {},
   "outputs": [
    {
     "data": {
      "text/plain": [
       "array([42, 28, 37, 41, 32])"
      ]
     },
     "execution_count": 14,
     "metadata": {},
     "output_type": "execute_result"
    }
   ],
   "source": [
    "def F4 (data):\n",
    "    count = 0\n",
    "    for i in range(1,len(data)):\n",
    "        count = count + (data[i-1] < data[i])\n",
    "        \n",
    "    return count\n",
    "F4(rain)"
   ]
  },
  {
   "cell_type": "code",
   "execution_count": 15,
   "metadata": {},
   "outputs": [
    {
     "data": {
      "text/plain": [
       "array([42, 28, 37, 41, 32])"
      ]
     },
     "execution_count": 15,
     "metadata": {},
     "output_type": "execute_result"
    }
   ],
   "source": [
    "def F4(data):\n",
    "    counts = np.zeros(data.shape[1], dtype=int)\n",
    "    for i in range(1, len(data)):\n",
    "        for j in range(data.shape[1]):\n",
    "            if data[i, j] > data[i-1, j]:\n",
    "                counts[j] = counts[j] + 1\n",
    "    return counts\n",
    "F4(rain)"
   ]
  },
  {
   "cell_type": "code",
   "execution_count": 16,
   "metadata": {},
   "outputs": [
    {
     "data": {
      "text/plain": [
       "array([42, 28, 37, 41, 32])"
      ]
     },
     "execution_count": 16,
     "metadata": {},
     "output_type": "execute_result"
    }
   ],
   "source": [
    "def F4(data):\n",
    "    counts = np.zeros(data.shape[1], dtype=int)\n",
    "    for j in range(data.shape[1]):\n",
    "        for i in range(1, len(data)):\n",
    "            if data[i, j] > data[i-1, j]:\n",
    "                counts[j] = counts[j] + 1\n",
    "    return counts\n",
    "F4(rain)"
   ]
  },
  {
   "cell_type": "code",
   "execution_count": 17,
   "metadata": {},
   "outputs": [
    {
     "data": {
      "text/plain": [
       "71"
      ]
     },
     "execution_count": 17,
     "metadata": {},
     "output_type": "execute_result"
    }
   ],
   "source": [
    "def F3(data, R):\n",
    "    result = 0\n",
    "    N = 0\n",
    "    for i in range(len(data)):\n",
    "        if np.any(data[i] < R):\n",
    "            N = N + 1\n",
    "        else:\n",
    "            N = 0\n",
    "        if N > result:\n",
    "            result = N\n",
    "    return result\n",
    "F3(rain, 0.2)"
   ]
  },
  {
   "cell_type": "markdown",
   "metadata": {},
   "source": [
    "This is a completely crazy version of F5 that came to me. You should not write code like this."
   ]
  },
  {
   "cell_type": "code",
   "execution_count": 7,
   "metadata": {},
   "outputs": [
    {
     "name": "stdout",
     "output_type": "stream",
     "text": [
      "[1 1 1 1 1] [1 1 1 1 1]\n",
      "[0 2 2 2 2] [1 2 2 2 2]\n",
      "[0 0 3 0 3] [1 2 3 2 3]\n",
      "[0 0 4 0 4] [1 2 4 2 4]\n",
      "[0 0 0 1 5] [1 2 4 2 5]\n",
      "[1 1 0 2 6] [1 2 4 2 6]\n",
      "[2 2 1 3 7] [2 2 4 3 7]\n",
      "[3 3 2 4 8] [3 3 4 4 8]\n",
      "[4 4 3 5 9] [4 4 4 5 9]\n",
      "[ 5  5  4  6 10] [ 5  5  4  6 10]\n",
      "[ 6  6  5  7 11] [ 6  6  5  7 11]\n",
      "[ 0  0  6  0 12] [ 6  6  6  7 12]\n",
      "[ 0  0  0  0 13] [ 6  6  6  7 13]\n",
      "[ 0  0  0  0 14] [ 6  6  6  7 14]\n",
      "[ 0  1  0  1 15] [ 6  6  6  7 15]\n",
      "[ 1  2  1  2 16] [ 6  6  6  7 16]\n",
      "[ 2  3  2  3 17] [ 6  6  6  7 17]\n",
      "[ 0  0  3  0 18] [ 6  6  6  7 18]\n",
      "[ 1  0  4  1 19] [ 6  6  6  7 19]\n",
      "[ 2  1  5  2 20] [ 6  6  6  7 20]\n",
      "[ 3  2  6  3 21] [ 6  6  6  7 21]\n",
      "[ 4  3  7  4 22] [ 6  6  7  7 22]\n",
      "[ 0  4  8  0 23] [ 6  6  8  7 23]\n",
      "[ 0  0  0  0 24] [ 6  6  8  7 24]\n",
      "[ 0  1  0  1 25] [ 6  6  8  7 25]\n",
      "[ 1  0  1  2 26] [ 6  6  8  7 26]\n",
      "[ 0  0  0  0 27] [ 6  6  8  7 27]\n",
      "[ 1  1  0  1 28] [ 6  6  8  7 28]\n",
      "[ 2  2  1  0 29] [ 6  6  8  7 29]\n",
      "[ 3  3  0  1 30] [ 6  6  8  7 30]\n",
      "[ 4  4  0  2 31] [ 6  6  8  7 31]\n",
      "[ 5  5  1  3 32] [ 6  6  8  7 32]\n",
      "[0 0 0 0 0] [ 6  6  8  7 32]\n",
      "[1 0 0 1 0] [ 6  6  8  7 32]\n",
      "[2 1 1 0 1] [ 6  6  8  7 32]\n",
      "[3 2 0 0 0] [ 6  6  8  7 32]\n",
      "[4 3 0 1 0] [ 6  6  8  7 32]\n",
      "[5 4 1 2 1] [ 6  6  8  7 32]\n",
      "[6 5 2 3 2] [ 6  6  8  7 32]\n",
      "[0 6 0 4 3] [ 6  6  8  7 32]\n",
      "[0 0 0 0 0] [ 6  6  8  7 32]\n",
      "[1 0 0 1 0] [ 6  6  8  7 32]\n",
      "[2 1 0 0 1] [ 6  6  8  7 32]\n",
      "[3 2 0 1 0] [ 6  6  8  7 32]\n",
      "[4 3 1 2 1] [ 6  6  8  7 32]\n",
      "[5 4 2 3 2] [ 6  6  8  7 32]\n",
      "[6 5 3 0 3] [ 6  6  8  7 32]\n",
      "[0 0 0 0 0] [ 6  6  8  7 32]\n",
      "[1 1 0 0 1] [ 6  6  8  7 32]\n",
      "[0 2 1 1 0] [ 6  6  8  7 32]\n",
      "[1 3 2 2 1] [ 6  6  8  7 32]\n",
      "[0 4 3 3 2] [ 6  6  8  7 32]\n",
      "[0 0 0 0 0] [ 6  6  8  7 32]\n",
      "[0 1 0 0 0] [ 6  6  8  7 32]\n",
      "[1 2 0 0 1] [ 6  6  8  7 32]\n",
      "[0 0 0 0 0] [ 6  6  8  7 32]\n",
      "[0 0 0 0 0] [ 6  6  8  7 32]\n",
      "[1 0 0 1 1] [ 6  6  8  7 32]\n",
      "[2 1 1 2 2] [ 6  6  8  7 32]\n",
      "[3 0 2 0 3] [ 6  6  8  7 32]\n",
      "[0 0 0 1 0] [ 6  6  8  7 32]\n",
      "[0 1 0 0 1] [ 6  6  8  7 32]\n",
      "[0 0 0 0 2] [ 6  6  8  7 32]\n",
      "[0 0 1 0 3] [ 6  6  8  7 32]\n",
      "[0 0 0 0 0] [ 6  6  8  7 32]\n",
      "[1 1 1 1 0] [ 6  6  8  7 32]\n",
      "[2 2 2 2 1] [ 6  6  8  7 32]\n",
      "[0 3 3 3 2] [ 6  6  8  7 32]\n",
      "[0 0 4 4 3] [ 6  6  8  7 32]\n",
      "[0 1 5 0 4] [ 6  6  8  7 32]\n",
      "[0 2 0 0 0] [ 6  6  8  7 32]\n",
      "[0 3 1 0 1] [ 6  6  8  7 32]\n",
      "[0 0 0 0 0] [ 6  6  8  7 32]\n",
      "[0 0 0 1 0] [ 6  6  8  7 32]\n",
      "[1 1 0 2 1] [ 6  6  8  7 32]\n",
      "[2 2 1 3 2] [ 6  6  8  7 32]\n",
      "[3 3 2 4 3] [ 6  6  8  7 32]\n",
      "[0 4 3 0 4] [ 6  6  8  7 32]\n",
      "[0 0 0 0 0] [ 6  6  8  7 32]\n",
      "[0 1 0 1 0] [ 6  6  8  7 32]\n",
      "[1 2 1 2 0] [ 6  6  8  7 32]\n",
      "[0 3 2 0 0] [ 6  6  8  7 32]\n",
      "[1 4 3 1 1] [ 6  6  8  7 32]\n",
      "[2 5 4 2 2] [ 6  6  8  7 32]\n",
      "[3 0 0 0 3] [ 6  6  8  7 32]\n",
      "[0 1 0 0 0] [ 6  6  8  7 32]\n",
      "[1 0 0 1 0] [ 6  6  8  7 32]\n",
      "[2 1 0 2 1] [ 6  6  8  7 32]\n",
      "[0 2 1 0 2] [ 6  6  8  7 32]\n",
      "[1 3 0 1 0] [ 6  6  8  7 32]\n",
      "[2 4 1 2 1] [ 6  6  8  7 32]\n",
      "[3 5 2 3 2] [ 6  6  8  7 32]\n",
      "[0 6 3 4 3] [ 6  6  8  7 32]\n",
      "[0 7 4 0 4] [ 6  7  8  7 32]\n",
      "[1 8 0 1 0] [ 6  8  8  7 32]\n",
      "[2 9 1 2 1] [ 6  9  8  7 32]\n",
      "[0 0 2 3 2] [ 6  9  8  7 32]\n",
      "[0 0 0 4 3] [ 6  9  8  7 32]\n",
      "[1 0 0 0 4] [ 6  9  8  7 32]\n",
      "[0 0 1 1 5] [ 6  9  8  7 32]\n",
      "[0 1 0 0 0] [ 6  9  8  7 32]\n",
      "[1 2 1 1 0] [ 6  9  8  7 32]\n",
      "[2 3 2 2 1] [ 6  9  8  7 32]\n",
      "[0 0 3 0 2] [ 6  9  8  7 32]\n",
      "[0 0 0 1 0] [ 6  9  8  7 32]\n",
      "[0 0 0 2 0] [ 6  9  8  7 32]\n",
      "[0 0 1 3 1] [ 6  9  8  7 32]\n",
      "[0 0 2 4 2] [ 6  9  8  7 32]\n",
      "[0 1 3 0 3] [ 6  9  8  7 32]\n",
      "[0 0 0 0 0] [ 6  9  8  7 32]\n",
      "[1 0 0 1 1] [ 6  9  8  7 32]\n",
      "[2 1 1 2 2] [ 6  9  8  7 32]\n",
      "[3 2 2 3 3] [ 6  9  8  7 32]\n",
      "[4 3 3 4 4] [ 6  9  8  7 32]\n",
      "[5 4 4 0 5] [ 6  9  8  7 32]\n",
      "[6 0 0 0 0] [ 6  9  8  7 32]\n",
      "[7 0 0 1 0] [ 7  9  8  7 32]\n",
      "[8 1 1 2 1] [ 8  9  8  7 32]\n",
      "[9 2 2 3 2] [ 9  9  8  7 32]\n",
      "[10  3  3  0  3] [10  9  8  7 32]\n",
      "[0 0 0 0 4] [10  9  8  7 32]\n",
      "[1 1 0 1 5] [10  9  8  7 32]\n",
      "[2 2 1 2 6] [10  9  8  7 32]\n",
      "[3 3 2 3 7] [10  9  8  7 32]\n",
      "[4 4 3 4 0] [10  9  8  7 32]\n",
      "[5 5 4 5 0] [10  9  8  7 32]\n",
      "[6 6 5 0 1] [10  9  8  7 32]\n",
      "[0 7 6 0 0] [10  9  8  7 32]\n"
     ]
    },
    {
     "data": {
      "text/plain": [
       "4"
      ]
     },
     "execution_count": 7,
     "metadata": {},
     "output_type": "execute_result"
    }
   ],
   "source": [
    "def F5crazy(data):\n",
    "    count = 0\n",
    "    longest = 0\n",
    "    for i in range(len(data)):\n",
    "        t = (data[i] == 0)\n",
    "        count = (count + t) * t\n",
    "        longest = np.maximum(longest, count)\n",
    "        print(count, longest)\n",
    "    return np.argmax(longest)\n",
    "F5crazy(rain)"
   ]
  },
  {
   "cell_type": "code",
   "execution_count": null,
   "metadata": {
    "collapsed": true
   },
   "outputs": [],
   "source": []
  }
 ],
 "metadata": {
  "kernelspec": {
   "display_name": "Python 3",
   "language": "python",
   "name": "python3"
  },
  "language_info": {
   "codemirror_mode": {
    "name": "ipython",
    "version": 3
   },
   "file_extension": ".py",
   "mimetype": "text/x-python",
   "name": "python",
   "nbconvert_exporter": "python",
   "pygments_lexer": "ipython3",
   "version": "3.6.1"
  }
 },
 "nbformat": 4,
 "nbformat_minor": 2
}
