{
 "cells": [
  {
   "cell_type": "markdown",
   "metadata": {},
   "source": [
    "# Notes for 6 December\n",
    "\n"
   ]
  },
  {
   "cell_type": "code",
   "execution_count": 1,
   "metadata": {
    "collapsed": true
   },
   "outputs": [],
   "source": [
    "%matplotlib inline\n",
    "import numpy as np\n",
    "import pylab"
   ]
  },
  {
   "cell_type": "code",
   "execution_count": 2,
   "metadata": {},
   "outputs": [
    {
     "data": {
      "text/plain": [
       "('fedata.npz', <http.client.HTTPMessage at 0x7f6fa19512e8>)"
      ]
     },
     "execution_count": 2,
     "metadata": {},
     "output_type": "execute_result"
    }
   ],
   "source": [
    "import urllib.request\n",
    "urllib.request.urlretrieve('https://cs.unc.edu/Courses/comp116-f17/media/fedata.npz', 'fedata.npz')"
   ]
  },
  {
   "cell_type": "code",
   "execution_count": 3,
   "metadata": {
    "collapsed": true
   },
   "outputs": [],
   "source": [
    "with np.load('fedata.npz') as data:\n",
    "    BigNames = list(data['names'])\n",
    "    BigYears = data['years']\n",
    "    BigPopulations = data['populations']"
   ]
  },
  {
   "cell_type": "code",
   "execution_count": 4,
   "metadata": {
    "collapsed": true
   },
   "outputs": [],
   "source": [
    "BN = BigNames\n",
    "BY = BigYears\n",
    "BP = BigPopulations"
   ]
  },
  {
   "cell_type": "code",
   "execution_count": 5,
   "metadata": {},
   "outputs": [
    {
     "data": {
      "text/plain": [
       "array([[  3.20276380e+02,   5.47300000e-02,   2.83698000e+01,\n",
       "          9.37869900e+01,   3.47570000e-01],\n",
       "       [  3.24446940e+02,   5.49100000e-02,   2.88480600e+01,\n",
       "          9.76191500e+01,   3.63430000e-01],\n",
       "       [  3.28620140e+02,   5.51700000e-02,   2.93298800e+01,\n",
       "          1.01522510e+02,   3.77960000e-01],\n",
       "       [  3.32724870e+02,   5.55100000e-02,   2.97935500e+01,\n",
       "          1.05530110e+02,   3.93030000e-01],\n",
       "       [  3.36721430e+02,   5.58500000e-02,   3.02306400e+01,\n",
       "          1.09623520e+02,   4.08300000e-01],\n",
       "       [  3.40748110e+02,   5.61800000e-02,   3.06717600e+01,\n",
       "          1.13892030e+02,   4.23990000e-01]])"
      ]
     },
     "execution_count": 5,
     "metadata": {},
     "output_type": "execute_result"
    }
   ],
   "source": [
    "TN = BigNames[:5]\n",
    "TY = BY[:6]\n",
    "TP = BP[:6,:5]\n",
    "TP"
   ]
  },
  {
   "cell_type": "code",
   "execution_count": 6,
   "metadata": {},
   "outputs": [
    {
     "data": {
      "text/plain": [
       "['North America', 'Bermuda', 'Argentina', 'Middle East', 'Bahrain']"
      ]
     },
     "execution_count": 6,
     "metadata": {},
     "output_type": "execute_result"
    }
   ],
   "source": [
    "TN"
   ]
  },
  {
   "cell_type": "code",
   "execution_count": 7,
   "metadata": {},
   "outputs": [
    {
     "data": {
      "text/plain": [
       "array([1980, 1981, 1982, 1983, 1984, 1985])"
      ]
     },
     "execution_count": 7,
     "metadata": {},
     "output_type": "execute_result"
    }
   ],
   "source": [
    "TY"
   ]
  },
  {
   "cell_type": "code",
   "execution_count": 8,
   "metadata": {},
   "outputs": [
    {
     "data": {
      "text/plain": [
       "array([[ 0.01302175,  0.00328887,  0.01685807,  0.04086025,  0.0456311 ],\n",
       "       [ 0.0128625 ,  0.00473502,  0.01670199,  0.0399856 ,  0.03998019],\n",
       "       [ 0.0124908 ,  0.00616277,  0.01580879,  0.03947499,  0.03987194],\n",
       "       [ 0.01201161,  0.00612502,  0.01467063,  0.03878902,  0.038852  ],\n",
       "       [ 0.01195849,  0.00590868,  0.01459182,  0.0389379 ,  0.03842763]])"
      ]
     },
     "execution_count": 8,
     "metadata": {},
     "output_type": "execute_result"
    }
   ],
   "source": [
    "def RC(Names, Years, Populations):\n",
    "    return (Populations[1:,:] - Populations[0:-1,:]) / Populations[0:-1,:]\n",
    "RC(TN, TY, TP)"
   ]
  },
  {
   "cell_type": "code",
   "execution_count": 10,
   "metadata": {
    "collapsed": true
   },
   "outputs": [],
   "source": [
    "def RC2(Names, Years, Populations):\n",
    "    return np.diff(Populations, axis=0) / Populations[0:-1,:]\n",
    "rc = RC2(TN, TY, TP)"
   ]
  },
  {
   "cell_type": "code",
   "execution_count": 11,
   "metadata": {},
   "outputs": [
    {
     "data": {
      "text/plain": [
       "0.013021753274468832"
      ]
     },
     "execution_count": 11,
     "metadata": {},
     "output_type": "execute_result"
    }
   ],
   "source": [
    "V = rc[0,0]\n",
    "V"
   ]
  },
  {
   "cell_type": "code",
   "execution_count": 12,
   "metadata": {},
   "outputs": [
    {
     "data": {
      "text/plain": [
       "array([[ True, False, False, False, False],\n",
       "       [False, False, False, False, False],\n",
       "       [False, False, False, False, False],\n",
       "       [False, False, False, False, False],\n",
       "       [False, False, False, False, False]], dtype=bool)"
      ]
     },
     "execution_count": 12,
     "metadata": {},
     "output_type": "execute_result"
    }
   ],
   "source": [
    "rc == V"
   ]
  },
  {
   "cell_type": "code",
   "execution_count": 16,
   "metadata": {},
   "outputs": [
    {
     "data": {
      "text/plain": [
       "array([ True, False, False, False, False], dtype=bool)"
      ]
     },
     "execution_count": 16,
     "metadata": {},
     "output_type": "execute_result"
    }
   ],
   "source": [
    "bv = np.any(rc == V, axis=1)\n",
    "bv"
   ]
  },
  {
   "cell_type": "code",
   "execution_count": 14,
   "metadata": {},
   "outputs": [
    {
     "data": {
      "text/plain": [
       "array([[ 0.01302175,  0.00328887,  0.01685807,  0.04086025,  0.0456311 ],\n",
       "       [ 0.0128625 ,  0.00473502,  0.01670199,  0.0399856 ,  0.03998019],\n",
       "       [ 0.0124908 ,  0.00616277,  0.01580879,  0.03947499,  0.03987194],\n",
       "       [ 0.01201161,  0.00612502,  0.01467063,  0.03878902,  0.038852  ],\n",
       "       [ 0.01195849,  0.00590868,  0.01459182,  0.0389379 ,  0.03842763]])"
      ]
     },
     "execution_count": 14,
     "metadata": {},
     "output_type": "execute_result"
    }
   ],
   "source": [
    "def RC3(Names, Years, Populations):\n",
    "    Result = np.zeros([len(Years)-1, len(Names)])\n",
    "    for y in range(1, len(Years)):\n",
    "        for n in range(len(Names)):\n",
    "            Result[y-1,n] = (Populations[y,n] - Populations[y-1,n]) / Populations[y-1,n]\n",
    "    return Result\n",
    "RC3(TN, TY, TP)"
   ]
  },
  {
   "cell_type": "code",
   "execution_count": 15,
   "metadata": {},
   "outputs": [
    {
     "data": {
      "text/plain": [
       "array([[ 0.01302175,  0.00328887,  0.01685807,  0.04086025,  0.0456311 ],\n",
       "       [ 0.0128625 ,  0.00473502,  0.01670199,  0.0399856 ,  0.03998019],\n",
       "       [ 0.0124908 ,  0.00616277,  0.01580879,  0.03947499,  0.03987194],\n",
       "       [ 0.01201161,  0.00612502,  0.01467063,  0.03878902,  0.038852  ],\n",
       "       [ 0.01195849,  0.00590868,  0.01459182,  0.0389379 ,  0.03842763]])"
      ]
     },
     "execution_count": 15,
     "metadata": {},
     "output_type": "execute_result"
    }
   ],
   "source": [
    "def RC4(Names, Years, Populations):\n",
    "    Result = np.zeros([len(Years)-1, len(Names)])\n",
    "    for y in range(len(Years)-1):\n",
    "        for n in range(len(Names)):\n",
    "            Result[y,n] = (Populations[y+1,n] - Populations[y,n]) / Populations[y,n]\n",
    "    return Result\n",
    "RC4(TN, TY, TP)"
   ]
  },
  {
   "cell_type": "code",
   "execution_count": 17,
   "metadata": {},
   "outputs": [
    {
     "data": {
      "text/plain": [
       "array([1981, 1982, 1983, 1984, 1985])"
      ]
     },
     "execution_count": 17,
     "metadata": {},
     "output_type": "execute_result"
    }
   ],
   "source": [
    "TY[1:]"
   ]
  },
  {
   "cell_type": "code",
   "execution_count": 18,
   "metadata": {},
   "outputs": [
    {
     "data": {
      "text/plain": [
       "array([1981])"
      ]
     },
     "execution_count": 18,
     "metadata": {},
     "output_type": "execute_result"
    }
   ],
   "source": [
    "TY[1:][bv]"
   ]
  },
  {
   "cell_type": "code",
   "execution_count": null,
   "metadata": {
    "collapsed": true
   },
   "outputs": [],
   "source": []
  }
 ],
 "metadata": {
  "kernelspec": {
   "display_name": "Python 3",
   "language": "python",
   "name": "python3"
  },
  "language_info": {
   "codemirror_mode": {
    "name": "ipython",
    "version": 3
   },
   "file_extension": ".py",
   "mimetype": "text/x-python",
   "name": "python",
   "nbconvert_exporter": "python",
   "pygments_lexer": "ipython3",
   "version": "3.6.1"
  }
 },
 "nbformat": 4,
 "nbformat_minor": 2
}
