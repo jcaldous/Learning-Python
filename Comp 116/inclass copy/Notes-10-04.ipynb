{
 "cells": [
  {
   "cell_type": "markdown",
   "metadata": {},
   "source": [
    "# Notes for 4 October\n",
    "\n",
    "Today we will look at writing and using functions"
   ]
  },
  {
   "cell_type": "code",
   "execution_count": 1,
   "metadata": {
    "collapsed": true
   },
   "outputs": [],
   "source": [
    "%matplotlib inline\n",
    "import numpy as np\n",
    "import pylab"
   ]
  },
  {
   "cell_type": "markdown",
   "metadata": {},
   "source": [
    "First we'll use functions to approximate definite integrals.\n",
    "\n",
    "$\\int_a^b f(x) dx$\n",
    "\n",
    "First let's remind ourselves of what to expect for values so that we can check our work.\n",
    "\n",
    "$\\int x dx = {{x^2} \\over 2}$ so $ {\\int_4^6 x dx} = {6^2 \\over 2} - {4^2 \\over 2} = 10 $\n",
    "\n",
    "$ {\\int_0^1 x^3 dx} = {1 \\over 4} $\n",
    "\n",
    "$ {\\int_1^3 x^2 dx} $ so $ {{3^3}\\over 3} - {{1^3}\\over 3} $ = 8.6667\n",
    "\n",
    "We can approximate the integral using the [_trapeziodal rule_](https://en.wikipedia.org/wiki/Trapezoidal_rule) as illustrated here: ![trapezoidal rule example](https://upload.wikimedia.org/wikipedia/commons/7/7e/Trapezium2.gif)"
   ]
  },
  {
   "cell_type": "markdown",
   "metadata": {},
   "source": [
    "This function takes a function as an argument and computes the definite integral over the range given. The last argument is the number of trapezoids we are adding to approximate the integral."
   ]
  },
  {
   "cell_type": "code",
   "execution_count": 2,
   "metadata": {
    "collapsed": true
   },
   "outputs": [],
   "source": [
    "def integrate(f, a, b, n):\n",
    "    dx = (b - a) / n # step size\n",
    "    x = np.linspace(a, b, n+1) # x stepped evenly from a to b\n",
    "    y = f(x) # function f evaluated for every x\n",
    "    left = y[0:-1] # the left side of each trapezoid\n",
    "    right = y[1:] # the right size of each trapezoid\n",
    "    area = np.sum((left + right) / 2 * dx) # the sum of the areas.\n",
    "    return area\n"
   ]
  },
  {
   "cell_type": "code",
   "execution_count": 3,
   "metadata": {},
   "outputs": [
    {
     "data": {
      "text/plain": [
       "2"
      ]
     },
     "execution_count": 3,
     "metadata": {},
     "output_type": "execute_result"
    }
   ],
   "source": [
    "def fx(x):\n",
    "    return x\n",
    "fx(2)"
   ]
  },
  {
   "cell_type": "code",
   "execution_count": 4,
   "metadata": {},
   "outputs": [
    {
     "data": {
      "text/plain": [
       "10.0"
      ]
     },
     "execution_count": 4,
     "metadata": {},
     "output_type": "execute_result"
    }
   ],
   "source": [
    "integrate(fx, 4, 6, 1)"
   ]
  },
  {
   "cell_type": "code",
   "execution_count": 5,
   "metadata": {},
   "outputs": [
    {
     "data": {
      "text/plain": [
       "0.5"
      ]
     },
     "execution_count": 5,
     "metadata": {},
     "output_type": "execute_result"
    }
   ],
   "source": [
    "def fx3(x):\n",
    "    return x**3\n",
    "integrate(fx3, 0, 1, 1)"
   ]
  },
  {
   "cell_type": "code",
   "execution_count": 7,
   "metadata": {},
   "outputs": [
    {
     "data": {
      "text/plain": [
       "[<matplotlib.lines.Line2D at 0x7fc0f5a2cf98>]"
      ]
     },
     "execution_count": 7,
     "metadata": {},
     "output_type": "execute_result"
    },
    {
     "data": {
      "image/png": "[encoded data removed]",
      "text/plain": [
       "<matplotlib.figure.Figure at 0x7fc11d56c080>"
      ]
     },
     "metadata": {},
     "output_type": "display_data"
    }
   ],
   "source": [
    "x = np.linspace(0, 1, 100)\n",
    "y = x**3\n",
    "pylab.plot(x, y)"
   ]
  },
  {
   "cell_type": "code",
   "execution_count": 8,
   "metadata": {},
   "outputs": [
    {
     "data": {
      "text/plain": [
       "0.25250000000000006"
      ]
     },
     "execution_count": 8,
     "metadata": {},
     "output_type": "execute_result"
    }
   ],
   "source": [
    "integrate(fx3, 0, 1, 10)"
   ]
  },
  {
   "cell_type": "code",
   "execution_count": 10,
   "metadata": {},
   "outputs": [
    {
     "data": {
      "text/plain": [
       "0.25000025000000003"
      ]
     },
     "execution_count": 10,
     "metadata": {},
     "output_type": "execute_result"
    }
   ],
   "source": [
    "integrate(fx3, 0, 1, 1000)"
   ]
  }
 ],
 "metadata": {
  "kernelspec": {
   "display_name": "Python 3",
   "language": "python",
   "name": "python3"
  },
  "language_info": {
   "codemirror_mode": {
    "name": "ipython",
    "version": 3
   },
   "file_extension": ".py",
   "mimetype": "text/x-python",
   "name": "python",
   "nbconvert_exporter": "python",
   "pygments_lexer": "ipython3",
   "version": "3.6.1"
  }
 },
 "nbformat": 4,
 "nbformat_minor": 2
}
