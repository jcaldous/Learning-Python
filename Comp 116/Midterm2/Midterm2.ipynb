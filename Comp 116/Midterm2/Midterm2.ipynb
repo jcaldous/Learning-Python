{
 "cells": [
  {
   "cell_type": "markdown",
   "metadata": {},
   "source": [
    "# Midterm Exam 2\n",
    "\n",
    "**Don't Panic!**\n",
    "\n",
    "You **may not use the Internet** for anything except retrieving and submitting your exam. Any other use will be a violation of the Honor Code. \n",
    "\n",
    "You **must turn off wireless on your laptop** while you take the exam.\n",
    "\n",
    "You **may use** any resources that you have stored locally on your computer or any paper notes, books, etc.\n",
    "\n",
    "Of course you **may not** use phones, friends, etc.\n",
    "\n",
    "Enter your **onyen** below."
   ]
  },
  {
   "cell_type": "code",
   "execution_count": 2,
   "metadata": {
    "collapsed": true
   },
   "outputs": [],
   "source": [
    "Onyen = 'jcaldous'"
   ]
  },
  {
   "cell_type": "markdown",
   "metadata": {},
   "source": [
    "## Honor Pledge\n",
    "\n",
    "I certify that no unauthorized assistance has been received or given in the completion of this work. \n",
    "\n",
    "Enter your full name as the value of the Pledge variable below."
   ]
  },
  {
   "cell_type": "code",
   "execution_count": 3,
   "metadata": {
    "collapsed": true
   },
   "outputs": [],
   "source": [
    "Pledge = 'Jessica Aldous'"
   ]
  },
  {
   "cell_type": "markdown",
   "metadata": {},
   "source": [
    "## Data\n",
    "\n",
    "You are given a dataset consisting of measured rainfall in inches at several station scattered across North Carolina for many consecutive days. There is a column for each station and a row for each day. That is, a 10 by 4 array represents 10 days with data at 4 stations for each day.\n",
    "\n",
    "I am **not** telling you the number of stations or the number of days. You'll have to work those things out. Most importantly, you may **not assume** the dataset will be the same size when I do the grading. Your answer must work for any reasonable number of stations and days.\n",
    "\n",
    "I'll load the data for you here. Don't change any of this."
   ]
  },
  {
   "cell_type": "code",
   "execution_count": 4,
   "metadata": {
    "collapsed": true
   },
   "outputs": [],
   "source": [
    "%matplotlib inline\n",
    "import numpy as np\n",
    "import pylab\n",
    "import comp116\n",
    "\n",
    "check, report = comp116.start('Midterm2')\n",
    "from comp116 import check_function\n",
    "\n",
    "rain = np.loadtxt('rain.txt')\n",
    "rain.setflags(write=False) # don't allow writing the array"
   ]
  },
  {
   "cell_type": "markdown",
   "metadata": {},
   "source": [
    "Here are the first few rows of the rain data. Remember it may have a different number of rows and columns when I grade it."
   ]
  },
  {
   "cell_type": "code",
   "execution_count": 5,
   "metadata": {},
   "outputs": [
    {
     "data": {
      "text/plain": [
       "array([[ 0.  ,  0.  ,  0.  ,  0.  ,  0.  ],\n",
       "       [ 0.03,  0.  ,  0.  ,  0.  ,  0.  ],\n",
       "       [ 0.16,  0.28,  0.  ,  0.83,  0.  ],\n",
       "       [ 2.22,  0.03,  0.  ,  0.01,  0.  ],\n",
       "       [ 0.03,  0.02,  0.87,  0.  ,  0.  ]])"
      ]
     },
     "execution_count": 5,
     "metadata": {},
     "output_type": "execute_result"
    }
   ],
   "source": [
    "rain[:5]"
   ]
  },
  {
   "cell_type": "markdown",
   "metadata": {},
   "source": [
    "## 1. How many days had 0 rain at all stations?\n",
    "\n",
    "Write a function F1 that takes an array like the one above as its only argument and returns the number of days."
   ]
  },
  {
   "cell_type": "code",
   "execution_count": 6,
   "metadata": {},
   "outputs": [
    {
     "name": "stdout",
     "output_type": "stream",
     "text": [
      "F1 result\n",
      "34\n",
      "F1 appears correct\n"
     ]
    }
   ],
   "source": [
    "# define your function F1 here. My checking code will call it for you.\n",
    "def F1(data):\n",
    "    count=0\n",
    "    for i in range(len(data)):\n",
    "        if np.all(data[i]==0):\n",
    "            count=count+1\n",
    "    return count\n",
    "# Let's see what your function returns\n",
    "Q1 = F1(rain)\n",
    "print('F1 result')\n",
    "print(Q1)\n",
    "\n",
    "check_function('F1', F1, rain, points=15)"
   ]
  },
  {
   "cell_type": "markdown",
   "metadata": {},
   "source": [
    "## 2. Which day had the greatest difference between the maximum and minimum rainfall?\n",
    "\n",
    "Write a function F2 that takes an array like the one above as its only argument and returns the index of the day."
   ]
  },
  {
   "cell_type": "code",
   "execution_count": 7,
   "metadata": {},
   "outputs": [
    {
     "data": {
      "text/plain": [
       "0"
      ]
     },
     "execution_count": 7,
     "metadata": {},
     "output_type": "execute_result"
    }
   ],
   "source": [
    "np.argmax(np.max(rain[1])-np.min(rain[1]))"
   ]
  },
  {
   "cell_type": "code",
   "execution_count": 8,
   "metadata": {},
   "outputs": [
    {
     "name": "stdout",
     "output_type": "stream",
     "text": [
      "F2 result\n",
      "3\n",
      "F2 appears correct\n"
     ]
    }
   ],
   "source": [
    "# define your function F2 here. My checking code will call it for you.\n",
    "def F2(data):\n",
    "    r=[]\n",
    "    for i in range(len(data)):\n",
    "        r.append(np.max(data[i])-np.min(data[i]))\n",
    "    return np.argmax(r) \n",
    "# Let's see what your function returns\n",
    "Q2 = F2(rain)\n",
    "print('F2 result')\n",
    "print(Q2)\n",
    "\n",
    "check_function('F2', F2, rain, points=20)"
   ]
  },
  {
   "cell_type": "markdown",
   "metadata": {},
   "source": [
    "## 3. What was the longest run of days where at least one station had less than R inches of rain?\n",
    "\n",
    "Write a function F3 that takes two arguments, an array like the one above and a float giving the amount of rain. It should return the length of the longest run of consecutive days where the rain for at least one of the stations was less than R.\n",
    "\n",
    "For example, F3(rain, 0.1) would return an integer giving the length of the longest run of days where the rainfall for at least one station was less than 0.1 inches."
   ]
  },
  {
   "cell_type": "code",
   "execution_count": 9,
   "metadata": {},
   "outputs": [
    {
     "data": {
      "text/plain": [
       "1"
      ]
     },
     "execution_count": 9,
     "metadata": {},
     "output_type": "execute_result"
    }
   ],
   "source": [
    "#template\n",
    "def F3(data):\n",
    "    station_count=np.zeros(np.shape(data)[1])\n",
    "    for i in range(len(data)):\n",
    "        if np.any(data[i,:]!=0):\n",
    "            highest=np.argmax(data[i,:])\n",
    "            station_count[highest]= station_count[highest]+1\n",
    "    return np.argmax(station_count)+1\n",
    "F3(rain)"
   ]
  },
  {
   "cell_type": "code",
   "execution_count": 10,
   "metadata": {},
   "outputs": [
    {
     "name": "stdout",
     "output_type": "stream",
     "text": [
      "F3 result\n",
      "32\n",
      "F3 appears correct\n"
     ]
    }
   ],
   "source": [
    "# define your function F3 here. My checking code will call it for you.\n",
    "def F3(data, R):\n",
    "    count=0\n",
    "    max_count=0\n",
    "    for i in range(len(data)):\n",
    "        if np.any(data[i]<R):\n",
    "            count=count+1\n",
    "        else:\n",
    "            count=0\n",
    "        if count> max_count:\n",
    "            max_count=count\n",
    "    return max_count\n",
    "# Let's see what your function returns\n",
    "Q3 = F3(rain, 0.02)\n",
    "print('F3 result')\n",
    "print(Q3)\n",
    "\n",
    "check_function('F3', F3, rain, 0.03, points=20)"
   ]
  },
  {
   "cell_type": "markdown",
   "metadata": {},
   "source": [
    "## 4. For each station, how many days had more rain than the previous day?\n",
    "\n",
    "Write a function F4 that takes an array like the one above as its only argument and returns a list with the number of days for each station where the rainfall was greater than the day before."
   ]
  },
  {
   "cell_type": "code",
   "execution_count": 11,
   "metadata": {},
   "outputs": [
    {
     "data": {
      "text/plain": [
       "array([0, 0, 0, 0, 0])"
      ]
     },
     "execution_count": 11,
     "metadata": {},
     "output_type": "execute_result"
    }
   ],
   "source": [
    "station_count=np.zeros(np.shape(rain)[1])\n",
    "np.int_(station_count)"
   ]
  },
  {
   "cell_type": "code",
   "execution_count": 12,
   "metadata": {},
   "outputs": [
    {
     "data": {
      "text/plain": [
       "array([42, 28, 37, 41, 32])"
      ]
     },
     "execution_count": 12,
     "metadata": {},
     "output_type": "execute_result"
    }
   ],
   "source": [
    "np.count_nonzero(rain[1:,:]>rain[0:-1,:], axis=0)"
   ]
  },
  {
   "cell_type": "code",
   "execution_count": 13,
   "metadata": {},
   "outputs": [
    {
     "name": "stdout",
     "output_type": "stream",
     "text": [
      "F4 result\n",
      "[ 42.  28.  37.  41.  32.]\n",
      "F4 incorrect type\n",
      "your answer type is array of 5 floats\n",
      "expected type is list of 5 integers\n"
     ]
    }
   ],
   "source": [
    "def F4(data):\n",
    "    r=[]\n",
    "    station_count=np.zeros(np.shape(data)[1])\n",
    "    for i in range(1,len(data)):\n",
    "        for n in range(len(station_count)):\n",
    "            if np.any(data[i,n]>data[i-1,n]):\n",
    "                station_count[n]= station_count[n]+1\n",
    "    return station_count\n",
    "\n",
    "# Let's see what your function returns\n",
    "Q4 = F4(rain)\n",
    "print('F4 result')\n",
    "print(Q4)\n",
    "\n",
    "check_function('F4', F4, rain, points=20)"
   ]
  },
  {
   "cell_type": "markdown",
   "metadata": {
    "collapsed": true
   },
   "source": [
    "## 5. Which station had the longest run of days with no rain?\n",
    "\n",
    "Write a function F5 that takes an array like the one above as its only argument and returns the index of the station (column)."
   ]
  },
  {
   "cell_type": "code",
   "execution_count": 14,
   "metadata": {},
   "outputs": [
    {
     "name": "stdout",
     "output_type": "stream",
     "text": [
      "F5 result\n",
      "4\n",
      "F5 appears correct\n"
     ]
    }
   ],
   "source": [
    "def F5(data):\n",
    "    station_count=np.zeros(np.shape(data)[1])\n",
    "    r=np.zeros(np.shape(data)[1])\n",
    "    for i in range(len(data)):\n",
    "        for n in range(len(station_count)):\n",
    "            if (data[i,n]==0):\n",
    "                station_count[n]= station_count[n]+1\n",
    "            else:\n",
    "                station_count[n]=0\n",
    "            if station_count[n]>r[n]:\n",
    "                r[n]=station_count[n]\n",
    "    return np.argmax(r)\n",
    "# Let's see what your function returns\n",
    "Q5 = F5(rain)\n",
    "print('F5 result')\n",
    "print(Q5)\n",
    "\n",
    "check_function('F5', F5, rain, points=25)"
   ]
  },
  {
   "cell_type": "markdown",
   "metadata": {},
   "source": [
    "## Done!\n",
    "\n",
    "Now go back, restart the kernel (Kernel menu -> Restart), and then Shift-Enter your way through the notebook to run all the cells again so you an be sure all your code will work as you expect during grading."
   ]
  },
  {
   "cell_type": "code",
   "execution_count": 15,
   "metadata": {},
   "outputs": [
    {
     "name": "stdout",
     "output_type": "stream",
     "text": [
      "F1 appears correct\n",
      "F2 appears correct\n",
      "F3 appears correct\n",
      "F4 incorrect\n",
      "F5 appears correct\n",
      "Report for jcaldous\n",
      "  Pledged on my honor: Jessica Aldous\n",
      "    jcaldous\n",
      "  4.0 of 5 possibly correct for up to 80.0 of 100 points\n"
     ]
    },
    {
     "data": {
      "text/html": [
       "\n",
       "<p>Click the button below to submit your notebook. Watch for a confirmation message\n",
       "that your notebook was successfully uploaded. You may submit as often as you wish,\n",
       "only the last submission will count.</p>\n",
       "<button id=\"submitButton116\">Submit this notebook</button>\n",
       "<p id=\"submitResponse116\"></p>\n",
       "<script>\n",
       "var site = 'https://wwwx.cs.unc.edu/Courses/comp116-f17/';\n",
       "$('#submitButton116').on('click', function() {\n",
       "    var site = 'https://wwwx.cs.unc.edu/Courses/comp116-f17/',\n",
       "        $sresp = $('#submitResponse116'),\n",
       "        button = $('#submitButton116');\n",
       "    button.prop('disabled', true);\n",
       "    // wait until save is complete before pushing the notebook\n",
       "    $([IPython.events]).one('notebook_saved.Notebook', function() {\n",
       "        // get the token by logging in\n",
       "        $sresp.html('logging in');\n",
       "        $.ajax({\n",
       "            url: site + 'io/token/token.cgi',\n",
       "            dataType: 'jsonp'\n",
       "        }).done(function(data) {\n",
       "            var notebook = IPython.notebook.notebook_name,\n",
       "                uuid = data.token,\n",
       "                command = \"comp116.pushNotebook('\" + notebook + \"', '\" + uuid + \"')\",\n",
       "                kernel = IPython.notebook.kernel,\n",
       "                handler = function (out) {\n",
       "                    $('#comp116-stop-message').show();\n",
       "                    if (out.content.status == \"ok\") {\n",
       "                        $sresp.html(\"Successfully submitted \" + notebook);\n",
       "                        $('#comp116-stop-message').hide();\n",
       "                    } else if(out.content.status == \"error\") {\n",
       "                        $sresp.html(out.content.ename + \": \" + out.content.evalue);\n",
       "                    } else { // if output is something we haven't thought of\n",
       "                        $sresp.html(\"[out type not implemented]\")\n",
       "                    }\n",
       "                    button.prop('disabled', false);\n",
       "                };\n",
       "            $sresp.html('Submitting');\n",
       "            kernel.execute(command, {shell: { reply: handler }});\n",
       "        }).fail(function() {\n",
       "            $sresp.html('Login failed');\n",
       "            button.prop('disabled', false);\n",
       "        });\n",
       "    });\n",
       "    // trigger the save\n",
       "    $sresp.html('Saving');\n",
       "    IPython.notebook.save_notebook();\n",
       "});"
      ],
      "text/plain": [
       "<IPython.core.display.HTML object>"
      ]
     },
     "execution_count": 15,
     "metadata": {},
     "output_type": "execute_result"
    }
   ],
   "source": [
    "# Do NOT modify this\n",
    "report(Onyen, Pledge)"
   ]
  },
  {
   "cell_type": "markdown",
   "metadata": {},
   "source": [
    "# You MUST scan your one-card before you leave the room"
   ]
  }
 ],
 "metadata": {
  "kernelspec": {
   "display_name": "Python 3",
   "language": "python",
   "name": "python3"
  },
  "language_info": {
   "codemirror_mode": {
    "name": "ipython",
    "version": 3
   },
   "file_extension": ".py",
   "mimetype": "text/x-python",
   "name": "python",
   "nbconvert_exporter": "python",
   "pygments_lexer": "ipython3",
   "version": "3.6.1"
  }
 },
 "nbformat": 4,
 "nbformat_minor": 2
}
